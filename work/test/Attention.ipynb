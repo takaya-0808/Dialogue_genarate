{
 "cells": [
  {
   "cell_type": "code",
   "execution_count": 18,
   "metadata": {},
   "outputs": [
    {
     "name": "stdout",
     "output_type": "stream",
     "text": [
      "The tensorboard extension is already loaded. To reload it, use:\n",
      "  %reload_ext tensorboard\n"
     ]
    }
   ],
   "source": [
    "import tensorflow as tf\n",
    "import tensorflow_datasets as tfds\n",
    "import numpy as np\n",
    "import pandas\n",
    "import json\n",
    "import matplotlib.pyplot as plt\n",
    "%load_ext tensorboard"
   ]
  },
  {
   "cell_type": "markdown",
   "metadata": {},
   "source": [
    "# 訓練データ収集"
   ]
  },
  {
   "cell_type": "code",
   "execution_count": 17,
   "metadata": {},
   "outputs": [
    {
     "name": "stdout",
     "output_type": "stream",
     "text": [
      "Attention.ipynb  Dockerfile  requirements.txt\n"
     ]
    }
   ],
   "source": []
  },
  {
   "cell_type": "markdown",
   "metadata": {},
   "source": [
    "# モデルの実行"
   ]
  },
  {
   "cell_type": "markdown",
   "metadata": {},
   "source": [
    "## Attentionモデル"
   ]
  },
  {
   "cell_type": "code",
   "execution_count": null,
   "metadata": {},
   "outputs": [],
   "source": []
  },
  {
   "cell_type": "code",
   "execution_count": null,
   "metadata": {},
   "outputs": [],
   "source": []
  },
  {
   "cell_type": "markdown",
   "metadata": {},
   "source": [
    "## Attentionの練習"
   ]
  },
  {
   "cell_type": "code",
   "execution_count": 19,
   "metadata": {
    "collapsed": true,
    "jupyter": {
     "outputs_hidden": true
    }
   },
   "outputs": [
    {
     "name": "stdout",
     "output_type": "stream",
     "text": [
      "WARNING:tensorflow:Layer dense is casting an input tensor from dtype float64 to the layer's dtype of float32, which is new behavior in TensorFlow 2.  The layer has dtype float32 because its dtype defaults to floatx.\n",
      "\n",
      "If you intended to run this layer in float32, you can safely ignore this warning. If in doubt, this warning is likely only an issue if you are porting a TensorFlow 1.X model to TensorFlow 2.\n",
      "\n",
      "To change all layers to have dtype float64 by default, call `tf.keras.backend.set_floatx('float64')`. To change just this layer, pass dtype='float64' to the layer constructor. If you are the author of this layer, you can disable autocasting by passing autocast=False to the base Layer constructor.\n",
      "\n",
      "(2, 100)\n",
      "tf.Tensor(\n",
      "[[-0.15912557  0.12352924 -0.14622808 -0.0355926  -0.0088122  -0.04607204\n",
      "  -0.03859956  0.06955079  0.01503276 -0.01620771  0.04252434 -0.03936415\n",
      "  -0.01287506  0.00021173  0.06471759  0.00290111 -0.00209057 -0.03868064\n",
      "  -0.01750389  0.06098255 -0.07495019 -0.00973896  0.12422068 -0.05948596\n",
      "  -0.03720281 -0.13585901  0.10724473  0.05601651  0.01352365  0.03951569\n",
      "  -0.03618198 -0.09193882 -0.01341878  0.04338136  0.02823093  0.02600539\n",
      "  -0.0923848  -0.02442947  0.12170713 -0.05872709  0.11054735  0.04996944\n",
      "  -0.02265499 -0.07946571  0.11802876 -0.03378857  0.01301776 -0.10164379\n",
      "   0.09529797  0.08387198 -0.02529989  0.02446231  0.06313843  0.10625595\n",
      "  -0.05494602 -0.18760669  0.08391208 -0.02238329 -0.04684392  0.02430013\n",
      "   0.09402011 -0.02264858 -0.02747278 -0.02480192  0.01735486  0.1097813\n",
      "   0.00088423  0.12275334 -0.10348713 -0.11393986 -0.07700357  0.10942359\n",
      "  -0.00166946 -0.1513218  -0.00774091  0.04871799 -0.04676267  0.00440706\n",
      "   0.03098108 -0.04530685 -0.03610199 -0.06088722 -0.05320474  0.06201899\n",
      "  -0.09335177 -0.05799188  0.08604959 -0.0967021  -0.10630013 -0.00116055\n",
      "  -0.13321242  0.03531002  0.0105314   0.04109276  0.08094029 -0.05802733\n",
      "   0.1777121  -0.06191191  0.02907338  0.01399116]\n",
      " [-0.08140768  0.04950741 -0.06604145 -0.01575056 -0.00641904 -0.04003607\n",
      "  -0.01186366  0.02450087  0.01077744 -0.01297345  0.00749945 -0.02580464\n",
      "  -0.00988623  0.0004246   0.02628135 -0.00391202  0.01441132 -0.01957927\n",
      "  -0.00498964  0.04051754 -0.02081357  0.00088907  0.06403767 -0.02329903\n",
      "  -0.03026814 -0.05741353  0.03973217  0.03411841 -0.00740198  0.01268816\n",
      "  -0.02563047 -0.04725246 -0.01656662  0.0156686   0.01140769  0.02061587\n",
      "  -0.05094082 -0.00682068  0.06403123 -0.02808346  0.05451423  0.01092758\n",
      "  -0.00626519 -0.02566429  0.05466082 -0.02528492  0.00383545 -0.04411127\n",
      "   0.05916847  0.02971978 -0.01734028  0.0060806   0.00913074  0.0506133\n",
      "  -0.01165492 -0.09188305  0.04286869 -0.00917333 -0.03657953  0.01060911\n",
      "   0.04595168 -0.00518731 -0.01423855 -0.02429538  0.00350698  0.0433393\n",
      "   0.02148202  0.06568632 -0.04137464 -0.05840533 -0.03812484  0.04922067\n",
      "   0.0110434  -0.06652468  0.01254499  0.03922534 -0.01553984 -0.01256833\n",
      "   0.02061548 -0.00345945 -0.00043937 -0.02074124 -0.02359447  0.04290677\n",
      "  -0.0433407  -0.0189994   0.03507205 -0.04117003 -0.05461963  0.00670706\n",
      "  -0.05248823  0.01440119  0.01772734  0.0241213   0.03738634 -0.04392179\n",
      "   0.0888456  -0.02532664 -0.00201051 -0.01184829]], shape=(2, 100), dtype=float32)\n"
     ]
    }
   ],
   "source": [
    "inputs = np.array([[0.1, 0.3, 0.4], [0.1, 0.1, 0.2]])\n",
    "out = tf.keras.layers.Dense(100)(inputs)\n",
    "print(out.shape)\n",
    "print(out)"
   ]
  },
  {
   "cell_type": "code",
   "execution_count": null,
   "metadata": {},
   "outputs": [],
   "source": [
    "class SimpleAttention(tf.keras.model.Model):\n",
    "    def __init__(self, )"
   ]
  }
 ],
 "metadata": {
  "kernelspec": {
   "display_name": "Python 3",
   "language": "python",
   "name": "python3"
  },
  "language_info": {
   "codemirror_mode": {
    "name": "ipython",
    "version": 3
   },
   "file_extension": ".py",
   "mimetype": "text/x-python",
   "name": "python",
   "nbconvert_exporter": "python",
   "pygments_lexer": "ipython3",
   "version": "3.8.5"
  }
 },
 "nbformat": 4,
 "nbformat_minor": 4
}
