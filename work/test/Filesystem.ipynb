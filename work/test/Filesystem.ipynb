{
 "cells": [
  {
   "cell_type": "code",
   "execution_count": 2,
   "metadata": {},
   "outputs": [],
   "source": [
    "import pandas as pd\n",
    "import glob\n",
    "import matplotlib.pyplot as plt\n",
    "import numpy as np"
   ]
  },
  {
   "cell_type": "markdown",
   "metadata": {},
   "source": [
    "## filepath"
   ]
  },
  {
   "cell_type": "code",
   "execution_count": 2,
   "metadata": {},
   "outputs": [],
   "source": [
    "#train_data = \"../Switchboard-Corpus/swda_data/train_set.txt\"\n",
    "#test_data = \"../Switchboard-Corpus/swda_data/test_set.txt\"\n",
    "#val_data = \"../Switchboard-Corpus/swda_data/val_set.txt\""
   ]
  },
  {
   "cell_type": "markdown",
   "metadata": {},
   "source": [
    "## 練習"
   ]
  },
  {
   "cell_type": "code",
   "execution_count": 1,
   "metadata": {},
   "outputs": [],
   "source": [
    "swda_pass = \"../Switchboard-Corpus/swda_data/\"\n",
    "dir_list = [\"train\", \"test\", \"val\"]"
   ]
  },
  {
   "cell_type": "code",
   "execution_count": 30,
   "metadata": {},
   "outputs": [
    {
     "data": {
      "text/plain": [
       "1115"
      ]
     },
     "execution_count": 30,
     "metadata": {},
     "output_type": "execute_result"
    }
   ],
   "source": [
    "len(glob.glob(swda_pass + \"train/*\"))"
   ]
  },
  {
   "cell_type": "code",
   "execution_count": 47,
   "metadata": {},
   "outputs": [
    {
     "data": {
      "text/plain": [
       "'../Switchboard-Corpus/swda_data/train/2228.txt'"
      ]
     },
     "execution_count": 47,
     "metadata": {},
     "output_type": "execute_result"
    }
   ],
   "source": [
    "glob.glob(swda_pass + \"train/*\")[0]"
   ]
  },
  {
   "cell_type": "markdown",
   "metadata": {},
   "source": [
    "# 対話ルール設定"
   ]
  },
  {
   "cell_type": "code",
   "execution_count": null,
   "metadata": {},
   "outputs": [],
   "source": []
  },
  {
   "cell_type": "code",
   "execution_count": 56,
   "metadata": {},
   "outputs": [],
   "source": [
    "user_lists = []\n",
    "\n",
    "utter_user = []\n",
    "utter = []\n",
    "utter_label = []\n",
    "\n",
    "train_ = []\n",
    "test_ = []\n",
    "val_ = []"
   ]
  },
  {
   "cell_type": "code",
   "execution_count": 57,
   "metadata": {},
   "outputs": [],
   "source": [
    "train_dataset = []\n",
    "test_dataset = []\n",
    "val_dataset = []"
   ]
  },
  {
   "cell_type": "code",
   "execution_count": 58,
   "metadata": {
    "collapsed": true,
    "jupyter": {
     "outputs_hidden": true
    }
   },
   "outputs": [
    {
     "name": "stdout",
     "output_type": "stream",
     "text": [
      "../Switchboard-Corpus/swda_data/train/2228.txt\n",
      "../Switchboard-Corpus/swda_data/train/3136.txt\n",
      "../Switchboard-Corpus/swda_data/train/4659.txt\n",
      "../Switchboard-Corpus/swda_data/train/2566.txt\n",
      "../Switchboard-Corpus/swda_data/train/4103.txt\n",
      "../Switchboard-Corpus/swda_data/train/2599.txt\n",
      "../Switchboard-Corpus/swda_data/train/4856.txt\n",
      "../Switchboard-Corpus/swda_data/train/3693.txt\n",
      "../Switchboard-Corpus/swda_data/train/3320.txt\n",
      "../Switchboard-Corpus/swda_data/train/4329.txt\n",
      "../Switchboard-Corpus/swda_data/train/2994.txt\n",
      "../Switchboard-Corpus/swda_data/train/3334.txt\n",
      "../Switchboard-Corpus/swda_data/train/2770.txt\n",
      "../Switchboard-Corpus/swda_data/train/3491.txt\n",
      "../Switchboard-Corpus/swda_data/train/2957.txt\n",
      "../Switchboard-Corpus/swda_data/train/3254.txt\n",
      "../Switchboard-Corpus/swda_data/train/3526.txt\n",
      "../Switchboard-Corpus/swda_data/train/2638.txt\n",
      "../Switchboard-Corpus/swda_data/train/3268.txt\n",
      "../Switchboard-Corpus/swda_data/train/2610.txt\n",
      "../Switchboard-Corpus/swda_data/train/2604.txt\n",
      "../Switchboard-Corpus/swda_data/train/2837.txt\n",
      "../Switchboard-Corpus/swda_data/train/3283.txt\n",
      "../Switchboard-Corpus/swda_data/train/3056.txt\n",
      "../Switchboard-Corpus/swda_data/train/3042.txt\n",
      "../Switchboard-Corpus/swda_data/train/2406.txt\n",
      "../Switchboard-Corpus/swda_data/train/4077.txt\n",
      "../Switchboard-Corpus/swda_data/train/3095.txt\n",
      "../Switchboard-Corpus/swda_data/train/4936.txt\n",
      "../Switchboard-Corpus/swda_data/train/3081.txt\n",
      "../Switchboard-Corpus/swda_data/train/3917.txt\n",
      "../Switchboard-Corpus/swda_data/train/3903.txt\n",
      "../Switchboard-Corpus/swda_data/train/3902.txt\n",
      "../Switchboard-Corpus/swda_data/train/3080.txt\n",
      "../Switchboard-Corpus/swda_data/train/2407.txt\n",
      "../Switchboard-Corpus/swda_data/train/2413.txt\n",
      "../Switchboard-Corpus/swda_data/train/3725.txt\n",
      "../Switchboard-Corpus/swda_data/train/2349.txt\n",
      "../Switchboard-Corpus/swda_data/train/3057.txt\n",
      "../Switchboard-Corpus/swda_data/train/3282.txt\n",
      "../Switchboard-Corpus/swda_data/train/3296.txt\n",
      "../Switchboard-Corpus/swda_data/train/2163.txt\n",
      "../Switchboard-Corpus/swda_data/train/3269.txt\n",
      "../Switchboard-Corpus/swda_data/train/2177.txt\n",
      "../Switchboard-Corpus/swda_data/train/2611.txt\n",
      "../Switchboard-Corpus/swda_data/train/3527.txt\n",
      "../Switchboard-Corpus/swda_data/train/3255.txt\n",
      "../Switchboard-Corpus/swda_data/train/3533.txt\n",
      "../Switchboard-Corpus/swda_data/train/2956.txt\n",
      "../Switchboard-Corpus/swda_data/train/2942.txt\n",
      "../Switchboard-Corpus/swda_data/train/3309.txt\n",
      "../Switchboard-Corpus/swda_data/train/4314.txt\n",
      "../Switchboard-Corpus/swda_data/train/2995.txt\n",
      "../Switchboard-Corpus/swda_data/train/3453.txt\n",
      "../Switchboard-Corpus/swda_data/train/2981.txt\n",
      "../Switchboard-Corpus/swda_data/train/3447.txt\n",
      "../Switchboard-Corpus/swda_data/train/2759.txt\n",
      "../Switchboard-Corpus/swda_data/train/3876.txt\n",
      "../Switchboard-Corpus/swda_data/train/3862.txt\n",
      "../Switchboard-Corpus/swda_data/train/3692.txt\n",
      "../Switchboard-Corpus/swda_data/train/3686.txt\n",
      "../Switchboard-Corpus/swda_data/train/2598.txt\n",
      "../Switchboard-Corpus/swda_data/train/4880.txt\n",
      "../Switchboard-Corpus/swda_data/train/3651.txt\n",
      "../Switchboard-Corpus/swda_data/train/3135.txt\n",
      "../Switchboard-Corpus/swda_data/train/3121.txt\n",
      "../Switchboard-Corpus/swda_data/train/3647.txt\n",
      "../Switchboard-Corpus/swda_data/train/2559.txt\n",
      "../Switchboard-Corpus/swda_data/train/2571.txt\n",
      "../Switchboard-Corpus/swda_data/train/4666.txt\n",
      "../Switchboard-Corpus/swda_data/train/4114.txt\n",
      "../Switchboard-Corpus/swda_data/train/2565.txt\n",
      "../Switchboard-Corpus/swda_data/train/3451.txt\n",
      "../Switchboard-Corpus/swda_data/train/3445.txt\n",
      "../Switchboard-Corpus/swda_data/train/2983.txt\n",
      "../Switchboard-Corpus/swda_data/train/2015.txt\n",
      "../Switchboard-Corpus/swda_data/train/2773.txt\n",
      "../Switchboard-Corpus/swda_data/train/2767.txt\n",
      "../Switchboard-Corpus/swda_data/train/4316.txt\n",
      "../Switchboard-Corpus/swda_data/train/2954.txt\n",
      "../Switchboard-Corpus/swda_data/train/2968.txt\n",
      "../Switchboard-Corpus/swda_data/train/3525.txt\n",
      "../Switchboard-Corpus/swda_data/train/2149.txt\n",
      "../Switchboard-Corpus/swda_data/train/3257.txt\n",
      "../Switchboard-Corpus/swda_data/train/2175.txt\n",
      "../Switchboard-Corpus/swda_data/train/3280.txt\n",
      "../Switchboard-Corpus/swda_data/train/2820.txt\n",
      "../Switchboard-Corpus/swda_data/train/2834.txt\n",
      "../Switchboard-Corpus/swda_data/train/3294.txt\n",
      "../Switchboard-Corpus/swda_data/train/2439.txt\n",
      "../Switchboard-Corpus/swda_data/train/3727.txt\n",
      "../Switchboard-Corpus/swda_data/train/4048.txt\n",
      "../Switchboard-Corpus/swda_data/train/3041.txt\n",
      "../Switchboard-Corpus/swda_data/train/3055.txt\n",
      "../Switchboard-Corpus/swda_data/train/2405.txt\n",
      "../Switchboard-Corpus/swda_data/train/4074.txt\n",
      "../Switchboard-Corpus/swda_data/train/3069.txt\n",
      "../Switchboard-Corpus/swda_data/train/4060.txt\n",
      "../Switchboard-Corpus/swda_data/train/3082.txt\n",
      "../Switchboard-Corpus/swda_data/train/3096.txt\n",
      "../Switchboard-Corpus/swda_data/train/4908.txt\n",
      "../Switchboard-Corpus/swda_data/train/3097.txt\n",
      "../Switchboard-Corpus/swda_data/train/2389.txt\n",
      "../Switchboard-Corpus/swda_data/train/3083.txt\n",
      "../Switchboard-Corpus/swda_data/train/2376.txt\n",
      "../Switchboard-Corpus/swda_data/train/3068.txt\n",
      "../Switchboard-Corpus/swda_data/train/4707.txt\n",
      "../Switchboard-Corpus/swda_data/train/2362.txt\n",
      "../Switchboard-Corpus/swda_data/train/3054.txt\n",
      "../Switchboard-Corpus/swda_data/train/4049.txt\n",
      "../Switchboard-Corpus/swda_data/train/3040.txt\n",
      "../Switchboard-Corpus/swda_data/train/2835.txt\n",
      "../Switchboard-Corpus/swda_data/train/3281.txt\n",
      "../Switchboard-Corpus/swda_data/train/2821.txt\n",
      "../Switchboard-Corpus/swda_data/train/2160.txt\n",
      "../Switchboard-Corpus/swda_data/train/3518.txt\n",
      "../Switchboard-Corpus/swda_data/train/3530.txt\n",
      "../Switchboard-Corpus/swda_data/train/3256.txt\n",
      "../Switchboard-Corpus/swda_data/train/3242.txt\n",
      "../Switchboard-Corpus/swda_data/train/3524.txt\n",
      "../Switchboard-Corpus/swda_data/train/2969.txt\n",
      "../Switchboard-Corpus/swda_data/train/3487.txt\n",
      "../Switchboard-Corpus/swda_data/train/2955.txt\n",
      "../Switchboard-Corpus/swda_data/train/2766.txt\n",
      "../Switchboard-Corpus/swda_data/train/2772.txt\n",
      "../Switchboard-Corpus/swda_data/train/2982.txt\n",
      "../Switchboard-Corpus/swda_data/train/2028.txt\n",
      "../Switchboard-Corpus/swda_data/train/2996.txt\n",
      "../Switchboard-Corpus/swda_data/train/3450.txt\n",
      "../Switchboard-Corpus/swda_data/train/4868.txt\n",
      "../Switchboard-Corpus/swda_data/train/3691.txt\n",
      "../Switchboard-Corpus/swda_data/train/4840.txt\n",
      "../Switchboard-Corpus/swda_data/train/4698.txt\n",
      "../Switchboard-Corpus/swda_data/train/2570.txt\n",
      "../Switchboard-Corpus/swda_data/train/4101.txt\n",
      "../Switchboard-Corpus/swda_data/train/3108.txt\n",
      "../Switchboard-Corpus/swda_data/train/3120.txt\n",
      "../Switchboard-Corpus/swda_data/train/2558.txt\n",
      "../Switchboard-Corpus/swda_data/train/3646.txt\n",
      "../Switchboard-Corpus/swda_data/train/4129.txt\n",
      "../Switchboard-Corpus/swda_data/train/3134.txt\n",
      "../Switchboard-Corpus/swda_data/train/3118.txt\n",
      "../Switchboard-Corpus/swda_data/train/3130.txt\n",
      "../Switchboard-Corpus/swda_data/train/2548.txt\n",
      "../Switchboard-Corpus/swda_data/train/3642.txt\n",
      "../Switchboard-Corpus/swda_data/train/3124.txt\n",
      "../Switchboard-Corpus/swda_data/train/3681.txt\n",
      "../Switchboard-Corpus/swda_data/train/4688.txt\n",
      "../Switchboard-Corpus/swda_data/train/2776.txt\n",
      "../Switchboard-Corpus/swda_data/train/2010.txt\n",
      "../Switchboard-Corpus/swda_data/train/2992.txt\n",
      "../Switchboard-Corpus/swda_data/train/3454.txt\n",
      "../Switchboard-Corpus/swda_data/train/3332.txt\n",
      "../Switchboard-Corpus/swda_data/train/3326.txt\n",
      "../Switchboard-Corpus/swda_data/train/2038.txt\n",
      "../Switchboard-Corpus/swda_data/train/3497.txt\n",
      "../Switchboard-Corpus/swda_data/train/2789.txt\n",
      "../Switchboard-Corpus/swda_data/train/2945.txt\n",
      "../Switchboard-Corpus/swda_data/train/2602.txt\n",
      "../Switchboard-Corpus/swda_data/train/3508.txt\n",
      "../Switchboard-Corpus/swda_data/train/2616.txt\n",
      "../Switchboard-Corpus/swda_data/train/3246.txt\n",
      "../Switchboard-Corpus/swda_data/train/3252.txt\n",
      "../Switchboard-Corpus/swda_data/train/2819.txt\n",
      "../Switchboard-Corpus/swda_data/train/3291.txt\n",
      "../Switchboard-Corpus/swda_data/train/2366.txt\n",
      "../Switchboard-Corpus/swda_data/train/4071.txt\n",
      "../Switchboard-Corpus/swda_data/train/4703.txt\n",
      "../Switchboard-Corpus/swda_data/train/2372.txt\n",
      "../Switchboard-Corpus/swda_data/train/3736.txt\n",
      "../Switchboard-Corpus/swda_data/train/3050.txt\n",
      "../Switchboard-Corpus/swda_data/train/3911.txt\n",
      "../Switchboard-Corpus/swda_data/train/2399.txt\n",
      "../Switchboard-Corpus/swda_data/train/3087.txt\n",
      "../Switchboard-Corpus/swda_data/train/3093.txt\n",
      "../Switchboard-Corpus/swda_data/train/3092.txt\n",
      "../Switchboard-Corpus/swda_data/train/3086.txt\n",
      "../Switchboard-Corpus/swda_data/train/2429.txt\n",
      "../Switchboard-Corpus/swda_data/train/3051.txt\n",
      "../Switchboard-Corpus/swda_data/train/3045.txt\n",
      "../Switchboard-Corpus/swda_data/train/3723.txt\n",
      "../Switchboard-Corpus/swda_data/train/4064.txt\n",
      "../Switchboard-Corpus/swda_data/train/2373.txt\n",
      "../Switchboard-Corpus/swda_data/train/4716.txt\n",
      "../Switchboard-Corpus/swda_data/train/3290.txt\n",
      "../Switchboard-Corpus/swda_data/train/2830.txt\n",
      "../Switchboard-Corpus/swda_data/train/3284.txt\n",
      "../Switchboard-Corpus/swda_data/train/2818.txt\n",
      "../Switchboard-Corpus/swda_data/train/3253.txt\n",
      "../Switchboard-Corpus/swda_data/train/3535.txt\n",
      "../Switchboard-Corpus/swda_data/train/3521.txt\n",
      "../Switchboard-Corpus/swda_data/train/3247.txt\n",
      "../Switchboard-Corpus/swda_data/train/2171.txt\n",
      "../Switchboard-Corpus/swda_data/train/2617.txt\n",
      "../Switchboard-Corpus/swda_data/train/3509.txt\n",
      "../Switchboard-Corpus/swda_data/train/2603.txt\n",
      "../Switchboard-Corpus/swda_data/train/2944.txt\n",
      "../Switchboard-Corpus/swda_data/train/2788.txt\n",
      "../Switchboard-Corpus/swda_data/train/3496.txt\n",
      "../Switchboard-Corpus/swda_data/train/2950.txt\n",
      "../Switchboard-Corpus/swda_data/train/2039.txt\n",
      "../Switchboard-Corpus/swda_data/train/3327.txt\n",
      "../Switchboard-Corpus/swda_data/train/3441.txt\n",
      "../Switchboard-Corpus/swda_data/train/3455.txt\n",
      "../Switchboard-Corpus/swda_data/train/2993.txt\n",
      "../Switchboard-Corpus/swda_data/train/3333.txt\n",
      "../Switchboard-Corpus/swda_data/train/2005.txt\n",
      "../Switchboard-Corpus/swda_data/train/4312.txt\n",
      "../Switchboard-Corpus/swda_data/train/3680.txt\n",
      "../Switchboard-Corpus/swda_data/train/3694.txt\n",
      "../Switchboard-Corpus/swda_data/train/3870.txt\n",
      "../Switchboard-Corpus/swda_data/train/3131.txt\n",
      "../Switchboard-Corpus/swda_data/train/4886.txt\n",
      "../Switchboard-Corpus/swda_data/train/2549.txt\n",
      "../Switchboard-Corpus/swda_data/train/4138.txt\n",
      "../Switchboard-Corpus/swda_data/train/3657.txt\n",
      "../Switchboard-Corpus/swda_data/train/2575.txt\n",
      "../Switchboard-Corpus/swda_data/train/4104.txt\n",
      "../Switchboard-Corpus/swda_data/train/2205.txt\n",
      "../Switchboard-Corpus/swda_data/train/4660.txt\n",
      "../Switchboard-Corpus/swda_data/train/4890.txt\n",
      "../Switchboard-Corpus/swda_data/train/3655.txt\n",
      "../Switchboard-Corpus/swda_data/train/3133.txt\n",
      "../Switchboard-Corpus/swda_data/train/3682.txt\n",
      "../Switchboard-Corpus/swda_data/train/3696.txt\n",
      "../Switchboard-Corpus/swda_data/train/2761.txt\n",
      "../Switchboard-Corpus/swda_data/train/3319.txt\n",
      "../Switchboard-Corpus/swda_data/train/2775.txt\n",
      "../Switchboard-Corpus/swda_data/train/3443.txt\n",
      "../Switchboard-Corpus/swda_data/train/3325.txt\n",
      "../Switchboard-Corpus/swda_data/train/3331.txt\n",
      "../Switchboard-Corpus/swda_data/train/2749.txt\n",
      "../Switchboard-Corpus/swda_data/train/2991.txt\n",
      "../Switchboard-Corpus/swda_data/train/3457.txt\n",
      "../Switchboard-Corpus/swda_data/train/2952.txt\n",
      "../Switchboard-Corpus/swda_data/train/2615.txt\n",
      "../Switchboard-Corpus/swda_data/train/3279.txt\n",
      "../Switchboard-Corpus/swda_data/train/3537.txt\n",
      "../Switchboard-Corpus/swda_data/train/3251.txt\n",
      "../Switchboard-Corpus/swda_data/train/3245.txt\n",
      "../Switchboard-Corpus/swda_data/train/3523.txt\n",
      "../Switchboard-Corpus/swda_data/train/2832.txt\n",
      "../Switchboard-Corpus/swda_data/train/3286.txt\n",
      "../Switchboard-Corpus/swda_data/train/2826.txt\n",
      "../Switchboard-Corpus/swda_data/train/3709.txt\n",
      "../Switchboard-Corpus/swda_data/train/4072.txt\n",
      "../Switchboard-Corpus/swda_data/train/2365.txt\n",
      "../Switchboard-Corpus/swda_data/train/3735.txt\n",
      "../Switchboard-Corpus/swda_data/train/3047.txt\n",
      "../Switchboard-Corpus/swda_data/train/4728.txt\n",
      "../Switchboard-Corpus/swda_data/train/4927.txt\n",
      "../Switchboard-Corpus/swda_data/train/3090.txt\n",
      "../Switchboard-Corpus/swda_data/train/4099.txt\n",
      "../Switchboard-Corpus/swda_data/train/3085.txt\n",
      "../Switchboard-Corpus/swda_data/train/3720.txt\n",
      "../Switchboard-Corpus/swda_data/train/3046.txt\n",
      "../Switchboard-Corpus/swda_data/train/3052.txt\n",
      "../Switchboard-Corpus/swda_data/train/3734.txt\n",
      "../Switchboard-Corpus/swda_data/train/2370.txt\n",
      "../Switchboard-Corpus/swda_data/train/2827.txt\n",
      "../Switchboard-Corpus/swda_data/train/3293.txt\n",
      "../Switchboard-Corpus/swda_data/train/3244.txt\n",
      "../Switchboard-Corpus/swda_data/train/2628.txt\n",
      "../Switchboard-Corpus/swda_data/train/3250.txt\n",
      "../Switchboard-Corpus/swda_data/train/2614.txt\n",
      "../Switchboard-Corpus/swda_data/train/3495.txt\n",
      "../Switchboard-Corpus/swda_data/train/2953.txt\n",
      "../Switchboard-Corpus/swda_data/train/3330.txt\n",
      "../Switchboard-Corpus/swda_data/train/4339.txt\n",
      "../Switchboard-Corpus/swda_data/train/2984.txt\n",
      "../Switchboard-Corpus/swda_data/train/3324.txt\n",
      "../Switchboard-Corpus/swda_data/train/2012.txt\n",
      "../Switchboard-Corpus/swda_data/train/2774.txt\n",
      "../Switchboard-Corpus/swda_data/train/4311.txt\n",
      "../Switchboard-Corpus/swda_data/train/2006.txt\n",
      "../Switchboard-Corpus/swda_data/train/3697.txt\n",
      "../Switchboard-Corpus/swda_data/train/2589.txt\n",
      "../Switchboard-Corpus/swda_data/train/4649.txt\n",
      "../Switchboard-Corpus/swda_data/train/3898.txt\n",
      "../Switchboard-Corpus/swda_data/train/2576.txt\n",
      "../Switchboard-Corpus/swda_data/train/4675.txt\n",
      "../Switchboard-Corpus/swda_data/train/2562.txt\n",
      "../Switchboard-Corpus/swda_data/train/4113.txt\n",
      "../Switchboard-Corpus/swda_data/train/4148.txt\n",
      "../Switchboard-Corpus/swda_data/train/2539.txt\n",
      "../Switchboard-Corpus/swda_data/train/3633.txt\n",
      "../Switchboard-Corpus/swda_data/train/3155.txt\n",
      "../Switchboard-Corpus/swda_data/train/2263.txt\n",
      "../Switchboard-Corpus/swda_data/train/4174.txt\n",
      "../Switchboard-Corpus/swda_data/train/2511.txt\n",
      "../Switchboard-Corpus/swda_data/train/3169.txt\n",
      "../Switchboard-Corpus/swda_data/train/3182.txt\n",
      "../Switchboard-Corpus/swda_data/train/3828.txt\n",
      "../Switchboard-Corpus/swda_data/train/3196.txt\n",
      "../Switchboard-Corpus/swda_data/train/4821.txt\n",
      "../Switchboard-Corpus/swda_data/train/3425.txt\n",
      "../Switchboard-Corpus/swda_data/train/3343.txt\n",
      "../Switchboard-Corpus/swda_data/train/3431.txt\n",
      "../Switchboard-Corpus/swda_data/train/2707.txt\n",
      "../Switchboard-Corpus/swda_data/train/3419.txt\n",
      "../Switchboard-Corpus/swda_data/train/4376.txt\n",
      "../Switchboard-Corpus/swda_data/train/2061.txt\n",
      "../Switchboard-Corpus/swda_data/train/2713.txt\n",
      "../Switchboard-Corpus/swda_data/train/4362.txt\n",
      "../Switchboard-Corpus/swda_data/train/2934.txt\n",
      "../Switchboard-Corpus/swda_data/train/2897.txt\n",
      "../Switchboard-Corpus/swda_data/train/3551.txt\n",
      "../Switchboard-Corpus/swda_data/train/3237.txt\n",
      "../Switchboard-Corpus/swda_data/train/3223.txt\n",
      "../Switchboard-Corpus/swda_data/train/2883.txt\n",
      "../Switchboard-Corpus/swda_data/train/2101.txt\n",
      "../Switchboard-Corpus/swda_data/train/2667.txt\n",
      "../Switchboard-Corpus/swda_data/train/2854.txt\n",
      "../Switchboard-Corpus/swda_data/train/2840.txt\n",
      "../Switchboard-Corpus/swda_data/train/3586.txt\n",
      "../Switchboard-Corpus/swda_data/train/2868.txt\n",
      "../Switchboard-Corpus/swda_data/train/3747.txt\n",
      "../Switchboard-Corpus/swda_data/train/4028.txt\n",
      "../Switchboard-Corpus/swda_data/train/3021.txt\n",
      "../Switchboard-Corpus/swda_data/train/3009.txt\n",
      "../Switchboard-Corpus/swda_data/train/2471.txt\n",
      "../Switchboard-Corpus/swda_data/train/2465.txt\n",
      "../Switchboard-Corpus/swda_data/train/2303.txt\n",
      "../Switchboard-Corpus/swda_data/train/4799.txt\n",
      "../Switchboard-Corpus/swda_data/train/3784.txt\n",
      "../Switchboard-Corpus/swda_data/train/4940.txt\n",
      "../Switchboard-Corpus/swda_data/train/3791.txt\n",
      "../Switchboard-Corpus/swda_data/train/2302.txt\n",
      "../Switchboard-Corpus/swda_data/train/2316.txt\n",
      "../Switchboard-Corpus/swda_data/train/3746.txt\n",
      "../Switchboard-Corpus/swda_data/train/3020.txt\n",
      "../Switchboard-Corpus/swda_data/train/3034.txt\n",
      "../Switchboard-Corpus/swda_data/train/3587.txt\n",
      "../Switchboard-Corpus/swda_data/train/2672.txt\n",
      "../Switchboard-Corpus/swda_data/train/4565.txt\n",
      "../Switchboard-Corpus/swda_data/train/3550.txt\n",
      "../Switchboard-Corpus/swda_data/train/2896.txt\n",
      "../Switchboard-Corpus/swda_data/train/3236.txt\n",
      "../Switchboard-Corpus/swda_data/train/2909.txt\n",
      "../Switchboard-Corpus/swda_data/train/2935.txt\n",
      "../Switchboard-Corpus/swda_data/train/2921.txt\n",
      "../Switchboard-Corpus/swda_data/train/3381.txt\n",
      "../Switchboard-Corpus/swda_data/train/4363.txt\n",
      "../Switchboard-Corpus/swda_data/train/2060.txt\n",
      "../Switchboard-Corpus/swda_data/train/3424.txt\n",
      "../Switchboard-Corpus/swda_data/train/3342.txt\n",
      "../Switchboard-Corpus/swda_data/train/3815.txt\n",
      "../Switchboard-Corpus/swda_data/train/3801.txt\n",
      "../Switchboard-Corpus/swda_data/train/2289.txt\n",
      "../Switchboard-Corpus/swda_data/train/4834.txt\n",
      "../Switchboard-Corpus/swda_data/train/2510.txt\n",
      "../Switchboard-Corpus/swda_data/train/3168.txt\n",
      "../Switchboard-Corpus/swda_data/train/2262.txt\n",
      "../Switchboard-Corpus/swda_data/train/2504.txt\n",
      "../Switchboard-Corpus/swda_data/train/4175.txt\n",
      "../Switchboard-Corpus/swda_data/train/3154.txt\n",
      "../Switchboard-Corpus/swda_data/train/3140.txt\n",
      "../Switchboard-Corpus/swda_data/train/3626.txt\n",
      "../Switchboard-Corpus/swda_data/train/4149.txt\n",
      "../Switchboard-Corpus/swda_data/train/2248.txt\n",
      "../Switchboard-Corpus/swda_data/train/3156.txt\n",
      "../Switchboard-Corpus/swda_data/train/3624.txt\n",
      "../Switchboard-Corpus/swda_data/train/3142.txt\n",
      "../Switchboard-Corpus/swda_data/train/4605.txt\n",
      "../Switchboard-Corpus/swda_data/train/4177.txt\n",
      "../Switchboard-Corpus/swda_data/train/2506.txt\n",
      "../Switchboard-Corpus/swda_data/train/2260.txt\n",
      "../Switchboard-Corpus/swda_data/train/4611.txt\n",
      "../Switchboard-Corpus/swda_data/train/3195.txt\n",
      "../Switchboard-Corpus/swda_data/train/4822.txt\n",
      "../Switchboard-Corpus/swda_data/train/3181.txt\n",
      "../Switchboard-Corpus/swda_data/train/3803.txt\n",
      "../Switchboard-Corpus/swda_data/train/3354.txt\n",
      "../Switchboard-Corpus/swda_data/train/3340.txt\n",
      "../Switchboard-Corpus/swda_data/train/3426.txt\n",
      "../Switchboard-Corpus/swda_data/train/4349.txt\n",
      "../Switchboard-Corpus/swda_data/train/2710.txt\n",
      "../Switchboard-Corpus/swda_data/train/3368.txt\n",
      "../Switchboard-Corpus/swda_data/train/2062.txt\n",
      "../Switchboard-Corpus/swda_data/train/3397.txt\n",
      "../Switchboard-Corpus/swda_data/train/3383.txt\n",
      "../Switchboard-Corpus/swda_data/train/2658.txt\n",
      "../Switchboard-Corpus/swda_data/train/3234.txt\n",
      "../Switchboard-Corpus/swda_data/train/2102.txt\n",
      "../Switchboard-Corpus/swda_data/train/3208.txt\n",
      "../Switchboard-Corpus/swda_data/train/3591.txt\n",
      "../Switchboard-Corpus/swda_data/train/3988.txt\n",
      "../Switchboard-Corpus/swda_data/train/3750.txt\n",
      "../Switchboard-Corpus/swda_data/train/4759.txt\n",
      "../Switchboard-Corpus/swda_data/train/3036.txt\n",
      "../Switchboard-Corpus/swda_data/train/2300.txt\n",
      "../Switchboard-Corpus/swda_data/train/2466.txt\n",
      "../Switchboard-Corpus/swda_data/train/2472.txt\n",
      "../Switchboard-Corpus/swda_data/train/4765.txt\n",
      "../Switchboard-Corpus/swda_data/train/2314.txt\n",
      "../Switchboard-Corpus/swda_data/train/2499.txt\n",
      "../Switchboard-Corpus/swda_data/train/3962.txt\n",
      "../Switchboard-Corpus/swda_data/train/2301.txt\n",
      "../Switchboard-Corpus/swda_data/train/4770.txt\n",
      "../Switchboard-Corpus/swda_data/train/2467.txt\n",
      "../Switchboard-Corpus/swda_data/train/3751.txt\n",
      "../Switchboard-Corpus/swda_data/train/4758.txt\n",
      "../Switchboard-Corpus/swda_data/train/3023.txt\n",
      "../Switchboard-Corpus/swda_data/train/3745.txt\n",
      "../Switchboard-Corpus/swda_data/train/3584.txt\n",
      "../Switchboard-Corpus/swda_data/train/2842.txt\n",
      "../Switchboard-Corpus/swda_data/train/4572.txt\n",
      "../Switchboard-Corpus/swda_data/train/3235.txt\n",
      "../Switchboard-Corpus/swda_data/train/3221.txt\n",
      "../Switchboard-Corpus/swda_data/train/3382.txt\n",
      "../Switchboard-Corpus/swda_data/train/4360.txt\n",
      "../Switchboard-Corpus/swda_data/train/2711.txt\n",
      "../Switchboard-Corpus/swda_data/train/3369.txt\n",
      "../Switchboard-Corpus/swda_data/train/3427.txt\n",
      "../Switchboard-Corpus/swda_data/train/3433.txt\n",
      "../Switchboard-Corpus/swda_data/train/3355.txt\n",
      "../Switchboard-Corpus/swda_data/train/3802.txt\n",
      "../Switchboard-Corpus/swda_data/train/3194.txt\n",
      "../Switchboard-Corpus/swda_data/train/2275.txt\n",
      "../Switchboard-Corpus/swda_data/train/3143.txt\n",
      "../Switchboard-Corpus/swda_data/train/2249.txt\n",
      "../Switchboard-Corpus/swda_data/train/4166.txt\n",
      "../Switchboard-Corpus/swda_data/train/2265.txt\n",
      "../Switchboard-Corpus/swda_data/train/2259.txt\n",
      "../Switchboard-Corpus/swda_data/train/4628.txt\n",
      "../Switchboard-Corpus/swda_data/train/3190.txt\n",
      "../Switchboard-Corpus/swda_data/train/3184.txt\n",
      "../Switchboard-Corpus/swda_data/train/2073.txt\n",
      "../Switchboard-Corpus/swda_data/train/4364.txt\n",
      "../Switchboard-Corpus/swda_data/train/4370.txt\n",
      "../Switchboard-Corpus/swda_data/train/3379.txt\n",
      "../Switchboard-Corpus/swda_data/train/2067.txt\n",
      "../Switchboard-Corpus/swda_data/train/3351.txt\n",
      "../Switchboard-Corpus/swda_data/train/2729.txt\n",
      "../Switchboard-Corpus/swda_data/train/4358.txt\n",
      "../Switchboard-Corpus/swda_data/train/3345.txt\n",
      "../Switchboard-Corpus/swda_data/train/2932.txt\n",
      "../Switchboard-Corpus/swda_data/train/2926.txt\n",
      "../Switchboard-Corpus/swda_data/train/3386.txt\n",
      "../Switchboard-Corpus/swda_data/train/2107.txt\n",
      "../Switchboard-Corpus/swda_data/train/3219.txt\n",
      "../Switchboard-Corpus/swda_data/train/2661.txt\n",
      "../Switchboard-Corpus/swda_data/train/2675.txt\n",
      "../Switchboard-Corpus/swda_data/train/2113.txt\n",
      "../Switchboard-Corpus/swda_data/train/3225.txt\n",
      "../Switchboard-Corpus/swda_data/train/3543.txt\n",
      "../Switchboard-Corpus/swda_data/train/3557.txt\n",
      "../Switchboard-Corpus/swda_data/train/3231.txt\n",
      "../Switchboard-Corpus/swda_data/train/3580.txt\n",
      "../Switchboard-Corpus/swda_data/train/4774.txt\n",
      "../Switchboard-Corpus/swda_data/train/2305.txt\n",
      "../Switchboard-Corpus/swda_data/train/2477.txt\n",
      "../Switchboard-Corpus/swda_data/train/3769.txt\n",
      "../Switchboard-Corpus/swda_data/train/2339.txt\n",
      "../Switchboard-Corpus/swda_data/train/3796.txt\n",
      "../Switchboard-Corpus/swda_data/train/2488.txt\n",
      "../Switchboard-Corpus/swda_data/train/3797.txt\n",
      "../Switchboard-Corpus/swda_data/train/3754.txt\n",
      "../Switchboard-Corpus/swda_data/train/3768.txt\n",
      "../Switchboard-Corpus/swda_data/train/2476.txt\n",
      "../Switchboard-Corpus/swda_data/train/4013.txt\n",
      "../Switchboard-Corpus/swda_data/train/2304.txt\n",
      "../Switchboard-Corpus/swda_data/train/3595.txt\n",
      "../Switchboard-Corpus/swda_data/train/2847.txt\n",
      "../Switchboard-Corpus/swda_data/train/2648.txt\n",
      "../Switchboard-Corpus/swda_data/train/3556.txt\n",
      "../Switchboard-Corpus/swda_data/train/3230.txt\n",
      "../Switchboard-Corpus/swda_data/train/2884.txt\n",
      "../Switchboard-Corpus/swda_data/train/2927.txt\n",
      "../Switchboard-Corpus/swda_data/train/3387.txt\n",
      "../Switchboard-Corpus/swda_data/train/3393.txt\n",
      "../Switchboard-Corpus/swda_data/train/3344.txt\n",
      "../Switchboard-Corpus/swda_data/train/2072.txt\n",
      "../Switchboard-Corpus/swda_data/train/3185.txt\n",
      "../Switchboard-Corpus/swda_data/train/4826.txt\n",
      "../Switchboard-Corpus/swda_data/train/3191.txt\n",
      "../Switchboard-Corpus/swda_data/train/3813.txt\n",
      "../Switchboard-Corpus/swda_data/train/3146.txt\n",
      "../Switchboard-Corpus/swda_data/train/3152.txt\n",
      "../Switchboard-Corpus/swda_data/train/4615.txt\n",
      "../Switchboard-Corpus/swda_data/train/2264.txt\n",
      "../Switchboard-Corpus/swda_data/train/2502.txt\n",
      "../Switchboard-Corpus/swda_data/train/4171.txt\n",
      "../Switchboard-Corpus/swda_data/train/2266.txt\n",
      "../Switchboard-Corpus/swda_data/train/4617.txt\n",
      "../Switchboard-Corpus/swda_data/train/4603.txt\n",
      "../Switchboard-Corpus/swda_data/train/4165.txt\n",
      "../Switchboard-Corpus/swda_data/train/2514.txt\n",
      "../Switchboard-Corpus/swda_data/train/3144.txt\n",
      "../Switchboard-Corpus/swda_data/train/3150.txt\n",
      "../Switchboard-Corpus/swda_data/train/3636.txt\n",
      "../Switchboard-Corpus/swda_data/train/4159.txt\n",
      "../Switchboard-Corpus/swda_data/train/2528.txt\n",
      "../Switchboard-Corpus/swda_data/train/3805.txt\n",
      "../Switchboard-Corpus/swda_data/train/3811.txt\n",
      "../Switchboard-Corpus/swda_data/train/3187.txt\n",
      "../Switchboard-Corpus/swda_data/train/2299.txt\n",
      "../Switchboard-Corpus/swda_data/train/4830.txt\n",
      "../Switchboard-Corpus/swda_data/train/2064.txt\n",
      "../Switchboard-Corpus/swda_data/train/2716.txt\n",
      "../Switchboard-Corpus/swda_data/train/3408.txt\n",
      "../Switchboard-Corpus/swda_data/train/3346.txt\n",
      "../Switchboard-Corpus/swda_data/train/3420.txt\n",
      "../Switchboard-Corpus/swda_data/train/3352.txt\n",
      "../Switchboard-Corpus/swda_data/train/2110.txt\n",
      "../Switchboard-Corpus/swda_data/train/2676.txt\n",
      "../Switchboard-Corpus/swda_data/train/2662.txt\n",
      "../Switchboard-Corpus/swda_data/train/2104.txt\n",
      "../Switchboard-Corpus/swda_data/train/3232.txt\n",
      "../Switchboard-Corpus/swda_data/train/3554.txt\n",
      "../Switchboard-Corpus/swda_data/train/3226.txt\n",
      "../Switchboard-Corpus/swda_data/train/2879.txt\n",
      "../Switchboard-Corpus/swda_data/train/2689.txt\n",
      "../Switchboard-Corpus/swda_data/train/3597.txt\n",
      "../Switchboard-Corpus/swda_data/train/2851.txt\n",
      "../Switchboard-Corpus/swda_data/train/3018.txt\n",
      "../Switchboard-Corpus/swda_data/train/2460.txt\n",
      "../Switchboard-Corpus/swda_data/train/2448.txt\n",
      "../Switchboard-Corpus/swda_data/train/3030.txt\n",
      "../Switchboard-Corpus/swda_data/train/3971.txt\n",
      "../Switchboard-Corpus/swda_data/train/3965.txt\n",
      "../Switchboard-Corpus/swda_data/train/4788.txt\n",
      "../Switchboard-Corpus/swda_data/train/3781.txt\n",
      "../Switchboard-Corpus/swda_data/train/3025.txt\n",
      "../Switchboard-Corpus/swda_data/train/3743.txt\n",
      "../Switchboard-Corpus/swda_data/train/4038.txt\n",
      "../Switchboard-Corpus/swda_data/train/3019.txt\n",
      "../Switchboard-Corpus/swda_data/train/4004.txt\n",
      "../Switchboard-Corpus/swda_data/train/2313.txt\n",
      "../Switchboard-Corpus/swda_data/train/2844.txt\n",
      "../Switchboard-Corpus/swda_data/train/3596.txt\n",
      "../Switchboard-Corpus/swda_data/train/2887.txt\n",
      "../Switchboard-Corpus/swda_data/train/3541.txt\n",
      "../Switchboard-Corpus/swda_data/train/3227.txt\n",
      "../Switchboard-Corpus/swda_data/train/4548.txt\n",
      "../Switchboard-Corpus/swda_data/train/2139.txt\n",
      "../Switchboard-Corpus/swda_data/train/3233.txt\n",
      "../Switchboard-Corpus/swda_data/train/2893.txt\n",
      "../Switchboard-Corpus/swda_data/train/2663.txt\n",
      "../Switchboard-Corpus/swda_data/train/2105.txt\n",
      "../Switchboard-Corpus/swda_data/train/2111.txt\n",
      "../Switchboard-Corpus/swda_data/train/3569.txt\n",
      "../Switchboard-Corpus/swda_data/train/2930.txt\n",
      "../Switchboard-Corpus/swda_data/train/3384.txt\n",
      "../Switchboard-Corpus/swda_data/train/2924.txt\n",
      "../Switchboard-Corpus/swda_data/train/3435.txt\n",
      "../Switchboard-Corpus/swda_data/train/3353.txt\n",
      "../Switchboard-Corpus/swda_data/train/3421.txt\n",
      "../Switchboard-Corpus/swda_data/train/3409.txt\n",
      "../Switchboard-Corpus/swda_data/train/4366.txt\n",
      "../Switchboard-Corpus/swda_data/train/2717.txt\n",
      "../Switchboard-Corpus/swda_data/train/2071.txt\n",
      "../Switchboard-Corpus/swda_data/train/2065.txt\n",
      "../Switchboard-Corpus/swda_data/train/4372.txt\n",
      "../Switchboard-Corpus/swda_data/train/2703.txt\n",
      "../Switchboard-Corpus/swda_data/train/3838.txt\n",
      "../Switchboard-Corpus/swda_data/train/4831.txt\n",
      "../Switchboard-Corpus/swda_data/train/3186.txt\n",
      "../Switchboard-Corpus/swda_data/train/3810.txt\n",
      "../Switchboard-Corpus/swda_data/train/3804.txt\n",
      "../Switchboard-Corpus/swda_data/train/3151.txt\n",
      "../Switchboard-Corpus/swda_data/train/4158.txt\n",
      "../Switchboard-Corpus/swda_data/train/2515.txt\n",
      "../Switchboard-Corpus/swda_data/train/2501.txt\n",
      "../Switchboard-Corpus/swda_data/train/3606.txt\n",
      "../Switchboard-Corpus/swda_data/train/3174.txt\n",
      "../Switchboard-Corpus/swda_data/train/4633.txt\n",
      "../Switchboard-Corpus/swda_data/train/4155.txt\n",
      "../Switchboard-Corpus/swda_data/train/2524.txt\n",
      "../Switchboard-Corpus/swda_data/train/3148.txt\n",
      "../Switchboard-Corpus/swda_data/train/4814.txt\n",
      "../Switchboard-Corpus/swda_data/train/3809.txt\n",
      "../Switchboard-Corpus/swda_data/train/3821.txt\n",
      "../Switchboard-Corpus/swda_data/train/2295.txt\n",
      "../Switchboard-Corpus/swda_data/train/3362.txt\n",
      "../Switchboard-Corpus/swda_data/train/2726.txt\n",
      "../Switchboard-Corpus/swda_data/train/2040.txt\n",
      "../Switchboard-Corpus/swda_data/train/2915.txt\n",
      "../Switchboard-Corpus/swda_data/train/3389.txt\n",
      "../Switchboard-Corpus/swda_data/train/2929.txt\n",
      "../Switchboard-Corpus/swda_data/train/4380.txt\n",
      "../Switchboard-Corpus/swda_data/train/3570.txt\n",
      "../Switchboard-Corpus/swda_data/train/3216.txt\n",
      "../Switchboard-Corpus/swda_data/train/3202.txt\n",
      "../Switchboard-Corpus/swda_data/train/2652.txt\n",
      "../Switchboard-Corpus/swda_data/train/2120.txt\n",
      "../Switchboard-Corpus/swda_data/train/2875.txt\n",
      "../Switchboard-Corpus/swda_data/train/2691.txt\n",
      "../Switchboard-Corpus/swda_data/train/2849.txt\n",
      "../Switchboard-Corpus/swda_data/train/3014.txt\n",
      "../Switchboard-Corpus/swda_data/train/2478.txt\n",
      "../Switchboard-Corpus/swda_data/train/3000.txt\n",
      "../Switchboard-Corpus/swda_data/train/3028.txt\n",
      "../Switchboard-Corpus/swda_data/train/2336.txt\n",
      "../Switchboard-Corpus/swda_data/train/2450.txt\n",
      "../Switchboard-Corpus/swda_data/train/4784.txt\n",
      "../Switchboard-Corpus/swda_data/train/2486.txt\n",
      "../Switchboard-Corpus/swda_data/train/3798.txt\n",
      "../Switchboard-Corpus/swda_data/train/4785.txt\n",
      "../Switchboard-Corpus/swda_data/train/2492.txt\n",
      "../Switchboard-Corpus/swda_data/train/2445.txt\n",
      "../Switchboard-Corpus/swda_data/train/3983.txt\n",
      "../Switchboard-Corpus/swda_data/train/2323.txt\n",
      "../Switchboard-Corpus/swda_data/train/4752.txt\n",
      "../Switchboard-Corpus/swda_data/train/3029.txt\n",
      "../Switchboard-Corpus/swda_data/train/2451.txt\n",
      "../Switchboard-Corpus/swda_data/train/4008.txt\n",
      "../Switchboard-Corpus/swda_data/train/2479.txt\n",
      "../Switchboard-Corpus/swda_data/train/3001.txt\n",
      "../Switchboard-Corpus/swda_data/train/3015.txt\n",
      "../Switchboard-Corpus/swda_data/train/3773.txt\n",
      "../Switchboard-Corpus/swda_data/train/2684.txt\n",
      "../Switchboard-Corpus/swda_data/train/2690.txt\n",
      "../Switchboard-Corpus/swda_data/train/2860.txt\n",
      "../Switchboard-Corpus/swda_data/train/2874.txt\n",
      "../Switchboard-Corpus/swda_data/train/2647.txt\n",
      "../Switchboard-Corpus/swda_data/train/2653.txt\n",
      "../Switchboard-Corpus/swda_data/train/3203.txt\n",
      "../Switchboard-Corpus/swda_data/train/3565.txt\n",
      "../Switchboard-Corpus/swda_data/train/2109.txt\n",
      "../Switchboard-Corpus/swda_data/train/2900.txt\n",
      "../Switchboard-Corpus/swda_data/train/4342.txt\n",
      "../Switchboard-Corpus/swda_data/train/4356.txt\n",
      "../Switchboard-Corpus/swda_data/train/3439.txt\n",
      "../Switchboard-Corpus/swda_data/train/2041.txt\n",
      "../Switchboard-Corpus/swda_data/train/3377.txt\n",
      "../Switchboard-Corpus/swda_data/train/3411.txt\n",
      "../Switchboard-Corpus/swda_data/train/3405.txt\n",
      "../Switchboard-Corpus/swda_data/train/3363.txt\n",
      "../Switchboard-Corpus/swda_data/train/4829.txt\n",
      "../Switchboard-Corpus/swda_data/train/4801.txt\n",
      "../Switchboard-Corpus/swda_data/train/4626.txt\n",
      "../Switchboard-Corpus/swda_data/train/2525.txt\n",
      "../Switchboard-Corpus/swda_data/train/4154.txt\n",
      "../Switchboard-Corpus/swda_data/train/3175.txt\n",
      "../Switchboard-Corpus/swda_data/train/3161.txt\n",
      "../Switchboard-Corpus/swda_data/train/2519.txt\n",
      "../Switchboard-Corpus/swda_data/train/3607.txt\n",
      "../Switchboard-Corpus/swda_data/train/4168.txt\n",
      "../Switchboard-Corpus/swda_data/train/4618.txt\n",
      "../Switchboard-Corpus/swda_data/train/2533.txt\n",
      "../Switchboard-Corpus/swda_data/train/3639.txt\n",
      "../Switchboard-Corpus/swda_data/train/2527.txt\n",
      "../Switchboard-Corpus/swda_data/train/2241.txt\n",
      "../Switchboard-Corpus/swda_data/train/4630.txt\n",
      "../Switchboard-Corpus/swda_data/train/3188.txt\n",
      "../Switchboard-Corpus/swda_data/train/2296.txt\n",
      "../Switchboard-Corpus/swda_data/train/4181.txt\n",
      "../Switchboard-Corpus/swda_data/train/3375.txt\n",
      "../Switchboard-Corpus/swda_data/train/3361.txt\n",
      "../Switchboard-Corpus/swda_data/train/2719.txt\n",
      "../Switchboard-Corpus/swda_data/train/4340.txt\n",
      "../Switchboard-Corpus/swda_data/train/3349.txt\n",
      "../Switchboard-Corpus/swda_data/train/2094.txt\n",
      "../Switchboard-Corpus/swda_data/train/3567.txt\n",
      "../Switchboard-Corpus/swda_data/train/2679.txt\n",
      "../Switchboard-Corpus/swda_data/train/3201.txt\n",
      "../Switchboard-Corpus/swda_data/train/3215.txt\n",
      "../Switchboard-Corpus/swda_data/train/3573.txt\n",
      "../Switchboard-Corpus/swda_data/train/2645.txt\n",
      "../Switchboard-Corpus/swda_data/train/2137.txt\n",
      "../Switchboard-Corpus/swda_data/train/3229.txt\n",
      "../Switchboard-Corpus/swda_data/train/2889.txt\n",
      "../Switchboard-Corpus/swda_data/train/2862.txt\n",
      "../Switchboard-Corpus/swda_data/train/2876.txt\n",
      "../Switchboard-Corpus/swda_data/train/2692.txt\n",
      "../Switchboard-Corpus/swda_data/train/3003.txt\n",
      "../Switchboard-Corpus/swda_data/train/2309.txt\n",
      "../Switchboard-Corpus/swda_data/train/4036.txt\n",
      "../Switchboard-Corpus/swda_data/train/4022.txt\n",
      "../Switchboard-Corpus/swda_data/train/3956.txt\n",
      "../Switchboard-Corpus/swda_data/train/2490.txt\n",
      "../Switchboard-Corpus/swda_data/train/4792.txt\n",
      "../Switchboard-Corpus/swda_data/train/2485.txt\n",
      "../Switchboard-Corpus/swda_data/train/4023.txt\n",
      "../Switchboard-Corpus/swda_data/train/2452.txt\n",
      "../Switchboard-Corpus/swda_data/train/2334.txt\n",
      "../Switchboard-Corpus/swda_data/train/4745.txt\n",
      "../Switchboard-Corpus/swda_data/train/4037.txt\n",
      "../Switchboard-Corpus/swda_data/train/2446.txt\n",
      "../Switchboard-Corpus/swda_data/train/3770.txt\n",
      "../Switchboard-Corpus/swda_data/train/2308.txt\n",
      "../Switchboard-Corpus/swda_data/train/3016.txt\n",
      "../Switchboard-Corpus/swda_data/train/3002.txt\n",
      "../Switchboard-Corpus/swda_data/train/3764.txt\n",
      "../Switchboard-Corpus/swda_data/train/2693.txt\n",
      "../Switchboard-Corpus/swda_data/train/2877.txt\n",
      "../Switchboard-Corpus/swda_data/train/3228.txt\n",
      "../Switchboard-Corpus/swda_data/train/2650.txt\n",
      "../Switchboard-Corpus/swda_data/train/2888.txt\n",
      "../Switchboard-Corpus/swda_data/train/2122.txt\n",
      "../Switchboard-Corpus/swda_data/train/3214.txt\n",
      "../Switchboard-Corpus/swda_data/train/2678.txt\n",
      "../Switchboard-Corpus/swda_data/train/3200.txt\n",
      "../Switchboard-Corpus/swda_data/train/4382.txt\n",
      "../Switchboard-Corpus/swda_data/train/2095.txt\n",
      "../Switchboard-Corpus/swda_data/train/2917.txt\n",
      "../Switchboard-Corpus/swda_data/train/4341.txt\n",
      "../Switchboard-Corpus/swda_data/train/3360.txt\n",
      "../Switchboard-Corpus/swda_data/train/3406.txt\n",
      "../Switchboard-Corpus/swda_data/train/2283.txt\n",
      "../Switchboard-Corpus/swda_data/train/3189.txt\n",
      "../Switchboard-Corpus/swda_data/train/4802.txt\n",
      "../Switchboard-Corpus/swda_data/train/2526.txt\n",
      "../Switchboard-Corpus/swda_data/train/3638.txt\n",
      "../Switchboard-Corpus/swda_data/train/3162.txt\n",
      "../Switchboard-Corpus/swda_data/train/4619.txt\n",
      "../Switchboard-Corpus/swda_data/train/2268.txt\n",
      "../Switchboard-Corpus/swda_data/train/3628.txt\n",
      "../Switchboard-Corpus/swda_data/train/4147.txt\n",
      "../Switchboard-Corpus/swda_data/train/2244.txt\n",
      "../Switchboard-Corpus/swda_data/train/4153.txt\n",
      "../Switchboard-Corpus/swda_data/train/2278.txt\n",
      "../Switchboard-Corpus/swda_data/train/3166.txt\n",
      "../Switchboard-Corpus/swda_data/train/4184.txt\n",
      "../Switchboard-Corpus/swda_data/train/2293.txt\n",
      "../Switchboard-Corpus/swda_data/train/2287.txt\n",
      "../Switchboard-Corpus/swda_data/train/4812.txt\n",
      "../Switchboard-Corpus/swda_data/train/2734.txt\n",
      "../Switchboard-Corpus/swda_data/train/4345.txt\n",
      "../Switchboard-Corpus/swda_data/train/2708.txt\n",
      "../Switchboard-Corpus/swda_data/train/4379.txt\n",
      "../Switchboard-Corpus/swda_data/train/3402.txt\n",
      "../Switchboard-Corpus/swda_data/train/3364.txt\n",
      "../Switchboard-Corpus/swda_data/train/2085.txt\n",
      "../Switchboard-Corpus/swda_data/train/2913.txt\n",
      "../Switchboard-Corpus/swda_data/train/3238.txt\n",
      "../Switchboard-Corpus/swda_data/train/2898.txt\n",
      "../Switchboard-Corpus/swda_data/train/2640.txt\n",
      "../Switchboard-Corpus/swda_data/train/3204.txt\n",
      "../Switchboard-Corpus/swda_data/train/3576.txt\n",
      "../Switchboard-Corpus/swda_data/train/2442.txt\n",
      "../Switchboard-Corpus/swda_data/train/4033.txt\n",
      "../Switchboard-Corpus/swda_data/train/2324.txt\n",
      "../Switchboard-Corpus/swda_data/train/2330.txt\n",
      "../Switchboard-Corpus/swda_data/train/3760.txt\n",
      "../Switchboard-Corpus/swda_data/train/3012.txt\n",
      "../Switchboard-Corpus/swda_data/train/3774.txt\n",
      "../Switchboard-Corpus/swda_data/train/4796.txt\n",
      "../Switchboard-Corpus/swda_data/train/2495.txt\n",
      "../Switchboard-Corpus/swda_data/train/3952.txt\n",
      "../Switchboard-Corpus/swda_data/train/3946.txt\n",
      "../Switchboard-Corpus/swda_data/train/3013.txt\n",
      "../Switchboard-Corpus/swda_data/train/3007.txt\n",
      "../Switchboard-Corpus/swda_data/train/2331.txt\n",
      "../Switchboard-Corpus/swda_data/train/4026.txt\n",
      "../Switchboard-Corpus/swda_data/train/2457.txt\n",
      "../Switchboard-Corpus/swda_data/train/4032.txt\n",
      "../Switchboard-Corpus/swda_data/train/3985.txt\n",
      "../Switchboard-Corpus/swda_data/train/2325.txt\n",
      "../Switchboard-Corpus/swda_data/train/2866.txt\n",
      "../Switchboard-Corpus/swda_data/train/2669.txt\n",
      "../Switchboard-Corpus/swda_data/train/3205.txt\n",
      "../Switchboard-Corpus/swda_data/train/3563.txt\n",
      "../Switchboard-Corpus/swda_data/train/3239.txt\n",
      "../Switchboard-Corpus/swda_data/train/2641.txt\n",
      "../Switchboard-Corpus/swda_data/train/2090.txt\n",
      "../Switchboard-Corpus/swda_data/train/3403.txt\n",
      "../Switchboard-Corpus/swda_data/train/3365.txt\n",
      "../Switchboard-Corpus/swda_data/train/3371.txt\n",
      "../Switchboard-Corpus/swda_data/train/3417.txt\n",
      "../Switchboard-Corpus/swda_data/train/4378.txt\n",
      "../Switchboard-Corpus/swda_data/train/2709.txt\n",
      "../Switchboard-Corpus/swda_data/train/3359.txt\n",
      "../Switchboard-Corpus/swda_data/train/2053.txt\n",
      "../Switchboard-Corpus/swda_data/train/3198.txt\n",
      "../Switchboard-Corpus/swda_data/train/2292.txt\n",
      "../Switchboard-Corpus/swda_data/train/3167.txt\n",
      "../Switchboard-Corpus/swda_data/train/4608.txt\n",
      "../Switchboard-Corpus/swda_data/train/2279.txt\n",
      "../Switchboard-Corpus/swda_data/train/3615.txt\n",
      "../Switchboard-Corpus/swda_data/train/3173.txt\n",
      "../Switchboard-Corpus/swda_data/train/4152.txt\n",
      "../Switchboard-Corpus/swda_data/train/2537.txt\n",
      "../Switchboard-Corpus/swda_data/train/4150.txt\n",
      "../Switchboard-Corpus/swda_data/train/2521.txt\n",
      "../Switchboard-Corpus/swda_data/train/2247.txt\n",
      "../Switchboard-Corpus/swda_data/train/3159.txt\n",
      "../Switchboard-Corpus/swda_data/train/2253.txt\n",
      "../Switchboard-Corpus/swda_data/train/3171.txt\n",
      "../Switchboard-Corpus/swda_data/train/2290.txt\n",
      "../Switchboard-Corpus/swda_data/train/3830.txt\n",
      "../Switchboard-Corpus/swda_data/train/2723.txt\n",
      "../Switchboard-Corpus/swda_data/train/4346.txt\n",
      "../Switchboard-Corpus/swda_data/train/3429.txt\n",
      "../Switchboard-Corpus/swda_data/train/2051.txt\n",
      "../Switchboard-Corpus/swda_data/train/3367.txt\n",
      "../Switchboard-Corpus/swda_data/train/2079.txt\n",
      "../Switchboard-Corpus/swda_data/train/3373.txt\n",
      "../Switchboard-Corpus/swda_data/train/2086.txt\n",
      "../Switchboard-Corpus/swda_data/train/3398.txt\n",
      "../Switchboard-Corpus/swda_data/train/2938.txt\n",
      "../Switchboard-Corpus/swda_data/train/2092.txt\n",
      "../Switchboard-Corpus/swda_data/train/2910.txt\n",
      "../Switchboard-Corpus/swda_data/train/3549.txt\n",
      "../Switchboard-Corpus/swda_data/train/2657.txt\n",
      "../Switchboard-Corpus/swda_data/train/2125.txt\n",
      "../Switchboard-Corpus/swda_data/train/3561.txt\n",
      "../Switchboard-Corpus/swda_data/train/3207.txt\n",
      "../Switchboard-Corpus/swda_data/train/2858.txt\n",
      "../Switchboard-Corpus/swda_data/train/2870.txt\n",
      "../Switchboard-Corpus/swda_data/train/2455.txt\n",
      "../Switchboard-Corpus/swda_data/train/3993.txt\n",
      "../Switchboard-Corpus/swda_data/train/3039.txt\n",
      "../Switchboard-Corpus/swda_data/train/2469.txt\n",
      "../Switchboard-Corpus/swda_data/train/3777.txt\n",
      "../Switchboard-Corpus/swda_data/train/3011.txt\n",
      "../Switchboard-Corpus/swda_data/train/3763.txt\n",
      "../Switchboard-Corpus/swda_data/train/3788.txt\n",
      "../Switchboard-Corpus/swda_data/train/2482.txt\n",
      "../Switchboard-Corpus/swda_data/train/3979.txt\n",
      "../Switchboard-Corpus/swda_data/train/2483.txt\n",
      "../Switchboard-Corpus/swda_data/train/3004.txt\n",
      "../Switchboard-Corpus/swda_data/train/3776.txt\n",
      "../Switchboard-Corpus/swda_data/train/4019.txt\n",
      "../Switchboard-Corpus/swda_data/train/3038.txt\n",
      "../Switchboard-Corpus/swda_data/train/2871.txt\n",
      "../Switchboard-Corpus/swda_data/train/3206.txt\n",
      "../Switchboard-Corpus/swda_data/train/3574.txt\n",
      "../Switchboard-Corpus/swda_data/train/2642.txt\n",
      "../Switchboard-Corpus/swda_data/train/2124.txt\n",
      "../Switchboard-Corpus/swda_data/train/2130.txt\n",
      "../Switchboard-Corpus/swda_data/train/2093.txt\n",
      "../Switchboard-Corpus/swda_data/train/3399.txt\n",
      "../Switchboard-Corpus/swda_data/train/3414.txt\n",
      "../Switchboard-Corpus/swda_data/train/3372.txt\n",
      "../Switchboard-Corpus/swda_data/train/2078.txt\n",
      "../Switchboard-Corpus/swda_data/train/3428.txt\n",
      "../Switchboard-Corpus/swda_data/train/4347.txt\n",
      "../Switchboard-Corpus/swda_data/train/2736.txt\n",
      "../Switchboard-Corpus/swda_data/train/4353.txt\n",
      "../Switchboard-Corpus/swda_data/train/3825.txt\n",
      "../Switchboard-Corpus/swda_data/train/2285.txt\n",
      "../Switchboard-Corpus/swda_data/train/3170.txt\n",
      "../Switchboard-Corpus/swda_data/train/2252.txt\n",
      "../Switchboard-Corpus/swda_data/train/2534.txt\n",
      "../Switchboard-Corpus/swda_data/train/4151.txt\n",
      "../Switchboard-Corpus/swda_data/train/3158.txt\n",
      "../Switchboard-Corpus/swda_data/train/3665.txt\n",
      "../Switchboard-Corpus/swda_data/train/3103.txt\n",
      "../Switchboard-Corpus/swda_data/train/3659.txt\n",
      "../Switchboard-Corpus/swda_data/train/2547.txt\n",
      "../Switchboard-Corpus/swda_data/train/2221.txt\n",
      "../Switchboard-Corpus/swda_data/train/2235.txt\n",
      "../Switchboard-Corpus/swda_data/train/4644.txt\n",
      "../Switchboard-Corpus/swda_data/train/4877.txt\n",
      "../Switchboard-Corpus/swda_data/train/2584.txt\n",
      "../Switchboard-Corpus/swda_data/train/3467.txt\n",
      "../Switchboard-Corpus/swda_data/train/3473.txt\n",
      "../Switchboard-Corpus/swda_data/train/3315.txt\n",
      "../Switchboard-Corpus/swda_data/train/4334.txt\n",
      "../Switchboard-Corpus/swda_data/train/2751.txt\n",
      "../Switchboard-Corpus/swda_data/train/4320.txt\n",
      "../Switchboard-Corpus/swda_data/train/2989.txt\n",
      "../Switchboard-Corpus/swda_data/train/2962.txt\n",
      "../Switchboard-Corpus/swda_data/train/2792.txt\n",
      "../Switchboard-Corpus/swda_data/train/3275.txt\n",
      "../Switchboard-Corpus/swda_data/train/3513.txt\n",
      "../Switchboard-Corpus/swda_data/train/2619.txt\n",
      "../Switchboard-Corpus/swda_data/train/2157.txt\n",
      "../Switchboard-Corpus/swda_data/train/2631.txt\n",
      "../Switchboard-Corpus/swda_data/train/2180.txt\n",
      "../Switchboard-Corpus/swda_data/train/3711.txt\n",
      "../Switchboard-Corpus/swda_data/train/3077.txt\n",
      "../Switchboard-Corpus/swda_data/train/3063.txt\n",
      "../Switchboard-Corpus/swda_data/train/2433.txt\n",
      "../Switchboard-Corpus/swda_data/train/2355.txt\n",
      "../Switchboard-Corpus/swda_data/train/2427.txt\n",
      "../Switchboard-Corpus/swda_data/train/4056.txt\n",
      "../Switchboard-Corpus/swda_data/train/4917.txt\n",
      "../Switchboard-Corpus/swda_data/train/3088.txt\n",
      "../Switchboard-Corpus/swda_data/train/2382.txt\n",
      "../Switchboard-Corpus/swda_data/train/2383.txt\n",
      "../Switchboard-Corpus/swda_data/train/4080.txt\n",
      "../Switchboard-Corpus/swda_data/train/2397.txt\n",
      "../Switchboard-Corpus/swda_data/train/4902.txt\n",
      "../Switchboard-Corpus/swda_data/train/2340.txt\n",
      "../Switchboard-Corpus/swda_data/train/3738.txt\n",
      "../Switchboard-Corpus/swda_data/train/2426.txt\n",
      "../Switchboard-Corpus/swda_data/train/2432.txt\n",
      "../Switchboard-Corpus/swda_data/train/2354.txt\n",
      "../Switchboard-Corpus/swda_data/train/4725.txt\n",
      "../Switchboard-Corpus/swda_data/train/3062.txt\n",
      "../Switchboard-Corpus/swda_data/train/2368.txt\n",
      "../Switchboard-Corpus/swda_data/train/3076.txt\n",
      "../Switchboard-Corpus/swda_data/train/2181.txt\n",
      "../Switchboard-Corpus/swda_data/train/2803.txt\n",
      "../Switchboard-Corpus/swda_data/train/2630.txt\n",
      "../Switchboard-Corpus/swda_data/train/3506.txt\n",
      "../Switchboard-Corpus/swda_data/train/3260.txt\n",
      "../Switchboard-Corpus/swda_data/train/2793.txt\n",
      "../Switchboard-Corpus/swda_data/train/2963.txt\n",
      "../Switchboard-Corpus/swda_data/train/4321.txt\n",
      "../Switchboard-Corpus/swda_data/train/3328.txt\n",
      "../Switchboard-Corpus/swda_data/train/2022.txt\n",
      "../Switchboard-Corpus/swda_data/train/2744.txt\n",
      "../Switchboard-Corpus/swda_data/train/3300.txt\n",
      "../Switchboard-Corpus/swda_data/train/2585.txt\n",
      "../Switchboard-Corpus/swda_data/train/4876.txt\n",
      "../Switchboard-Corpus/swda_data/train/2234.txt\n",
      "../Switchboard-Corpus/swda_data/train/2552.txt\n",
      "../Switchboard-Corpus/swda_data/train/4123.txt\n",
      "../Switchboard-Corpus/swda_data/train/2546.txt\n",
      "../Switchboard-Corpus/swda_data/train/3658.txt\n",
      "../Switchboard-Corpus/swda_data/train/4137.txt\n",
      "../Switchboard-Corpus/swda_data/train/2220.txt\n",
      "../Switchboard-Corpus/swda_data/train/4679.txt\n",
      "../Switchboard-Corpus/swda_data/train/3102.txt\n",
      "../Switchboard-Corpus/swda_data/train/4109.txt\n",
      "../Switchboard-Corpus/swda_data/train/3666.txt\n",
      "../Switchboard-Corpus/swda_data/train/2578.txt\n",
      "../Switchboard-Corpus/swda_data/train/2593.txt\n",
      "../Switchboard-Corpus/swda_data/train/3855.txt\n",
      "../Switchboard-Corpus/swda_data/train/2587.txt\n",
      "../Switchboard-Corpus/swda_data/train/3841.txt\n",
      "../Switchboard-Corpus/swda_data/train/3699.txt\n",
      "../Switchboard-Corpus/swda_data/train/2008.txt\n",
      "../Switchboard-Corpus/swda_data/train/3464.txt\n",
      "../Switchboard-Corpus/swda_data/train/3458.txt\n",
      "../Switchboard-Corpus/swda_data/train/2020.txt\n",
      "../Switchboard-Corpus/swda_data/train/2785.txt\n",
      "../Switchboard-Corpus/swda_data/train/3504.txt\n",
      "../Switchboard-Corpus/swda_data/train/2168.txt\n",
      "../Switchboard-Corpus/swda_data/train/3276.txt\n",
      "../Switchboard-Corpus/swda_data/train/4519.txt\n",
      "../Switchboard-Corpus/swda_data/train/2154.txt\n",
      "../Switchboard-Corpus/swda_data/train/2197.txt\n",
      "../Switchboard-Corpus/swda_data/train/2418.txt\n",
      "../Switchboard-Corpus/swda_data/train/3074.txt\n",
      "../Switchboard-Corpus/swda_data/train/2424.txt\n",
      "../Switchboard-Corpus/swda_data/train/4055.txt\n",
      "../Switchboard-Corpus/swda_data/train/4733.txt\n",
      "../Switchboard-Corpus/swda_data/train/2342.txt\n",
      "../Switchboard-Corpus/swda_data/train/4096.txt\n",
      "../Switchboard-Corpus/swda_data/train/3921.txt\n",
      "../Switchboard-Corpus/swda_data/train/4928.txt\n",
      "../Switchboard-Corpus/swda_data/train/2395.txt\n",
      "../Switchboard-Corpus/swda_data/train/4082.txt\n",
      "../Switchboard-Corpus/swda_data/train/2380.txt\n",
      "../Switchboard-Corpus/swda_data/train/3908.txt\n",
      "../Switchboard-Corpus/swda_data/train/3049.txt\n",
      "../Switchboard-Corpus/swda_data/train/4726.txt\n",
      "../Switchboard-Corpus/swda_data/train/2431.txt\n",
      "../Switchboard-Corpus/swda_data/train/3075.txt\n",
      "../Switchboard-Corpus/swda_data/train/3707.txt\n",
      "../Switchboard-Corpus/swda_data/train/3061.txt\n",
      "../Switchboard-Corpus/swda_data/train/2828.txt\n",
      "../Switchboard-Corpus/swda_data/train/3288.txt\n",
      "../Switchboard-Corpus/swda_data/train/2800.txt\n",
      "../Switchboard-Corpus/swda_data/train/2155.txt\n",
      "../Switchboard-Corpus/swda_data/train/2627.txt\n",
      "../Switchboard-Corpus/swda_data/train/3539.txt\n",
      "../Switchboard-Corpus/swda_data/train/2784.txt\n",
      "../Switchboard-Corpus/swda_data/train/2790.txt\n",
      "../Switchboard-Corpus/swda_data/train/2960.txt\n",
      "../Switchboard-Corpus/swda_data/train/4336.txt\n",
      "../Switchboard-Corpus/swda_data/train/2035.txt\n",
      "../Switchboard-Corpus/swda_data/train/3303.txt\n",
      "../Switchboard-Corpus/swda_data/train/3317.txt\n",
      "../Switchboard-Corpus/swda_data/train/4691.txt\n",
      "../Switchboard-Corpus/swda_data/train/2586.txt\n",
      "../Switchboard-Corpus/swda_data/train/3883.txt\n",
      "../Switchboard-Corpus/swda_data/train/2545.txt\n",
      "../Switchboard-Corpus/swda_data/train/4646.txt\n",
      "../Switchboard-Corpus/swda_data/train/2237.txt\n",
      "../Switchboard-Corpus/swda_data/train/2579.txt\n",
      "../Switchboard-Corpus/swda_data/train/4108.txt\n",
      "../Switchboard-Corpus/swda_data/train/3115.txt\n",
      "../Switchboard-Corpus/swda_data/train/4642.txt\n",
      "../Switchboard-Corpus/swda_data/train/4130.txt\n",
      "../Switchboard-Corpus/swda_data/train/3887.txt\n",
      "../Switchboard-Corpus/swda_data/train/2227.txt\n",
      "../Switchboard-Corpus/swda_data/train/3111.txt\n",
      "../Switchboard-Corpus/swda_data/train/3663.txt\n",
      "../Switchboard-Corpus/swda_data/train/3105.txt\n",
      "../Switchboard-Corpus/swda_data/train/4681.txt\n",
      "../Switchboard-Corpus/swda_data/train/4859.txt\n",
      "../Switchboard-Corpus/swda_data/train/3850.txt\n",
      "../Switchboard-Corpus/swda_data/train/3688.txt\n",
      "../Switchboard-Corpus/swda_data/train/3449.txt\n",
      "../Switchboard-Corpus/swda_data/train/2025.txt\n",
      "../Switchboard-Corpus/swda_data/train/2743.txt\n",
      "../Switchboard-Corpus/swda_data/train/3313.txt\n",
      "../Switchboard-Corpus/swda_data/train/2019.txt\n",
      "../Switchboard-Corpus/swda_data/train/2794.txt\n",
      "../Switchboard-Corpus/swda_data/train/4483.txt\n",
      "../Switchboard-Corpus/swda_data/train/2780.txt\n",
      "../Switchboard-Corpus/swda_data/train/2970.txt\n",
      "../Switchboard-Corpus/swda_data/train/2623.txt\n",
      "../Switchboard-Corpus/swda_data/train/2145.txt\n",
      "../Switchboard-Corpus/swda_data/train/3267.txt\n",
      "../Switchboard-Corpus/swda_data/train/3515.txt\n",
      "../Switchboard-Corpus/swda_data/train/3059.txt\n",
      "../Switchboard-Corpus/swda_data/train/4736.txt\n",
      "../Switchboard-Corpus/swda_data/train/2421.txt\n",
      "../Switchboard-Corpus/swda_data/train/4050.txt\n",
      "../Switchboard-Corpus/swda_data/train/2435.txt\n",
      "../Switchboard-Corpus/swda_data/train/2353.txt\n",
      "../Switchboard-Corpus/swda_data/train/3065.txt\n",
      "../Switchboard-Corpus/swda_data/train/3703.txt\n",
      "../Switchboard-Corpus/swda_data/train/4078.txt\n",
      "../Switchboard-Corpus/swda_data/train/3071.txt\n",
      "../Switchboard-Corpus/swda_data/train/4905.txt\n",
      "../Switchboard-Corpus/swda_data/train/3925.txt\n",
      "../Switchboard-Corpus/swda_data/train/4092.txt\n",
      "../Switchboard-Corpus/swda_data/train/3716.txt\n",
      "../Switchboard-Corpus/swda_data/train/4079.txt\n",
      "../Switchboard-Corpus/swda_data/train/3070.txt\n",
      "../Switchboard-Corpus/swda_data/train/3064.txt\n",
      "../Switchboard-Corpus/swda_data/train/4723.txt\n",
      "../Switchboard-Corpus/swda_data/train/4051.txt\n",
      "../Switchboard-Corpus/swda_data/train/2839.txt\n",
      "../Switchboard-Corpus/swda_data/train/2187.txt\n",
      "../Switchboard-Corpus/swda_data/train/3272.txt\n",
      "../Switchboard-Corpus/swda_data/train/3514.txt\n",
      "../Switchboard-Corpus/swda_data/train/3500.txt\n",
      "../Switchboard-Corpus/swda_data/train/3266.txt\n",
      "../Switchboard-Corpus/swda_data/train/2178.txt\n",
      "../Switchboard-Corpus/swda_data/train/2622.txt\n",
      "../Switchboard-Corpus/swda_data/train/2965.txt\n",
      "../Switchboard-Corpus/swda_data/train/2959.txt\n",
      "../Switchboard-Corpus/swda_data/train/2018.txt\n",
      "../Switchboard-Corpus/swda_data/train/3306.txt\n",
      "../Switchboard-Corpus/swda_data/train/3460.txt\n",
      "../Switchboard-Corpus/swda_data/train/2024.txt\n",
      "../Switchboard-Corpus/swda_data/train/4333.txt\n",
      "../Switchboard-Corpus/swda_data/train/3448.txt\n",
      "../Switchboard-Corpus/swda_data/train/4327.txt\n",
      "../Switchboard-Corpus/swda_data/train/2756.txt\n",
      "../Switchboard-Corpus/swda_data/train/3845.txt\n",
      "../Switchboard-Corpus/swda_data/train/4858.txt\n",
      "../Switchboard-Corpus/swda_data/train/2597.txt\n",
      "../Switchboard-Corpus/swda_data/train/3662.txt\n",
      "../Switchboard-Corpus/swda_data/train/3104.txt\n",
      "../Switchboard-Corpus/swda_data/train/2568.txt\n",
      "../Switchboard-Corpus/swda_data/train/3676.txt\n",
      "../Switchboard-Corpus/swda_data/train/2540.txt\n",
      "../Switchboard-Corpus/swda_data/train/3138.txt\n",
      "../Switchboard-Corpus/swda_data/train/2226.txt\n",
      "../Switchboard-Corpus/swda_data/train/2232.txt\n",
      "../Switchboard-Corpus/swda_data/train/2554.txt\n",
      "../Switchboard-Corpus/swda_data/train/4655.txt\n",
      "../Switchboard-Corpus/swda_data/train/4133.txt\n",
      "../Switchboard-Corpus/swda_data/train/4127.txt\n",
      "../Switchboard-Corpus/swda_data/train/3660.txt\n",
      "../Switchboard-Corpus/swda_data/train/3847.txt\n",
      "../Switchboard-Corpus/swda_data/train/4682.txt\n",
      "../Switchboard-Corpus/swda_data/train/2998.txt\n",
      "../Switchboard-Corpus/swda_data/train/3338.txt\n",
      "../Switchboard-Corpus/swda_data/train/4443.txt\n",
      "../Switchboard-Corpus/swda_data/train/2032.txt\n",
      "../Switchboard-Corpus/swda_data/train/2754.txt\n",
      "../Switchboard-Corpus/swda_data/train/4325.txt\n",
      "../Switchboard-Corpus/swda_data/train/3304.txt\n",
      "../Switchboard-Corpus/swda_data/train/3310.txt\n",
      "../Switchboard-Corpus/swda_data/train/2768.txt\n",
      "../Switchboard-Corpus/swda_data/train/4319.txt\n",
      "../Switchboard-Corpus/swda_data/train/3476.txt\n",
      "../Switchboard-Corpus/swda_data/train/3489.txt\n",
      "../Switchboard-Corpus/swda_data/train/2797.txt\n",
      "../Switchboard-Corpus/swda_data/train/2967.txt\n",
      "../Switchboard-Corpus/swda_data/train/2634.txt\n",
      "../Switchboard-Corpus/swda_data/train/2620.txt\n",
      "../Switchboard-Corpus/swda_data/train/2608.txt\n",
      "../Switchboard-Corpus/swda_data/train/3270.txt\n",
      "../Switchboard-Corpus/swda_data/train/2191.txt\n",
      "../Switchboard-Corpus/swda_data/train/2185.txt\n",
      "../Switchboard-Corpus/swda_data/train/4721.txt\n",
      "../Switchboard-Corpus/swda_data/train/2436.txt\n",
      "../Switchboard-Corpus/swda_data/train/3728.txt\n",
      "../Switchboard-Corpus/swda_data/train/4735.txt\n",
      "../Switchboard-Corpus/swda_data/train/2344.txt\n",
      "../Switchboard-Corpus/swda_data/train/3072.txt\n",
      "../Switchboard-Corpus/swda_data/train/4709.txt\n",
      "../Switchboard-Corpus/swda_data/train/2393.txt\n",
      "../Switchboard-Corpus/swda_data/train/4090.txt\n",
      "../Switchboard-Corpus/swda_data/train/2387.txt\n",
      "../Switchboard-Corpus/swda_data/train/3099.txt\n",
      "../Switchboard-Corpus/swda_data/train/3926.txt\n",
      "../Switchboard-Corpus/swda_data/train/2386.txt\n",
      "../Switchboard-Corpus/swda_data/train/2379.txt\n",
      "../Switchboard-Corpus/swda_data/train/3067.txt\n",
      "../Switchboard-Corpus/swda_data/train/3073.txt\n",
      "../Switchboard-Corpus/swda_data/train/2423.txt\n",
      "../Switchboard-Corpus/swda_data/train/4720.txt\n",
      "../Switchboard-Corpus/swda_data/train/2437.txt\n",
      "../Switchboard-Corpus/swda_data/train/2806.txt\n",
      "../Switchboard-Corpus/swda_data/train/2812.txt\n",
      "../Switchboard-Corpus/swda_data/train/2184.txt\n",
      "../Switchboard-Corpus/swda_data/train/2190.txt\n",
      "../Switchboard-Corpus/swda_data/train/3265.txt\n",
      "../Switchboard-Corpus/swda_data/train/3503.txt\n",
      "../Switchboard-Corpus/swda_data/train/2609.txt\n",
      "../Switchboard-Corpus/swda_data/train/3517.txt\n",
      "../Switchboard-Corpus/swda_data/train/3271.txt\n",
      "../Switchboard-Corpus/swda_data/train/3259.txt\n",
      "../Switchboard-Corpus/swda_data/train/2621.txt\n",
      "../Switchboard-Corpus/swda_data/train/2782.txt\n",
      "../Switchboard-Corpus/swda_data/train/3311.txt\n",
      "../Switchboard-Corpus/swda_data/train/4318.txt\n",
      "../Switchboard-Corpus/swda_data/train/3463.txt\n",
      "../Switchboard-Corpus/swda_data/train/2755.txt\n",
      "../Switchboard-Corpus/swda_data/train/2999.txt\n",
      "../Switchboard-Corpus/swda_data/train/4330.txt\n",
      "../Switchboard-Corpus/swda_data/train/2741.txt\n",
      "../Switchboard-Corpus/swda_data/train/2027.txt\n",
      "../Switchboard-Corpus/swda_data/train/2594.txt\n",
      "../Switchboard-Corpus/swda_data/train/3852.txt\n",
      "../Switchboard-Corpus/swda_data/train/4697.txt\n",
      "../Switchboard-Corpus/swda_data/train/3675.txt\n",
      "../Switchboard-Corpus/swda_data/train/3113.txt\n",
      "../Switchboard-Corpus/swda_data/train/3107.txt\n",
      "../Switchboard-Corpus/swda_data/train/2557.txt\n",
      "../Switchboard-Corpus/swda_data/train/2231.txt\n",
      "../Switchboard-Corpus/swda_data/train/2543.txt\n",
      "../Switchboard-Corpus/swda_data/test/2836.txt\n",
      "../Switchboard-Corpus/swda_data/test/2229.txt\n",
      "../Switchboard-Corpus/swda_data/test/2503.txt\n",
      "../Switchboard-Corpus/swda_data/test/3756.txt\n",
      "../Switchboard-Corpus/swda_data/test/2461.txt\n",
      "../Switchboard-Corpus/swda_data/test/2121.txt\n",
      "../Switchboard-Corpus/swda_data/test/2335.txt\n",
      "../Switchboard-Corpus/swda_data/test/3942.txt\n",
      "../Switchboard-Corpus/swda_data/test/3994.txt\n",
      "../Switchboard-Corpus/swda_data/test/2724.txt\n",
      "../Switchboard-Corpus/swda_data/test/2131.txt\n",
      "../Switchboard-Corpus/swda_data/test/2441.txt\n",
      "../Switchboard-Corpus/swda_data/test/2752.txt\n",
      "../Switchboard-Corpus/swda_data/test/2632.txt\n",
      "../Switchboard-Corpus/swda_data/test/2753.txt\n",
      "../Switchboard-Corpus/swda_data/test/2151.txt\n",
      "../Switchboard-Corpus/swda_data/test/2838.txt\n",
      "../Switchboard-Corpus/swda_data/test/2434.txt\n",
      "../Switchboard-Corpus/swda_data/test/3528.txt\n",
      "../Switchboard-Corpus/swda_data/val/4102.txt\n",
      "../Switchboard-Corpus/swda_data/val/2567.txt\n",
      "../Switchboard-Corpus/swda_data/val/3520.txt\n",
      "../Switchboard-Corpus/swda_data/val/3469.txt\n",
      "../Switchboard-Corpus/swda_data/val/2505.txt\n",
      "../Switchboard-Corpus/swda_data/val/3035.txt\n",
      "../Switchboard-Corpus/swda_data/val/4771.txt\n",
      "../Switchboard-Corpus/swda_data/val/4002.txt\n",
      "../Switchboard-Corpus/swda_data/val/4167.txt\n",
      "../Switchboard-Corpus/swda_data/val/2702.txt\n",
      "../Switchboard-Corpus/swda_data/val/3968.txt\n",
      "../Switchboard-Corpus/swda_data/val/2733.txt\n",
      "../Switchboard-Corpus/swda_data/val/4157.txt\n",
      "../Switchboard-Corpus/swda_data/val/4622.txt\n",
      "../Switchboard-Corpus/swda_data/val/4384.txt\n",
      "../Switchboard-Corpus/swda_data/val/4179.txt\n",
      "../Switchboard-Corpus/swda_data/val/3936.txt\n",
      "../Switchboard-Corpus/swda_data/val/3129.txt\n",
      "../Switchboard-Corpus/swda_data/val/2347.txt\n",
      "../Switchboard-Corpus/swda_data/val/3924.txt\n",
      "../Switchboard-Corpus/swda_data/val/4643.txt\n",
      "finish\n"
     ]
    }
   ],
   "source": [
    "for j in dir_list:\n",
    "    files_list = glob.glob(swda_pass + j + \"/*\")\n",
    "    for file_name in files_list:\n",
    "        print(file_name)\n",
    "        f = open(file_name, \"r\", encoding='utf-8')\n",
    "        l_train = []\n",
    "        l_test = []\n",
    "        l_val = []\n",
    "        for row in f:\n",
    "            if j == \"train\":\n",
    "                l_train.append(row.strip())\n",
    "            elif j == \"test\":\n",
    "                l_test.append(row.strip())\n",
    "            else:\n",
    "                l_val.append(row.strip())\n",
    "                \n",
    "        if j == \"train\":\n",
    "            train_dataset.append(l_train)\n",
    "        elif j == \"test\":\n",
    "            test_dataset.append(l_test)\n",
    "        else:\n",
    "            val_dataset.append(l_val)\n",
    "        f.close()\n",
    "        \n",
    "print(\"finish\")"
   ]
  },
  {
   "cell_type": "code",
   "execution_count": 59,
   "metadata": {},
   "outputs": [
    {
     "data": {
      "text/plain": [
       "1115"
      ]
     },
     "execution_count": 59,
     "metadata": {},
     "output_type": "execute_result"
    }
   ],
   "source": [
    "len(train_dataset)"
   ]
  },
  {
   "cell_type": "code",
   "execution_count": 60,
   "metadata": {},
   "outputs": [],
   "source": [
    "train_utter_data = []\n",
    "train_user_data = []\n",
    "train_label_data = []\n",
    "train_utter_datas = []\n",
    "train_user_datas = []\n",
    "train_label_datas = []\n",
    "test = \"\""
   ]
  },
  {
   "cell_type": "code",
   "execution_count": 89,
   "metadata": {},
   "outputs": [
    {
     "name": "stdout",
     "output_type": "stream",
     "text": [
      "finish\n"
     ]
    }
   ],
   "source": [
    "utter_user = []\n",
    "utter = []\n",
    "utter_label = []\n",
    "\n",
    "for j in train_dataset:\n",
    "    l_label = []\n",
    "    l_utter = []\n",
    "    l_user = []\n",
    "    for text in j:\n",
    "        for i,v in enumerate(text.split(\"|\")):\n",
    "            if i == 0:\n",
    "                l_user.append(v)\n",
    "            elif i==1:\n",
    "                l_utter.append(v)\n",
    "            else:\n",
    "                l_label.append(v)\n",
    "    utter_user.append(l_user)\n",
    "    utter.append(l_utter)\n",
    "    utter_label.append(l_label)\n",
    "print(\"finish\")"
   ]
  },
  {
   "cell_type": "code",
   "execution_count": 90,
   "metadata": {},
   "outputs": [
    {
     "data": {
      "text/plain": [
       "(1115, 1115, 1115)"
      ]
     },
     "execution_count": 90,
     "metadata": {},
     "output_type": "execute_result"
    }
   ],
   "source": [
    "len(utter), len(utter_label), len(utter_user)"
   ]
  },
  {
   "cell_type": "code",
   "execution_count": 91,
   "metadata": {},
   "outputs": [
    {
     "data": {
      "text/plain": [
       "['fo_o_fw_\"_by_bc', 'b', 'sd', 'sd', 'sd', 'sd', 'sd', 'b', 'bf', 'aa']"
      ]
     },
     "execution_count": 91,
     "metadata": {},
     "output_type": "execute_result"
    }
   ],
   "source": [
    "utter_label[0][:10]"
   ]
  },
  {
   "cell_type": "code",
   "execution_count": 92,
   "metadata": {},
   "outputs": [
    {
     "data": {
      "text/plain": [
       "['A', 'B', 'B', 'B', 'B', 'B', 'B', 'A', 'A', 'B']"
      ]
     },
     "execution_count": 92,
     "metadata": {},
     "output_type": "execute_result"
    }
   ],
   "source": [
    "utter_user[0][:10]"
   ]
  },
  {
   "cell_type": "code",
   "execution_count": 96,
   "metadata": {},
   "outputs": [
    {
     "name": "stdout",
     "output_type": "stream",
     "text": [
      "finish\n"
     ]
    }
   ],
   "source": [
    "train_utter_data = []\n",
    "train_user_data = []\n",
    "train_label_data = []\n",
    "text = \"\"\n",
    "\n",
    "for i,u in enumerate(utter_user):\n",
    "    l_utter = []\n",
    "    l_user = []\n",
    "    l_label = []\n",
    "    for j,v in enumerate(u):\n",
    "        #print(v)\n",
    "        if j == 0:\n",
    "            text += utter[i][j] + \" \"\n",
    "            continue\n",
    "            \n",
    "        if u[j-1] != v:\n",
    "            l_label.append(utter_label[i][j-1])\n",
    "            l_utter.append(text)\n",
    "            l_user.append(u[j-1])\n",
    "            text = \"\"\n",
    "        \n",
    "        text += utter[i][j] + \" \"\n",
    "    train_utter_data.append(l_utter)\n",
    "    train_label_data.append(l_label)\n",
    "    train_user_data.append(l_user)\n",
    "    \n",
    "print(\"finish\")"
   ]
  },
  {
   "cell_type": "code",
   "execution_count": 97,
   "metadata": {},
   "outputs": [
    {
     "data": {
      "text/plain": [
       "(1115, 1115, 1115)"
      ]
     },
     "execution_count": 97,
     "metadata": {},
     "output_type": "execute_result"
    }
   ],
   "source": [
    "len(train_label_data), len(train_user_data), len(train_utter_data)"
   ]
  },
  {
   "cell_type": "code",
   "execution_count": 98,
   "metadata": {},
   "outputs": [
    {
     "data": {
      "text/plain": [
       "(['Okay. ',\n",
       "  \"All right, uh, feelings on what caused the S and L crisis I guess I don't have a real technical knowledge for what happened I gather that there where large numbers of situations where loans were made that appeared to be a good loan but in a speculative since and with have little regulation going on because of deregulation during the Reagan eight years, uh, more and more S and L simply began to take riskier and riskier loans and then when they began to collapse one after the other I think almost like an avalanche of, of property values devalued. \",\n",
       "  \"Uh-huh, kind of like a domino's effect. \",\n",
       "  \"Right. I don't have a, a field for whether or not this is the equivalent of what was called the teapot dome. Uh, scandal, \",\n",
       "  'Oh, . ',\n",
       "  'are you familiar with that, from your histories lessons or whatever. ',\n",
       "  'No. No. ',\n",
       "  \"Uh, I vaguely recall but I've never gone and done any study on it since the S and L thing that teapot dome scandal is when I think during the Hoover years where gobs of land was, was sold at really inflated prices on the theory that there were natural gas beneath it, and that, that appeared to be corruption within the Hoover administration. I don't have a real since of, of like corruption that caused S and L all though I have a feeling that people look the other way when things began to go sourer maybe. \",\n",
       "  \"Uh-huh. No, I don't think it was really corruption that caused it, or within I think people just started, you know, not being as careful with the loans that they were making whenever, you know, whenever they gave them out. \",\n",
       "  'Uh-huh. '],\n",
       " ['fo_o_fw_\"_by_bc', 'sd', 'bf', 'sd', 'b', 'qy', 'nn', 'sv', 'sv', 'b'])"
      ]
     },
     "execution_count": 98,
     "metadata": {},
     "output_type": "execute_result"
    }
   ],
   "source": [
    "train_utter_data[0][:10], train_label_data[0][:10]"
   ]
  },
  {
   "cell_type": "code",
   "execution_count": null,
   "metadata": {},
   "outputs": [],
   "source": []
  },
  {
   "cell_type": "code",
   "execution_count": null,
   "metadata": {},
   "outputs": [],
   "source": []
  },
  {
   "cell_type": "code",
   "execution_count": null,
   "metadata": {},
   "outputs": [],
   "source": []
  },
  {
   "cell_type": "code",
   "execution_count": null,
   "metadata": {},
   "outputs": [],
   "source": []
  },
  {
   "cell_type": "code",
   "execution_count": null,
   "metadata": {},
   "outputs": [],
   "source": []
  },
  {
   "cell_type": "code",
   "execution_count": null,
   "metadata": {},
   "outputs": [],
   "source": []
  },
  {
   "cell_type": "code",
   "execution_count": null,
   "metadata": {},
   "outputs": [],
   "source": []
  },
  {
   "cell_type": "code",
   "execution_count": 114,
   "metadata": {},
   "outputs": [],
   "source": [
    "train_utter_data = []\n",
    "train_user_data = []\n",
    "train_label_data = []\n",
    "text = \"\"\n",
    "\n",
    "for i,v in enumerate(utter_user):\n",
    "    \n",
    "    if utter_user[i-1] != v:\n",
    "        #print(\"実行\")\n",
    "        train_user_data.append(utter_user[i-1])\n",
    "        train_utter_data.append(text)\n",
    "        train_label_data.append(utter_label[i-1])\n",
    "        text = \"\"\n",
    "        \n",
    "    text += utter[i] + \" \"\n",
    "    #print(text)"
   ]
  },
  {
   "cell_type": "code",
   "execution_count": 115,
   "metadata": {},
   "outputs": [
    {
     "data": {
      "text/plain": [
       "[\"Have you ever gotten one of those calls that is either generated by a computer or somebody going down a list and their either offering a service or they're introducing some new product in the area and normally when they call, you're either in the shower, or you're in the middle of cooking something and you have to stop everything to run to the phone. \",\n",
       " \"Yes, yes. Is, is that one that you're talking about. \",\n",
       " \"That was the big one I'm talking about. I work weird hours, and invariably just about the time, I'm going to sleep, the phone tears off the wall. \",\n",
       " 'Uh-huh, uh-huh. ',\n",
       " 'And you are trying to crawl out of a half unconscious sleep and answer the phone, you either hear, the as soon as you say hello, you hear the click of the recording coming on, ',\n",
       " 'Uh-huh. ',\n",
       " \"or you hear somebody all ready starting, reading off a list of stuff that they've read probably a thousand times that day already. \",\n",
       " \"That's true, or the ones that are, are generated by a computer. It's just a computer voice that comes on the line. Those are the ones that I really, really hate too. \",\n",
       " \"I've even had some of them, the, they're voice activated and you've got to say hello twice before they'll do anything. \",\n",
       " \"Uh-huh, uh-huh. Yeah, sometimes I, I get them on my, uh, answering machine at home so, and I hate that when I've got a whole bunch of messages and I go through them and most of them aren't from anybody at all. \"]"
      ]
     },
     "execution_count": 115,
     "metadata": {},
     "output_type": "execute_result"
    }
   ],
   "source": [
    "train_utter_data[:10]"
   ]
  },
  {
   "cell_type": "code",
   "execution_count": 116,
   "metadata": {},
   "outputs": [
    {
     "data": {
      "text/plain": [
       "['fo_o_fw_\"_by_bc', 'qy', 'sd', 'b', 'sd', 'b', 'sd', 'sd', 'sd', 'sd']"
      ]
     },
     "execution_count": 116,
     "metadata": {},
     "output_type": "execute_result"
    }
   ],
   "source": [
    "train_label_data[:10]"
   ]
  },
  {
   "cell_type": "code",
   "execution_count": 117,
   "metadata": {},
   "outputs": [
    {
     "data": {
      "text/plain": [
       "['A', 'B', 'A', 'B', 'A', 'B', 'A', 'B', 'A', 'B']"
      ]
     },
     "execution_count": 117,
     "metadata": {},
     "output_type": "execute_result"
    }
   ],
   "source": [
    "train_user_data[:10]"
   ]
  },
  {
   "cell_type": "code",
   "execution_count": 124,
   "metadata": {},
   "outputs": [],
   "source": [
    "train_data = tf.data.Dataset.from_tensor_slices((train_utter_data[:-1], train_label_data[1:]))"
   ]
  },
  {
   "cell_type": "code",
   "execution_count": 128,
   "metadata": {},
   "outputs": [
    {
     "name": "stdout",
     "output_type": "stream",
     "text": [
      "tf.Tensor(b\"Have you ever gotten one of those calls that is either generated by a computer or somebody going down a list and their either offering a service or they're introducing some new product in the area and normally when they call, you're either in the shower, or you're in the middle of cooking something and you have to stop everything to run to the phone. \", shape=(), dtype=string) tf.Tensor(b'qy', shape=(), dtype=string)\n"
     ]
    }
   ],
   "source": [
    "i,v = next(iter(train_data))\n",
    "print(i,v)"
   ]
  },
  {
   "cell_type": "code",
   "execution_count": null,
   "metadata": {},
   "outputs": [],
   "source": []
  },
  {
   "cell_type": "code",
   "execution_count": 11,
   "metadata": {},
   "outputs": [],
   "source": [
    "labels = set(utter_label)\n",
    "utter_labels = []\n",
    "for i in utter_label:\n",
    "    for j,v in enumerate(labels):\n",
    "        if i == v:\n",
    "            utter_labels.append(j)\n",
    "        "
   ]
  },
  {
   "cell_type": "code",
   "execution_count": 8,
   "metadata": {},
   "outputs": [],
   "source": [
    "import tensorflow as tf\n",
    "import tensorflow_datasets as tfds"
   ]
  },
  {
   "cell_type": "code",
   "execution_count": 12,
   "metadata": {},
   "outputs": [],
   "source": [
    "train_data = tf.data.Dataset.from_tensor_slices((utter, utter_labels))"
   ]
  },
  {
   "cell_type": "code",
   "execution_count": 23,
   "metadata": {},
   "outputs": [],
   "source": [
    "## ボキャブラリーリスト\n",
    "vocabulary_set = set()\n",
    "## トークナイザー\n",
    "tokenizer = tfds.features.text.Tokenizer()\n",
    "\n",
    "## 分かち書き\n",
    "for text_tensor,_ in train_data:\n",
    "    some_tokens = tokenizer.tokenize(text_tensor.numpy())\n",
    "    vocabulary_set.update(some_tokens)\n",
    "    \n",
    "## ボキャブラリーリスト作成\n",
    "vocab_size = len(vocabulary_set)"
   ]
  },
  {
   "cell_type": "code",
   "execution_count": 34,
   "metadata": {},
   "outputs": [],
   "source": [
    "encoder = tfds.features.text.TokenTextEncoder(vocabulary_set)"
   ]
  },
  {
   "cell_type": "code",
   "execution_count": 63,
   "metadata": {},
   "outputs": [
    {
     "data": {
      "text/plain": [
       "'\\nMAX_LENGTH = 10\\ndef filter_max_length(x,y,max_length=MAX_LENGTH):\\n    return tf.logical_and(tf.size(x) <= max_length,\\n                        tf.size(y) <= max_length)\\n'"
      ]
     },
     "execution_count": 63,
     "metadata": {},
     "output_type": "execute_result"
    }
   ],
   "source": [
    "def encode(token, label):\n",
    "    token = encoder.encode(token.numpy())\n",
    "    return token, label\n",
    "\n",
    "@tf.function\n",
    "def tf_encoder(utter, label):\n",
    "    encoded_text, label = tf.py_function(encode,[utter, label],[tf.int64, tf.int32])\n",
    "    encoded_text.set_shape([None])\n",
    "    label.set_shape([])\n",
    "    return encoded_text, label\n",
    "\n",
    "\"\"\"\n",
    "MAX_LENGTH = 10\n",
    "def filter_max_length(x,y,max_length=MAX_LENGTH):\n",
    "    return tf.logical_and(tf.size(x) <= max_length,\n",
    "                        tf.size(y) <= max_length)\n",
    "\"\"\""
   ]
  },
  {
   "cell_type": "code",
   "execution_count": 46,
   "metadata": {},
   "outputs": [
    {
     "data": {
      "text/plain": [
       "<TensorSliceDataset shapes: ((), ()), types: (tf.string, tf.int32)>"
      ]
     },
     "execution_count": 46,
     "metadata": {},
     "output_type": "execute_result"
    }
   ],
   "source": [
    "train_data"
   ]
  },
  {
   "cell_type": "code",
   "execution_count": 54,
   "metadata": {},
   "outputs": [],
   "source": [
    "all_train_data_encode = train_data.map(tf_encoder)"
   ]
  },
  {
   "cell_type": "code",
   "execution_count": 55,
   "metadata": {},
   "outputs": [
    {
     "data": {
      "text/plain": [
       "<MapDataset shapes: ((None,), ()), types: (tf.int64, tf.int32)>"
      ]
     },
     "execution_count": 55,
     "metadata": {},
     "output_type": "execute_result"
    }
   ],
   "source": [
    "all_train_data_encode"
   ]
  },
  {
   "cell_type": "code",
   "execution_count": 56,
   "metadata": {},
   "outputs": [
    {
     "name": "stdout",
     "output_type": "stream",
     "text": [
      "tf.Tensor([276], shape=(1,), dtype=int64) tf.Tensor(4, shape=(), dtype=int32)\n",
      "tf.Tensor(\n",
      "[153 238 267 379 300 354 392 196 342 201 367  50 177 196 177 149 196 326\n",
      " 285 196  60 369 354 336  95 169], shape=(26,), dtype=int64) tf.Tensor(9, shape=(), dtype=int32)\n",
      "tf.Tensor(\n",
      "[275 305 152 288 114 367 392 288 114 306 305  93 263 405  89  77  93  44\n",
      " 367 139  71 364 354 201 367 392 368 288 114  94 367 392  24 367 392 226\n",
      " 196  14 312 196 367 392  14 312 357 259], shape=(46,), dtype=int64) tf.Tensor(1, shape=(), dtype=int32)\n",
      "tf.Tensor([106], shape=(1,), dtype=int64) tf.Tensor(0, shape=(), dtype=int32)\n",
      "tf.Tensor([198], shape=(1,), dtype=int64) tf.Tensor(0, shape=(), dtype=int32)\n"
     ]
    }
   ],
   "source": [
    "for i,v in all_train_data_encode.take(5):\n",
    "    print(i,v)"
   ]
  },
  {
   "cell_type": "code",
   "execution_count": 57,
   "metadata": {},
   "outputs": [],
   "source": [
    "all_train_data_encode = all_train_data_encode.filter(filter_max_length)"
   ]
  },
  {
   "cell_type": "code",
   "execution_count": 58,
   "metadata": {},
   "outputs": [
    {
     "name": "stdout",
     "output_type": "stream",
     "text": [
      "tf.Tensor([276], shape=(1,), dtype=int64) tf.Tensor(4, shape=(), dtype=int32)\n",
      "tf.Tensor([106], shape=(1,), dtype=int64) tf.Tensor(0, shape=(), dtype=int32)\n",
      "tf.Tensor([198], shape=(1,), dtype=int64) tf.Tensor(0, shape=(), dtype=int32)\n",
      "tf.Tensor([153 387], shape=(2,), dtype=int64) tf.Tensor(5, shape=(), dtype=int32)\n",
      "tf.Tensor([ 26 228 125 136  77 336  95 169], shape=(8,), dtype=int64) tf.Tensor(6, shape=(), dtype=int32)\n"
     ]
    }
   ],
   "source": [
    "for i,v in all_train_data_encode.take(5):\n",
    "    print(i,v)"
   ]
  },
  {
   "cell_type": "code",
   "execution_count": null,
   "metadata": {},
   "outputs": [],
   "source": []
  },
  {
   "cell_type": "code",
   "execution_count": 60,
   "metadata": {},
   "outputs": [],
   "source": [
    "BATCH_SIZE = 64\n",
    "max_len = 40"
   ]
  },
  {
   "cell_type": "code",
   "execution_count": 61,
   "metadata": {},
   "outputs": [],
   "source": [
    "train_datasets = all_train_data_encode.padded_batch(64, padded_shapes=([max_len], []), drop_remainder=True)"
   ]
  },
  {
   "cell_type": "code",
   "execution_count": 75,
   "metadata": {},
   "outputs": [
    {
     "data": {
      "text/plain": [
       "TensorShape([64, 40])"
      ]
     },
     "execution_count": 75,
     "metadata": {},
     "output_type": "execute_result"
    }
   ],
   "source": [
    "train_batch, train_labels = next(iter(train_datasets))\n",
    "train_batch.numpy()\n",
    "train_batch.shape"
   ]
  },
  {
   "cell_type": "code",
   "execution_count": 69,
   "metadata": {},
   "outputs": [],
   "source": [
    "emb = tf.keras.layers.Embedding(encoder.vocab_size, 64)"
   ]
  },
  {
   "cell_type": "code",
   "execution_count": 74,
   "metadata": {},
   "outputs": [
    {
     "data": {
      "text/plain": [
       "TensorShape([64, 40, 64])"
      ]
     },
     "execution_count": 74,
     "metadata": {},
     "output_type": "execute_result"
    }
   ],
   "source": [
    "result = emb(train_batch)\n",
    "result.shape"
   ]
  },
  {
   "cell_type": "code",
   "execution_count": 7,
   "metadata": {},
   "outputs": [],
   "source": [
    "train_dataset = []\n",
    "f = open(train_data, \"r\", encoding='utf-8')\n",
    "for row in f:\n",
    "    train_dataset.append(row.strip())\n",
    "f.close()"
   ]
  },
  {
   "cell_type": "code",
   "execution_count": 8,
   "metadata": {},
   "outputs": [
    {
     "data": {
      "text/plain": [
       "192390"
      ]
     },
     "execution_count": 8,
     "metadata": {},
     "output_type": "execute_result"
    }
   ],
   "source": [
    "len(train_dataset)"
   ]
  },
  {
   "cell_type": "code",
   "execution_count": 9,
   "metadata": {},
   "outputs": [],
   "source": [
    "test_dataset = []\n",
    "f = open(test_data, \"r\", encoding='utf-8')\n",
    "for row in f:\n",
    "    test_dataset.append(row.strip())\n",
    "f.close()"
   ]
  },
  {
   "cell_type": "code",
   "execution_count": 10,
   "metadata": {},
   "outputs": [
    {
     "data": {
      "text/plain": [
       "4078"
      ]
     },
     "execution_count": 10,
     "metadata": {},
     "output_type": "execute_result"
    }
   ],
   "source": [
    "len(test_dataset)"
   ]
  },
  {
   "cell_type": "code",
   "execution_count": 11,
   "metadata": {},
   "outputs": [],
   "source": [
    "val_dataset = []\n",
    "f = open(val_data, \"r\", encoding='utf-8')\n",
    "for row in f:\n",
    "    val_dataset.append(row.strip())\n",
    "f.close()"
   ]
  },
  {
   "cell_type": "code",
   "execution_count": 12,
   "metadata": {},
   "outputs": [
    {
     "data": {
      "text/plain": [
       "3272"
      ]
     },
     "execution_count": 12,
     "metadata": {},
     "output_type": "execute_result"
    }
   ],
   "source": [
    "len(val_dataset)"
   ]
  },
  {
   "cell_type": "markdown",
   "metadata": {},
   "source": [
    "## データの分割"
   ]
  },
  {
   "cell_type": "code",
   "execution_count": 13,
   "metadata": {},
   "outputs": [],
   "source": [
    "utter_user = []\n",
    "utter = []\n",
    "utter_label = []"
   ]
  },
  {
   "cell_type": "code",
   "execution_count": 14,
   "metadata": {},
   "outputs": [
    {
     "data": {
      "text/plain": [
       "['A', 'Okay.', 'fo_o_fw_\"_by_bc']"
      ]
     },
     "execution_count": 14,
     "metadata": {},
     "output_type": "execute_result"
    }
   ],
   "source": [
    "train_dataset[0]\n",
    "train_dataset[0].split(\"|\")"
   ]
  },
  {
   "cell_type": "code",
   "execution_count": 15,
   "metadata": {},
   "outputs": [
    {
     "name": "stdout",
     "output_type": "stream",
     "text": [
      "finish\n"
     ]
    }
   ],
   "source": [
    "for j in train_dataset:\n",
    "    for i,v in enumerate(j.split(\"|\")):\n",
    "        if i == 0:\n",
    "            utter_user.append(v)\n",
    "        elif i==1:\n",
    "            utter.append(v)\n",
    "        else:\n",
    "            utter_label.append(v)\n",
    "print(\"finish\")"
   ]
  },
  {
   "cell_type": "code",
   "execution_count": null,
   "metadata": {},
   "outputs": [],
   "source": []
  },
  {
   "cell_type": "markdown",
   "metadata": {},
   "source": [
    "# 英語翻訳"
   ]
  },
  {
   "cell_type": "markdown",
   "metadata": {},
   "source": [
    "## 蛇の目"
   ]
  },
  {
   "cell_type": "code",
   "execution_count": 132,
   "metadata": {},
   "outputs": [
    {
     "name": "stdout",
     "output_type": "stream",
     "text": [
      "Requirement already satisfied: janome in /opt/conda/lib/python3.8/site-packages (0.4.1)\n",
      "Note: you may need to restart the kernel to use updated packages.\n"
     ]
    }
   ],
   "source": [
    "pip install janome"
   ]
  },
  {
   "cell_type": "code",
   "execution_count": 149,
   "metadata": {},
   "outputs": [],
   "source": [
    "from janome.tokenizer import Tokenizer"
   ]
  },
  {
   "cell_type": "markdown",
   "metadata": {},
   "source": [
    "## tensorflow"
   ]
  },
  {
   "cell_type": "code",
   "execution_count": 133,
   "metadata": {},
   "outputs": [],
   "source": [
    "import tensorflow as tf\n",
    "import tensorflow_datasets as tfds"
   ]
  },
  {
   "cell_type": "markdown",
   "metadata": {},
   "source": [
    "## データの取り出し"
   ]
  },
  {
   "cell_type": "code",
   "execution_count": 193,
   "metadata": {},
   "outputs": [],
   "source": [
    "en_utter = []\n",
    "jp_utter = []\n",
    "path = \"./ch07/dataset/jpn.txt\""
   ]
  },
  {
   "cell_type": "code",
   "execution_count": 194,
   "metadata": {},
   "outputs": [],
   "source": [
    "f = open(path, \"r\", encoding='utf-8')\n",
    "text = \"\"\n",
    "max_length = 0\n",
    "count = 0\n",
    "max_length_row = 0\n",
    "\n",
    "for row in f:\n",
    "    idx = row.find(\"_\")\n",
    "    if max_length < idx:\n",
    "        max_length = idx\n",
    "        max_length_row = count\n",
    "    en_utter.append(row[:idx])\n",
    "    jp_utter.append(row[idx+1:].split(\"\\n\")[0])\n",
    "    count += 1"
   ]
  },
  {
   "cell_type": "code",
   "execution_count": 198,
   "metadata": {},
   "outputs": [],
   "source": [
    "f.close()"
   ]
  },
  {
   "cell_type": "markdown",
   "metadata": {},
   "source": [
    "## 配列をランダムに配置させる"
   ]
  },
  {
   "cell_type": "code",
   "execution_count": 211,
   "metadata": {},
   "outputs": [],
   "source": [
    "import random\n",
    "def rand_ints_nodup(a, b, k):\n",
    "    ns = []\n",
    "    while len(ns) < k:\n",
    "        n = random.randint(a, b)\n",
    "        if not n in ns:\n",
    "            ns.append(n)\n",
    "    return ns\n",
    "\n",
    "random_lists = rand_ints_nodup(0, len(en_utter), 5000)"
   ]
  },
  {
   "cell_type": "code",
   "execution_count": 213,
   "metadata": {},
   "outputs": [],
   "source": [
    "tests_list_jp = []\n",
    "tests_list_en = []\n",
    "\n",
    "for i in random_lists:\n",
    "    tests_list_en.append(en_utter[i])\n",
    "    tests_list_jp.append(jp_utter[i])"
   ]
  },
  {
   "cell_type": "code",
   "execution_count": 214,
   "metadata": {},
   "outputs": [],
   "source": [
    "train_list_jp = []\n",
    "train_list_en = []\n",
    "\n",
    "for i in range(len(en_utter)):\n",
    "    if i in random_lists:\n",
    "        continue\n",
    "        \n",
    "    train_list_en.append(en_utter[i])\n",
    "    train_list_jp.append(jp_utter[i])"
   ]
  },
  {
   "cell_type": "code",
   "execution_count": 215,
   "metadata": {},
   "outputs": [
    {
     "data": {
      "text/plain": [
       "(50639, 5000)"
      ]
     },
     "execution_count": 215,
     "metadata": {},
     "output_type": "execute_result"
    }
   ],
   "source": [
    "len(train_list_en), len(tests_list_en)"
   ]
  },
  {
   "cell_type": "markdown",
   "metadata": {},
   "source": [
    "## トークナイザ"
   ]
  },
  {
   "cell_type": "code",
   "execution_count": 216,
   "metadata": {},
   "outputs": [],
   "source": [
    "entokenizer = tfds.features.text.Tokenizer()\n",
    "jptokenizer = Tokenizer(wakati=True)"
   ]
  },
  {
   "cell_type": "code",
   "execution_count": 217,
   "metadata": {},
   "outputs": [],
   "source": [
    "inp_tokens, out_tokens = [], []\n",
    "for i in en_utter:\n",
    "    inp_tokens += entokenizer.tokenize(i)\n",
    "for j in jp_utter:\n",
    "    out_tokens += jptokenizer.tokenize(j)"
   ]
  },
  {
   "cell_type": "code",
   "execution_count": 243,
   "metadata": {},
   "outputs": [
    {
     "data": {
      "text/plain": [
       "378947"
      ]
     },
     "execution_count": 243,
     "metadata": {},
     "output_type": "execute_result"
    }
   ],
   "source": [
    "len(inp_tokens)"
   ]
  },
  {
   "cell_type": "code",
   "execution_count": 244,
   "metadata": {},
   "outputs": [],
   "source": [
    "inp_vocab_lists = set(inp_tokens)\n",
    "out_vocab_lists = set(out_tokens)"
   ]
  },
  {
   "cell_type": "code",
   "execution_count": 247,
   "metadata": {},
   "outputs": [
    {
     "data": {
      "text/plain": [
       "10648"
      ]
     },
     "execution_count": 247,
     "metadata": {},
     "output_type": "execute_result"
    }
   ],
   "source": [
    "len(inp_vocab_lists)"
   ]
  },
  {
   "cell_type": "markdown",
   "metadata": {},
   "source": [
    "### ボキャブサイズ取得"
   ]
  },
  {
   "cell_type": "code",
   "execution_count": 219,
   "metadata": {},
   "outputs": [],
   "source": [
    "inp_vocab_size = len(inp_vocab_lists)\n",
    "out_vocab_size = len(out_vocab_lists)"
   ]
  },
  {
   "cell_type": "code",
   "execution_count": 220,
   "metadata": {},
   "outputs": [],
   "source": [
    "tokenizaer_enutter = tfds.features.text.TokenTextEncoder(inp_vocab_lists)\n",
    "tokenizaer_jputter = tfds.features.text.TokenTextEncoder(out_vocab_lists)"
   ]
  },
  {
   "cell_type": "markdown",
   "metadata": {},
   "source": [
    "## データセットの用意"
   ]
  },
  {
   "cell_type": "code",
   "execution_count": 222,
   "metadata": {},
   "outputs": [],
   "source": [
    "train_dataset = tf.data.Dataset.from_tensor_slices((train_list_en, train_list_jp))"
   ]
  },
  {
   "cell_type": "code",
   "execution_count": 223,
   "metadata": {},
   "outputs": [],
   "source": [
    "test_dataset = tf.data.Dataset.from_tensor_slices((tests_list_en, tests_list_jp))"
   ]
  },
  {
   "cell_type": "markdown",
   "metadata": {},
   "source": [
    "## パラメータ設定"
   ]
  },
  {
   "cell_type": "code",
   "execution_count": 224,
   "metadata": {},
   "outputs": [],
   "source": [
    "BUFFER_SIZE = 50000\n",
    "BATCH_SIZE = 64\n",
    "TAKE_SIZE = 5000\n",
    "MAX_LENGTH = 40\n",
    "# 埋め込みベクトルの次元\n",
    "embedding_dim = 256\n",
    "# RNN ユニットの数\n",
    "rnn_units = 1024"
   ]
  },
  {
   "cell_type": "code",
   "execution_count": 250,
   "metadata": {},
   "outputs": [],
   "source": [
    "en_encoder = tfds.features.text.TokenTextEncoder(inp_vocab_lists)\n",
    "jp_encoder = tfds.features.text.TokenTextEncoder(out_vocab_lists)"
   ]
  },
  {
   "cell_type": "code",
   "execution_count": 252,
   "metadata": {},
   "outputs": [],
   "source": [
    "def encode(en,jp):\n",
    "    en = en_encoder.encode(en.numpy())\n",
    "    jp = jp_encoder.encode(jp.numpy())\n",
    "    return en, jp"
   ]
  },
  {
   "cell_type": "markdown",
   "metadata": {},
   "source": [
    "## 文の長さを固定"
   ]
  },
  {
   "cell_type": "code",
   "execution_count": 160,
   "metadata": {},
   "outputs": [],
   "source": [
    "def filter_max_length(x, y, max_length=MAX_LENGTH):\n",
    "    return tf.logical_and(tf.size(x) <= max_length,tf.size(y) <= max_length)"
   ]
  },
  {
   "cell_type": "code",
   "execution_count": 253,
   "metadata": {},
   "outputs": [],
   "source": [
    "def tf_encoder(en, jp):\n",
    "    return tf.py_function(encode, [en,jp], [tf.int64, tf.int64])"
   ]
  },
  {
   "cell_type": "markdown",
   "metadata": {},
   "source": [
    "## データの中身確認"
   ]
  },
  {
   "cell_type": "code",
   "execution_count": 254,
   "metadata": {},
   "outputs": [
    {
     "data": {
      "text/plain": [
       "<PrefetchDataset shapes: ((None, None), (None, None)), types: (tf.int64, tf.int64)>"
      ]
     },
     "execution_count": 254,
     "metadata": {},
     "output_type": "execute_result"
    }
   ],
   "source": [
    "train_data = train_dataset.map(tf_encoder)\n",
    "#train_data = train_data.filter(filter_max_length)\n",
    "train_data = train_data.cache()\n",
    "train_data = train_data.shuffle(BUFFER_SIZE).padded_batch(BATCH_SIZE, padded_shapes=([-1], [-1]))\n",
    "train_data.prefetch(tf.data.experimental.AUTOTUNE)"
   ]
  },
  {
   "cell_type": "code",
   "execution_count": 255,
   "metadata": {},
   "outputs": [
    {
     "data": {
      "text/plain": [
       "(TensorShape([64, 13]), TensorShape([64, 2]))"
      ]
     },
     "execution_count": 255,
     "metadata": {},
     "output_type": "execute_result"
    }
   ],
   "source": [
    "example_input_batch, example_target_batch = next(iter(train_data))\n",
    "example_input_batch.shape, example_target_batch.shape"
   ]
  },
  {
   "cell_type": "code",
   "execution_count": 256,
   "metadata": {},
   "outputs": [
    {
     "data": {
      "text/plain": [
       "(TensorShape([64, 1024]), TensorShape([64, 13]))"
      ]
     },
     "execution_count": 256,
     "metadata": {},
     "output_type": "execute_result"
    }
   ],
   "source": [
    "sample_hidden.shape, example_input_batch.shape"
   ]
  },
  {
   "cell_type": "markdown",
   "metadata": {},
   "source": [
    "## モデル作成"
   ]
  },
  {
   "cell_type": "markdown",
   "metadata": {},
   "source": [
    "## Encoder"
   ]
  },
  {
   "cell_type": "code",
   "execution_count": 257,
   "metadata": {},
   "outputs": [],
   "source": [
    "class Encoder(tf.keras.Model):\n",
    "    def __init__(self, vocab_size, embedding_dim, enc_units, batch_sz):\n",
    "        super(Encoder, self).__init__()\n",
    "        self.batch_sz = batch_sz\n",
    "        self.enc_units = enc_units\n",
    "        self.embedding = tf.keras.layers.Embedding(vocab_size, embedding_dim)\n",
    "        self.gru = tf.keras.layers.GRU(self.enc_units,\n",
    "                                   return_sequences=True,\n",
    "                                   return_state=True,\n",
    "                                   recurrent_initializer='glorot_uniform')\n",
    "\n",
    "    def call(self, x, hidden):\n",
    "        x = self.embedding(x)\n",
    "        output, state = self.gru(x, initial_state = hidden)\n",
    "        return output, state\n",
    "\n",
    "    def initialize_hidden_state(self):\n",
    "        return tf.zeros((self.batch_sz, self.enc_units))"
   ]
  },
  {
   "cell_type": "code",
   "execution_count": 258,
   "metadata": {},
   "outputs": [],
   "source": [
    "encoder = Encoder(inp_vocab_size, embedding_dim, rnn_units, BATCH_SIZE)\n",
    "sample_hidden = encoder.initialize_hidden_state()\n",
    "sample_output, sample_hidden = encoder(example_input_batch, sample_hidden)"
   ]
  },
  {
   "cell_type": "code",
   "execution_count": 259,
   "metadata": {},
   "outputs": [
    {
     "name": "stdout",
     "output_type": "stream",
     "text": [
      "Encoder output shape: (batch size, sequence length, units) (64, 13, 1024)\n",
      "Encoder Hidden state shape: (batch size, units) (64, 1024)\n"
     ]
    }
   ],
   "source": [
    "print ('Encoder output shape: (batch size, sequence length, units) {}'.format(sample_output.shape))\n",
    "print ('Encoder Hidden state shape: (batch size, units) {}'.format(sample_hidden.shape))"
   ]
  },
  {
   "cell_type": "code",
   "execution_count": 287,
   "metadata": {},
   "outputs": [
    {
     "name": "stdout",
     "output_type": "stream",
     "text": [
      "Model: \"encoder_4\"\n",
      "_________________________________________________________________\n",
      "Layer (type)                 Output Shape              Param #   \n",
      "=================================================================\n",
      "embedding_10 (Embedding)     multiple                  2725888   \n",
      "_________________________________________________________________\n",
      "gru_7 (GRU)                  multiple                  3938304   \n",
      "=================================================================\n",
      "Total params: 6,664,192\n",
      "Trainable params: 6,664,192\n",
      "Non-trainable params: 0\n",
      "_________________________________________________________________\n"
     ]
    }
   ],
   "source": [
    "encoder.summary()"
   ]
  },
  {
   "cell_type": "markdown",
   "metadata": {},
   "source": [
    "## Decoder"
   ]
  },
  {
   "cell_type": "code",
   "execution_count": 285,
   "metadata": {},
   "outputs": [],
   "source": [
    "class Decoder(tf.keras.Model):\n",
    "    def __init__(self, vocab_size, embedding_dim, dec_units, batch_sz):\n",
    "        super(Decoder, self).__init__()\n",
    "        self.batch_sz = batch_sz\n",
    "        self.dec_units = dec_units\n",
    "        self.embedding = tf.keras.layers.Embedding(vocab_size, embedding_dim)\n",
    "        self.gru = tf.keras.layers.GRU(self.dec_units,\n",
    "                                   return_sequences=True,\n",
    "                                   return_state=True,\n",
    "                                   recurrent_initializer='glorot_uniform')\n",
    "        self.fc = tf.keras.layers.Dense(vocab_size)\n",
    "        \n",
    "        \n",
    "    def call(self, x, hidden):\n",
    "        \n",
    "        x = self.embedding(x)\n",
    "        output, state = self.gru(x)\n",
    "        output = tf.reshape(output, (-1, output.shape[2]))\n",
    "        x = self.fc(output)\n",
    "        return x, state"
   ]
  },
  {
   "cell_type": "code",
   "execution_count": 278,
   "metadata": {},
   "outputs": [],
   "source": [
    "decoder = Decoder(out_vocab_size, embedding_dim, rnn_units, BATCH_SIZE)\n",
    "sample_decoder_output, _ = decoder(tf.random.uniform((64, 1)), sample_hidden)"
   ]
  },
  {
   "cell_type": "code",
   "execution_count": 279,
   "metadata": {},
   "outputs": [
    {
     "data": {
      "text/plain": [
       "TensorShape([64, 14804])"
      ]
     },
     "execution_count": 279,
     "metadata": {},
     "output_type": "execute_result"
    }
   ],
   "source": [
    "sample_decoder_output.shape"
   ]
  },
  {
   "cell_type": "code",
   "execution_count": 288,
   "metadata": {},
   "outputs": [
    {
     "name": "stdout",
     "output_type": "stream",
     "text": [
      "Model: \"decoder_5\"\n",
      "_________________________________________________________________\n",
      "Layer (type)                 Output Shape              Param #   \n",
      "=================================================================\n",
      "embedding_16 (Embedding)     multiple                  3789824   \n",
      "_________________________________________________________________\n",
      "gru_12 (GRU)                 multiple                  3938304   \n",
      "_________________________________________________________________\n",
      "dense_11 (Dense)             multiple                  15174100  \n",
      "=================================================================\n",
      "Total params: 22,902,228\n",
      "Trainable params: 22,902,228\n",
      "Non-trainable params: 0\n",
      "_________________________________________________________________\n"
     ]
    }
   ],
   "source": [
    "decoder.summary()"
   ]
  },
  {
   "cell_type": "markdown",
   "metadata": {},
   "source": [
    "## オプティマイザと損失関数の定義"
   ]
  },
  {
   "cell_type": "code",
   "execution_count": 280,
   "metadata": {},
   "outputs": [],
   "source": [
    "optimizer = tf.keras.optimizers.Adam()\n",
    "loss_object = tf.keras.losses.SparseCategoricalCrossentropy(\n",
    "    from_logits=True, reduction='none')\n",
    "\n",
    "def loss_function(real, pred):\n",
    "    mask = tf.math.logical_not(tf.math.equal(real, 0))\n",
    "    loss_ = loss_object(real, pred)\n",
    "\n",
    "    mask = tf.cast(mask, dtype=loss_.dtype)\n",
    "    loss_ *= mask\n",
    "\n",
    "    return tf.reduce_mean(loss_)"
   ]
  },
  {
   "cell_type": "markdown",
   "metadata": {},
   "source": [
    "## チェックポイント"
   ]
  },
  {
   "cell_type": "code",
   "execution_count": 282,
   "metadata": {},
   "outputs": [],
   "source": [
    "import os"
   ]
  },
  {
   "cell_type": "code",
   "execution_count": 283,
   "metadata": {},
   "outputs": [],
   "source": [
    "checkpoint_dir = './training_checkpoints'\n",
    "checkpoint_prefix = os.path.join(checkpoint_dir, \"ckpt\")\n",
    "checkpoint = tf.train.Checkpoint(optimizer=optimizer,\n",
    "                                 encoder=encoder,\n",
    "                                 decoder=decoder)"
   ]
  },
  {
   "cell_type": "markdown",
   "metadata": {},
   "source": [
    "## 訓練"
   ]
  },
  {
   "cell_type": "code",
   "execution_count": 284,
   "metadata": {},
   "outputs": [],
   "source": [
    "@tf.function\n",
    "def train_step(inp, targ, enc_hidden):\n",
    "    loss = 0\n",
    "\n",
    "    with tf.GradientTape() as tape:\n",
    "        enc_output, enc_hidden = encoder(inp, enc_hidden)\n",
    "\n",
    "        dec_hidden = enc_hidden\n",
    "\n",
    "        dec_input = tf.expand_dims([targ_lang.word_index['<start>']] * BATCH_SIZE, 1)\n",
    "\n",
    "    # Teacher Forcing - 正解値を次の入力として供給\n",
    "    for t in range(1, targ.shape[1]):\n",
    "      # passing enc_output to the decoder\n",
    "        predictions, dec_hidden, _ = decoder(dec_input, dec_hidden, enc_output)\n",
    "\n",
    "        loss += loss_function(targ[:, t], predictions)\n",
    "\n",
    "      # Teacher Forcing を使用\n",
    "        dec_input = tf.expand_dims(targ[:, t], 1)\n",
    "\n",
    "    batch_loss = (loss / int(targ.shape[1]))\n",
    "\n",
    "    variables = encoder.trainable_variables + decoder.trainable_variables\n",
    "\n",
    "    gradients = tape.gradient(loss, variables)\n",
    "\n",
    "    optimizer.apply_gradients(zip(gradients, variables))\n",
    "\n",
    "    return batch_loss"
   ]
  },
  {
   "cell_type": "code",
   "execution_count": null,
   "metadata": {},
   "outputs": [],
   "source": [
    "EPOCHS = 10\n",
    "\n",
    "for epoch in range(EPOCHS):\n",
    "    start = time.time()\n",
    "\n",
    "    enc_hidden = encoder.initialize_hidden_state()\n",
    "    total_loss = 0\n",
    "\n",
    "    for (batch, (inp, targ)) in enumerate(train_data.take(steps_per_epoch)):\n",
    "        batch_loss = train_step(inp, targ, enc_hidden)\n",
    "        total_loss += batch_loss\n",
    "\n",
    "        if batch % 100 == 0:\n",
    "        print('Epoch {} Batch {} Loss {:.4f}'.format(epoch + 1,\n",
    "                                                     batch,\n",
    "                                                     batch_loss.numpy()))\n",
    "  # 2 エポックごとにモデル（のチェックポイント）を保存\n",
    "    if (epoch + 1) % 2 == 0:\n",
    "        checkpoint.save(file_prefix = checkpoint_prefix)\n",
    "\n",
    "    print('Epoch {} Loss {:.4f}'.format(epoch + 1,\n",
    "                                      total_loss / steps_per_epoch))\n",
    "    print('Time taken for 1 epoch {} sec\\n'.format(time.time() - start))"
   ]
  }
 ],
 "metadata": {
  "kernelspec": {
   "display_name": "Python 3",
   "language": "python",
   "name": "python3"
  },
  "language_info": {
   "codemirror_mode": {
    "name": "ipython",
    "version": 3
   },
   "file_extension": ".py",
   "mimetype": "text/x-python",
   "name": "python",
   "nbconvert_exporter": "python",
   "pygments_lexer": "ipython3",
   "version": "3.8.5"
  }
 },
 "nbformat": 4,
 "nbformat_minor": 4
}
