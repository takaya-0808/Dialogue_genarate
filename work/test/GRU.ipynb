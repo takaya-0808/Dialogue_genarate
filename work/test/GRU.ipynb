{
 "cells": [
  {
   "cell_type": "code",
   "execution_count": 5,
   "metadata": {},
   "outputs": [],
   "source": [
    "from __future__ import absolute_import, division, print_function, unicode_literals\n",
    "import tensorflow_datasets as tfds\n",
    "import tensorflow as tf\n",
    "import numpy as np\n",
    "\n",
    "import matplotlib.pyplot as plt"
   ]
  },
  {
   "cell_type": "code",
   "execution_count": 6,
   "metadata": {
    "collapsed": true,
    "jupyter": {
     "outputs_hidden": true
    }
   },
   "outputs": [
    {
     "name": "stdout",
     "output_type": "stream",
     "text": [
      "tf.Tensor(\n",
      "[[-0.23781747 -0.15315486 -0.34899867  0.12209348]\n",
      " [-0.54740393  0.42288393  0.02023208  0.6886072 ]\n",
      " [ 0.5177108   0.04065516 -0.01037304 -0.17039546]\n",
      " [ 0.07029843 -0.27201062 -0.45512447 -0.46180692]\n",
      " [ 0.25901076 -0.63453823  0.2925306  -0.26584962]\n",
      " [ 0.14051133 -0.4874902  -0.22394475 -0.27540037]\n",
      " [ 0.15024444 -0.51300013 -0.6037373   0.12581985]\n",
      " [ 0.43074265  0.46191797  0.19692297  0.8495231 ]\n",
      " [ 0.34717202  0.38504228 -0.0416719   0.01614207]\n",
      " [-0.21867912 -0.42364112 -0.11132351  0.28390002]\n",
      " [ 0.28751072 -0.09755865 -0.04072569  0.07671269]\n",
      " [ 0.4587091   0.22972907  0.04655197  0.5703226 ]\n",
      " [ 0.28103486  0.04164924 -0.2691552   0.43319216]\n",
      " [ 0.6479669  -0.58437616  0.65200394 -0.04018712]\n",
      " [-0.54791355  0.8114711  -0.49410695  0.9436602 ]\n",
      " [ 0.22608277 -0.32645634  0.24371397 -0.48655194]\n",
      " [ 0.08535485  0.36760992  0.21069336  0.8328542 ]\n",
      " [-0.5150851   0.5728459  -0.4814723   0.26637113]\n",
      " [-0.14588977  0.175538    0.1335554   0.27692604]\n",
      " [-0.25922054  0.48296833 -0.10731713  0.7442231 ]\n",
      " [-0.43614385  0.10572441  0.32665563  0.12106953]\n",
      " [ 0.4649788  -0.46709818 -0.13733451  0.13915697]\n",
      " [ 0.24359535 -0.20811924 -0.43260688  0.3154642 ]\n",
      " [ 0.16719826 -0.30840978 -0.1617296  -0.56078905]\n",
      " [ 0.27202606  0.06314608 -0.5353143   0.51376474]\n",
      " [-0.25317618 -0.50021404  0.09186924 -0.1143156 ]\n",
      " [-0.07807089  0.14660902 -0.19752371  0.24885945]\n",
      " [-0.22938722  0.42015052 -0.6058905   0.76688415]\n",
      " [ 0.01517163 -0.3696744   0.31839266  0.5056801 ]\n",
      " [-0.30422074 -0.10462525 -0.52403146 -0.18194526]\n",
      " [ 0.90250635 -0.30481693 -0.14249644  0.0987187 ]\n",
      " [ 0.6350181  -0.14822727 -0.46105278  0.04922995]], shape=(32, 4), dtype=float32)\n"
     ]
    }
   ],
   "source": [
    "inputs = tf.random.normal([32,10,8])\n",
    "gru = tf.keras.layers.GRU(4)\n",
    "output = gru(inputs)\n",
    "print(output)"
   ]
  },
  {
   "cell_type": "code",
   "execution_count": 7,
   "metadata": {},
   "outputs": [
    {
     "name": "stdout",
     "output_type": "stream",
     "text": [
      "(32, 10, 4)\n"
     ]
    }
   ],
   "source": [
    "gru = tf.keras.layers.GRU(4, return_sequences=True, return_state=True)\n",
    "whole_sequence_output, final_state = gru(inputs)\n",
    "print(whole_sequence_output.shape)"
   ]
  },
  {
   "cell_type": "markdown",
   "metadata": {},
   "source": [
    "## 発話エンコーダ設定"
   ]
  },
  {
   "cell_type": "code",
   "execution_count": 12,
   "metadata": {},
   "outputs": [],
   "source": [
    "utter_embedding = tf.keras.layers.Embedding(1000, 300)\n",
    "utter_gru = tf.keras.layers.GRU(512)"
   ]
  },
  {
   "cell_type": "markdown",
   "metadata": {},
   "source": [
    "## 文脈エンコーダ設定"
   ]
  },
  {
   "cell_type": "code",
   "execution_count": 13,
   "metadata": {},
   "outputs": [],
   "source": [
    "context_gru = tf.keras.layers.GRU(513)"
   ]
  },
  {
   "cell_type": "markdown",
   "metadata": {},
   "source": [
    "## 対話行為エンコーダ設定"
   ]
  },
  {
   "cell_type": "code",
   "execution_count": 15,
   "metadata": {},
   "outputs": [],
   "source": [
    "dialog_embedding = tf.keras.layers.Embedding(1000, 100)\n",
    "dialog_gru = tf.keras.layers.GRU(128)"
   ]
  },
  {
   "cell_type": "markdown",
   "metadata": {},
   "source": [
    "## 分類器設定"
   ]
  },
  {
   "cell_type": "code",
   "execution_count": null,
   "metadata": {},
   "outputs": [],
   "source": []
  },
  {
   "cell_type": "markdown",
   "metadata": {},
   "source": [
    "## 損失関数設定"
   ]
  },
  {
   "cell_type": "code",
   "execution_count": null,
   "metadata": {},
   "outputs": [],
   "source": []
  },
  {
   "cell_type": "markdown",
   "metadata": {},
   "source": [
    "## 最適化関数設定"
   ]
  },
  {
   "cell_type": "code",
   "execution_count": null,
   "metadata": {},
   "outputs": [],
   "source": []
  }
 ],
 "metadata": {
  "kernelspec": {
   "display_name": "Python 3",
   "language": "python",
   "name": "python3"
  },
  "language_info": {
   "codemirror_mode": {
    "name": "ipython",
    "version": 3
   },
   "file_extension": ".py",
   "mimetype": "text/x-python",
   "name": "python",
   "nbconvert_exporter": "python",
   "pygments_lexer": "ipython3",
   "version": "3.8.5"
  }
 },
 "nbformat": 4,
 "nbformat_minor": 4
}
