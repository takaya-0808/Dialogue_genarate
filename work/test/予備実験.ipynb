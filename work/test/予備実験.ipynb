{
 "cells": [
  {
   "cell_type": "markdown",
   "metadata": {},
   "source": [
    "# 予備実験"
   ]
  },
  {
   "cell_type": "markdown",
   "metadata": {},
   "source": [
    "## 発話分類"
   ]
  },
  {
   "cell_type": "code",
   "execution_count": 1,
   "metadata": {},
   "outputs": [],
   "source": [
    "%load_ext tensorboard\n",
    "import pandas as pd\n",
    "import glob\n",
    "import matplotlib.pyplot as plt\n",
    "import numpy as np"
   ]
  },
  {
   "cell_type": "code",
   "execution_count": 2,
   "metadata": {},
   "outputs": [],
   "source": [
    "import tensorflow_datasets as tfds\n",
    "import tensorflow as tf\n",
    "import datetime"
   ]
  },
  {
   "cell_type": "markdown",
   "metadata": {},
   "source": [
    "## データセット"
   ]
  },
  {
   "cell_type": "code",
   "execution_count": 3,
   "metadata": {},
   "outputs": [],
   "source": [
    "train_dataset_path = \"../Switchboard-Corpus/swda_data/train_set.txt\"\n",
    "test_dataset_path = \"../Switchboard-Corpus/swda_data/test_set.txt\"\n",
    "val_dataset_path = \"../Switchboard-Corpus/swda_data/val_set.txt\""
   ]
  },
  {
   "cell_type": "code",
   "execution_count": 4,
   "metadata": {},
   "outputs": [],
   "source": [
    "train_dataset = []\n",
    "f = open(train_dataset_path, \"r\", encoding='utf-8')\n",
    "for row in f:\n",
    "    train_dataset.append(row.strip())\n",
    "f.close()"
   ]
  },
  {
   "cell_type": "code",
   "execution_count": 5,
   "metadata": {},
   "outputs": [],
   "source": [
    "val_dataset = []\n",
    "f = open(val_dataset_path, \"r\", encoding='utf-8')\n",
    "for row in f:\n",
    "    val_dataset.append(row.strip())\n",
    "f.close()"
   ]
  },
  {
   "cell_type": "code",
   "execution_count": 6,
   "metadata": {},
   "outputs": [],
   "source": [
    "test_dataset = []\n",
    "f = open(test_dataset_path, \"r\", encoding='utf-8')\n",
    "for row in f:\n",
    "    test_dataset.append(row.strip())\n",
    "f.close()"
   ]
  },
  {
   "cell_type": "markdown",
   "metadata": {},
   "source": [
    "### データセット分割"
   ]
  },
  {
   "cell_type": "code",
   "execution_count": 7,
   "metadata": {},
   "outputs": [],
   "source": [
    "## 訓練データ\n",
    "train_utter_user = []\n",
    "train_utter = []\n",
    "train_utter_label = []\n",
    "\n",
    "## テストデータ\n",
    "test_utter_user = []\n",
    "test_utter = []\n",
    "test_utter_label = []\n",
    "\n",
    "## 検証データ\n",
    "val_utter_user = []\n",
    "val_utter = []\n",
    "val_utter_label = []"
   ]
  },
  {
   "cell_type": "code",
   "execution_count": 8,
   "metadata": {},
   "outputs": [
    {
     "name": "stdout",
     "output_type": "stream",
     "text": [
      "finish\n"
     ]
    }
   ],
   "source": [
    "for j in train_dataset:\n",
    "    for i,v in enumerate(j.split(\"|\")):\n",
    "        if i == 0:\n",
    "            train_utter_user.append(v)\n",
    "        elif i==1:\n",
    "            train_utter.append(v)\n",
    "        else:\n",
    "            train_utter_label.append(v)\n",
    "            \n",
    "print(\"finish\")"
   ]
  },
  {
   "cell_type": "code",
   "execution_count": 9,
   "metadata": {},
   "outputs": [
    {
     "name": "stdout",
     "output_type": "stream",
     "text": [
      "finish\n"
     ]
    }
   ],
   "source": [
    "for j in test_dataset:\n",
    "    for i,v in enumerate(j.split(\"|\")):\n",
    "        if i == 0:\n",
    "            test_utter_user.append(v)\n",
    "        elif i==1:\n",
    "            test_utter.append(v)\n",
    "        else:\n",
    "            test_utter_label.append(v)\n",
    "            \n",
    "print(\"finish\")"
   ]
  },
  {
   "cell_type": "code",
   "execution_count": 10,
   "metadata": {},
   "outputs": [
    {
     "name": "stdout",
     "output_type": "stream",
     "text": [
      "finish\n"
     ]
    }
   ],
   "source": [
    "for j in val_dataset:\n",
    "    for i,v in enumerate(j.split(\"|\")):\n",
    "        if i == 0:\n",
    "            val_utter_user.append(v)\n",
    "        elif i==1:\n",
    "            val_utter.append(v)\n",
    "        else:\n",
    "            val_utter_label.append(v)\n",
    "            \n",
    "print(\"finish\")"
   ]
  },
  {
   "cell_type": "markdown",
   "metadata": {},
   "source": [
    "### ラベルデータ数値化"
   ]
  },
  {
   "cell_type": "code",
   "execution_count": 11,
   "metadata": {},
   "outputs": [],
   "source": [
    "label_path = \"../Switchboard-Corpus/swda_data/metadata/labels.txt\"\n",
    "labels = []\n",
    "f = open(label_path, \"r\", encoding='utf-8')\n",
    "for row in f:\n",
    "    labels.append(row.strip())\n",
    "f.close()"
   ]
  },
  {
   "cell_type": "code",
   "execution_count": 12,
   "metadata": {},
   "outputs": [],
   "source": [
    "label = {}\n",
    "for i,v in enumerate(labels):\n",
    "    label[v] = i"
   ]
  },
  {
   "cell_type": "code",
   "execution_count": 13,
   "metadata": {},
   "outputs": [],
   "source": [
    "train_utter_labels = []\n",
    "for i in train_utter_label:\n",
    "    train_utter_labels.append(label[i])"
   ]
  },
  {
   "cell_type": "code",
   "execution_count": 14,
   "metadata": {},
   "outputs": [],
   "source": [
    "test_utter_labels = []\n",
    "for i in test_utter_label:\n",
    "    test_utter_labels.append(label[i])"
   ]
  },
  {
   "cell_type": "code",
   "execution_count": 15,
   "metadata": {},
   "outputs": [],
   "source": [
    "val_utter_labels = []\n",
    "for i in val_utter_label:\n",
    "    val_utter_labels.append(label[i])"
   ]
  },
  {
   "cell_type": "markdown",
   "metadata": {},
   "source": [
    "## データセットをtensorflowに扱える形にする"
   ]
  },
  {
   "cell_type": "code",
   "execution_count": 16,
   "metadata": {},
   "outputs": [],
   "source": [
    "train_data = tf.data.Dataset.from_tensor_slices((train_utter, train_utter_labels))\n",
    "test_data = tf.data.Dataset.from_tensor_slices((test_utter, test_utter_labels))\n",
    "val_data = tf.data.Dataset.from_tensor_slices((val_utter, val_utter_labels))\n",
    "#test_data = tf.data.Dataset.from_tensor_slices((test_utter))"
   ]
  },
  {
   "cell_type": "code",
   "execution_count": 18,
   "metadata": {},
   "outputs": [
    {
     "name": "stdout",
     "output_type": "stream",
     "text": [
      "tf.Tensor(b'Okay.', shape=(), dtype=string) tf.Tensor(17, shape=(), dtype=int32)\n",
      "tf.Tensor(b'So, What kind of experience do you, do you have, then with child care?', shape=(), dtype=string) tf.Tensor(9, shape=(), dtype=int32)\n",
      "tf.Tensor(b'I guess, I think, uh, I wonder if that worked.', shape=(), dtype=string) tf.Tensor(13, shape=(), dtype=int32)\n",
      "tf.Tensor(b'Does it say something?', shape=(), dtype=string) tf.Tensor(6, shape=(), dtype=int32)\n",
      "tf.Tensor(b'I think it usually does.', shape=(), dtype=string) tf.Tensor(0, shape=(), dtype=int32)\n",
      "tf.Tensor(b'You might try, uh,', shape=(), dtype=string) tf.Tensor(19, shape=(), dtype=int32)\n",
      "tf.Tensor(b\"I don't know,\", shape=(), dtype=string) tf.Tensor(12, shape=(), dtype=int32)\n",
      "tf.Tensor(b'hold it down a little longer,', shape=(), dtype=string) tf.Tensor(19, shape=(), dtype=int32)\n",
      "tf.Tensor(b'and see if it, uh,', shape=(), dtype=string) tf.Tensor(19, shape=(), dtype=int32)\n",
      "tf.Tensor(b'Okay', shape=(), dtype=string) tf.Tensor(4, shape=(), dtype=int32)\n"
     ]
    }
   ],
   "source": [
    "for i,v in train_data.take(10):\n",
    "    print(i,v)"
   ]
  },
  {
   "cell_type": "code",
   "execution_count": 19,
   "metadata": {},
   "outputs": [
    {
     "name": "stdout",
     "output_type": "stream",
     "text": [
      "tf.Tensor(b'Okay.', shape=(), dtype=string) tf.Tensor(17, shape=(), dtype=int32)\n"
     ]
    }
   ],
   "source": [
    "i,v = next(iter(train_data))\n",
    "print(i,v)"
   ]
  },
  {
   "cell_type": "markdown",
   "metadata": {},
   "source": [
    "## トークナイザー"
   ]
  },
  {
   "cell_type": "code",
   "execution_count": 18,
   "metadata": {},
   "outputs": [],
   "source": [
    "## ボキャブラリーリスト\n",
    "vocabulary_set = set()\n",
    "## トークナイザー\n",
    "tokenizer = tfds.features.text.Tokenizer()\n",
    "\n",
    "## 分かち書き\n",
    "for text_tensor,_ in train_data:\n",
    "    some_tokens = tokenizer.tokenize(text_tensor.numpy())\n",
    "    #print(some_tokens)\n",
    "    vocabulary_set.update(some_tokens)\n",
    "    \n",
    "## ボキャブラリーリスト作成\n",
    "vocab_size = len(vocabulary_set)"
   ]
  },
  {
   "cell_type": "markdown",
   "metadata": {},
   "source": [
    "## encode生成"
   ]
  },
  {
   "cell_type": "code",
   "execution_count": 19,
   "metadata": {},
   "outputs": [],
   "source": [
    "encoder = tfds.features.text.TokenTextEncoder(vocabulary_set)"
   ]
  },
  {
   "cell_type": "code",
   "execution_count": 20,
   "metadata": {},
   "outputs": [],
   "source": [
    "def encode(token, label):\n",
    "    token = encoder.encode(token.numpy())\n",
    "    return token, label\n",
    "\n",
    "@tf.function\n",
    "def tf_encoder(utter, label):\n",
    "    encoded_text, label = tf.py_function(encode,[utter, label],[tf.int64, tf.int32])\n",
    "    encoded_text.set_shape([None])\n",
    "    label.set_shape([])\n",
    "    return encoded_text, label"
   ]
  },
  {
   "cell_type": "markdown",
   "metadata": {},
   "source": [
    "## テストデータ"
   ]
  },
  {
   "cell_type": "code",
   "execution_count": 137,
   "metadata": {},
   "outputs": [],
   "source": [
    "def test_encode(token):\n",
    "    token = encoder.encode(token.numpy())\n",
    "    return token\n",
    "\n",
    "@tf.function\n",
    "def test_tf_encoder(utter):\n",
    "    encoded_text = tf.py_function(encode,[utter],[tf.int64])\n",
    "    #encoded_text.set_shape([None])\n",
    "    \n",
    "    return encoded_text\n"
   ]
  },
  {
   "cell_type": "markdown",
   "metadata": {},
   "source": [
    "## metrics"
   ]
  },
  {
   "cell_type": "code",
   "execution_count": 69,
   "metadata": {},
   "outputs": [],
   "source": [
    "METRICS = [\n",
    "      tf.keras.metrics.TruePositives(name='tp'),\n",
    "      tf.keras.metrics.FalsePositives(name='fp'),\n",
    "      tf.keras.metrics.TrueNegatives(name='tn'),\n",
    "      tf.keras.metrics.FalseNegatives(name='fn'),\n",
    "      tf.keras.metrics.Accuracy(name='accuracy'),\n",
    "      tf.keras.metrics.Precision(name='precision'),\n",
    "      tf.keras.metrics.Recall(name='recall'),\n",
    "      tf.keras.metrics.AUC(name='auc'),\n",
    "]"
   ]
  },
  {
   "cell_type": "markdown",
   "metadata": {},
   "source": [
    "## データ設計"
   ]
  },
  {
   "cell_type": "code",
   "execution_count": 21,
   "metadata": {},
   "outputs": [],
   "source": [
    "max_len = 40"
   ]
  },
  {
   "cell_type": "code",
   "execution_count": 22,
   "metadata": {},
   "outputs": [],
   "source": [
    "all_train_data_encode = train_data.map(tf_encoder)\n",
    "all_test_data_encode = test_data.map(tf_encoder)\n",
    "all_val_data_encode = val_data.map(tf_encoder)"
   ]
  },
  {
   "cell_type": "code",
   "execution_count": 23,
   "metadata": {},
   "outputs": [],
   "source": [
    "utter_train_data = all_train_data_encode.padded_batch(64, padded_shapes=([None], []), drop_remainder=True)\n",
    "utter_test_data = all_test_data_encode.padded_batch(64, padded_shapes=([None], []), drop_remainder=True)\n",
    "utter_val_data = all_val_data_encode.padded_batch(64, padded_shapes=([None], []), drop_remainder=True)"
   ]
  },
  {
   "cell_type": "code",
   "execution_count": 148,
   "metadata": {
    "collapsed": true,
    "jupyter": {
     "outputs_hidden": true
    }
   },
   "outputs": [
    {
     "name": "stdout",
     "output_type": "stream",
     "text": [
      "tf.Tensor(\n",
      "[[13492 19133     0 ...     0     0     0]\n",
      " [21587  2343  2191 ...     0     0     0]\n",
      " [11719  8328 17129 ...     0     0     0]\n",
      " ...\n",
      " [  316     0     0 ...     0     0     0]\n",
      " [20545 20106 20545 ...     0     0     0]\n",
      " [  316     0     0 ...     0     0     0]], shape=(64, 58), dtype=int64) tf.Tensor(\n",
      "[17  9 24  2 22  0  0  2  1  6 10  0  0 11  6 22  3  0  1  0  0  0  1  0\n",
      "  0  0  1  0  0  0  0  0  0  0  0  0  1  2  0  0  1 16  7  7  0  0  3  2\n",
      "  0  1  2  2  0  0  1 14  7  0  0  1  5  1  2  1], shape=(64,), dtype=int32)\n",
      "tf.Tensor(\n",
      "[[  164 19685  1925 ...     0     0     0]\n",
      " [ 4907  4171     0 ...     0     0     0]\n",
      " [16190  4110  5521 ...     0     0     0]\n",
      " ...\n",
      " [ 8025     0     0 ...     0     0     0]\n",
      " [21321  2792 20545 ...     0     0     0]\n",
      " [20545 20106 10585 ...     0     0     0]], shape=(64, 45), dtype=int64) tf.Tensor(\n",
      "[ 2  1  0  0  1  1  0  1  1  1  0  2  4  2 22  3  0 13 18  3  0  3 21  1\n",
      "  0  0  3 12  4  4  6  0  1  0  0  1  0  0  0  1  0  0  0  1  5  2  2  1\n",
      "  3  6 31  3 16 17 18  0 16  4  2  0  1  1 12  9], shape=(64,), dtype=int32)\n",
      "tf.Tensor(\n",
      "[[ 4907  4110 18538 ...     0     0     0]\n",
      " [20545  1140  8726 ...     0     0     0]\n",
      " [ 4907  4171     0 ...     0     0     0]\n",
      " ...\n",
      " [21022 21529  2343 ...     0     0     0]\n",
      " [21022  2343 14755 ...     0     0     0]\n",
      " [16781 17129 12302 ...     0     0     0]], shape=(64, 41), dtype=int64) tf.Tensor(\n",
      "[ 2  2  1  2  2  1  1  2  1  1  6  0  0  1  2  4  2 23  9  1  6 28 13  0\n",
      "  1  3  3  1  0  3  2  2  1  1  0  2  1  2  1  2  1  2  1  0  2  1  0  1\n",
      "  0  1  1  2  9 17  5 19  0  0  3  2  0  0  0  5], shape=(64,), dtype=int32)\n",
      "tf.Tensor(\n",
      "[[ 6971  4683 11452 ...     0     0     0]\n",
      " [  316     0     0 ...     0     0     0]\n",
      " [ 6909 19133  2343 ...     0     0     0]\n",
      " ...\n",
      " [ 2971  8328  1947 ...     0     0     0]\n",
      " [  316     0     0 ...     0     0     0]\n",
      " [ 6909  5377 19133 ...     0     0     0]], shape=(64, 40), dtype=int64) tf.Tensor(\n",
      "[ 6  7  3  2  2  0  4  0  1  2  3  3  2  4  0  0  1  3  0  5  2  4  0  2\n",
      "  2  1  2  0  3  1  2  2  2  1  2  1  2  1 16  7  2  2  2  1  9  0  0  4\n",
      "  1  0  1  0  3  3  0  0  1  0  0  0  0  0  1  3], shape=(64,), dtype=int32)\n",
      "tf.Tensor(\n",
      "[[  316     0     0 ...     0     0     0]\n",
      " [20545 15676 16433 ...     0     0     0]\n",
      " [ 3898 17985     0 ...     0     0     0]\n",
      " ...\n",
      " [20545  5521 13297 ...     0     0     0]\n",
      " [  316     0     0 ...     0     0     0]\n",
      " [20545  5521 13297 ...     0     0     0]], shape=(64, 35), dtype=int64) tf.Tensor(\n",
      "[ 1  0  1  0  3  6 26  0  1  0  3  2  6  0  3  7  0 14  7  2  3  0  0  1\n",
      "  0  1  6  7  7  0  3  1  0  1  1  0  2  1  2  3  0  1  0  0  1  1  0  1\n",
      "  1  0  1  0 14  7  0  1  2  0  0  1  0  0  1  0], shape=(64,), dtype=int32)\n",
      "tf.Tensor(\n",
      "[[  316     0     0 ...     0     0     0]\n",
      " [ 6909 19133     0 ...     0     0     0]\n",
      " [20545  1947 12747 ...     0     0     0]\n",
      " ...\n",
      " [21022 19133  8328 ...     0     0     0]\n",
      " [  316     0     0 ...     0     0     0]\n",
      " [  316     0     0 ...     0     0     0]], shape=(64, 26), dtype=int64) tf.Tensor(\n",
      "[ 1  3  0  0  0  3  0  3  0  1  1  0  1  0  1 24 24  9  0  0  0  3  2  4\n",
      "  4  2  0  2  0  2  2  2  1  2  1  2  2  1  0  1  1  6  7 14  3  6  7  7\n",
      "  2 14  0  0 14  2  0  1 13  7  3  0  0  2  1  1], shape=(64,), dtype=int32)\n",
      "tf.Tensor(\n",
      "[[ 4683  1947 12302 ...     0     0     0]\n",
      " [18681  8328     0 ...     0     0     0]\n",
      " [  316     0     0 ...     0     0     0]\n",
      " ...\n",
      " [20545 13668  4561 ...     0     0     0]\n",
      " [21022 20545 13668 ...  7747 12302 20869]\n",
      " [ 3898     0     0 ...     0     0     0]], shape=(64, 23), dtype=int64) tf.Tensor(\n",
      "[ 3 14  7  5  1  5  6  6  0  1  3  2  0  2  2 14  3  0  0  9  0  0  0  0\n",
      "  0  1  1  0  0  0  1  3  0  1  3  0  0  1  0  1  1  0 20  4  0  0  1 21\n",
      "  0 20  4  4  4  0  3  2  1  2  1 20  0  4  0  1], shape=(64,), dtype=int32)\n",
      "tf.Tensor(\n",
      "[[ 3898  4110  4110 ...     0     0     0]\n",
      " [ 4110 14676   335 ...     0     0     0]\n",
      " [ 6909 20545 20571 ...     0     0     0]\n",
      " ...\n",
      " [20545  7810 20545 ...     0     0     0]\n",
      " [ 6909  4683  2426 ...     0     0     0]\n",
      " [  316     0     0 ...     0     0     0]], shape=(64, 42), dtype=int64) tf.Tensor(\n",
      "[ 0  0  0  1  0  3  0 14  7 11  2 11  2  0  1  5 13  0  0  2  3  3  2  3\n",
      "  0  0  3  3 17  0  0  1  1  0  1  0  1  0  3  1  0  1  0  3  5  0  2  1\n",
      "  2  6  2  2  4  1  0  5  0  0  1  2  1  2  2  1], shape=(64,), dtype=int32)\n",
      "tf.Tensor(\n",
      "[[  316     0     0 ...     0     0     0]\n",
      " [ 3898     0     0 ...     0     0     0]\n",
      " [18315  1247  4794 ...     0     0     0]\n",
      " ...\n",
      " [18516     0     0 ...     0     0     0]\n",
      " [20545 20545  2343 ...     0     0     0]\n",
      " [21022 20545  8726 ...   308  1741  2151]], shape=(64, 34), dtype=int64) tf.Tensor(\n",
      "[ 1  1  2  4  1  6  7  7  2  1  0  2 19  2  1  2  1  2  0  1  0  1  2  2\n",
      "  0  0  1  0 20  3  0  3  1  2  2  1  2  1  3  1  3  3  2  1  0  1 21  6\n",
      "  7  9  6  2  3  3 17 21  9  6  2  2  4  4  2  2], shape=(64,), dtype=int32)\n",
      "tf.Tensor(\n",
      "[[21022 20545  7810 ...     0     0     0]\n",
      " [16781 17129 17085 ...     0     0     0]\n",
      " [21022  3545 11960 ...     0     0     0]\n",
      " ...\n",
      " [21321 18876 19685 ...     0     0     0]\n",
      " [20545  8726  4683 ...     0     0     0]\n",
      " [21022 21022  5377 ...     0     0     0]], shape=(64, 28), dtype=int64) tf.Tensor(\n",
      "[ 2  4  2  1  2 22  4  0  2  2  2  2  0  1  3  2  2  4  3  2  4  4  2  2\n",
      "  4  0  3  3  0  1 21 11  3  3  2  1  2  2  1  2 20  3  4  0  0  0  0  4\n",
      "  2  1  2  0  2  1  2  2  3  1  2  4  3  2  2  2], shape=(64,), dtype=int32)\n"
     ]
    }
   ],
   "source": [
    "for i,v in utter_test_data.take(10):\n",
    "    print(i,v)"
   ]
  },
  {
   "cell_type": "code",
   "execution_count": 27,
   "metadata": {},
   "outputs": [
    {
     "data": {
      "text/plain": [
       "(<PaddedBatchDataset shapes: ((64, None), (64,)), types: (tf.int64, tf.int32)>,\n",
       " <PaddedBatchDataset shapes: ((64, None), (64,)), types: (tf.int64, tf.int32)>,\n",
       " <PaddedBatchDataset shapes: ((64, None), (64,)), types: (tf.int64, tf.int32)>)"
      ]
     },
     "execution_count": 27,
     "metadata": {},
     "output_type": "execute_result"
    }
   ],
   "source": [
    "utter_train_data, utter_test_data, utter_val_data"
   ]
  },
  {
   "cell_type": "markdown",
   "metadata": {},
   "source": [
    "## モデル設計(RNN)"
   ]
  },
  {
   "cell_type": "code",
   "execution_count": 28,
   "metadata": {},
   "outputs": [],
   "source": [
    "rnn_model = tf.keras.Sequential([\n",
    "    tf.keras.layers.Embedding(encoder.vocab_size, 64),\n",
    "    tf.keras.layers.LSTM(64),\n",
    "    tf.keras.layers.Dense(64, activation='relu'),\n",
    "    tf.keras.layers.Dense(1)\n",
    "])"
   ]
  },
  {
   "cell_type": "code",
   "execution_count": 29,
   "metadata": {},
   "outputs": [],
   "source": [
    "rnn_model.compile(loss=tf.keras.losses.BinaryCrossentropy(from_logits=True),\n",
    "              optimizer=tf.keras.optimizers.Adam(1e-4),\n",
    "              metrics=['accuracy'])"
   ]
  },
  {
   "cell_type": "code",
   "execution_count": 30,
   "metadata": {
    "collapsed": true,
    "jupyter": {
     "outputs_hidden": true
    }
   },
   "outputs": [
    {
     "name": "stdout",
     "output_type": "stream",
     "text": [
      "Epoch 1/10\n",
      "3006/3006 [==============================] - 211s 70ms/step - loss: -171.0589 - accuracy: 0.1976 - val_loss: -309.1272 - val_accuracy: 0.1766\n",
      "Epoch 2/10\n",
      "3006/3006 [==============================] - 216s 72ms/step - loss: -879.7972 - accuracy: 0.1982 - val_loss: -1072.3658 - val_accuracy: 0.1755\n",
      "Epoch 3/10\n",
      "3006/3006 [==============================] - 250s 83ms/step - loss: -2049.8381 - accuracy: 0.1921 - val_loss: -2051.0625 - val_accuracy: 0.1755\n",
      "Epoch 4/10\n",
      "3006/3006 [==============================] - 220s 73ms/step - loss: -3771.5759 - accuracy: 0.1921 - val_loss: -3312.4087 - val_accuracy: 0.1755\n",
      "Epoch 5/10\n",
      "3006/3006 [==============================] - 214s 71ms/step - loss: -5987.7651 - accuracy: 0.1921 - val_loss: -5530.4316 - val_accuracy: 0.1755\n",
      "Epoch 6/10\n",
      "3006/3006 [==============================] - 215s 72ms/step - loss: -8015.5977 - accuracy: 0.1921 - val_loss: -6451.9243 - val_accuracy: 0.1755\n",
      "Epoch 7/10\n",
      "3006/3006 [==============================] - 207s 69ms/step - loss: -10421.9941 - accuracy: 0.1921 - val_loss: -8224.8506 - val_accuracy: 0.1755\n",
      "Epoch 8/10\n",
      "3006/3006 [==============================] - 182s 61ms/step - loss: -13031.8008 - accuracy: 0.1921 - val_loss: -10612.7305 - val_accuracy: 0.1755\n",
      "Epoch 9/10\n",
      "3006/3006 [==============================] - 216s 72ms/step - loss: -17149.3301 - accuracy: 0.1921 - val_loss: -14497.4268 - val_accuracy: 0.1755\n",
      "Epoch 10/10\n",
      "3006/3006 [==============================] - 220s 73ms/step - loss: -22985.5254 - accuracy: 0.1921 - val_loss: -18370.9785 - val_accuracy: 0.1755\n"
     ]
    }
   ],
   "source": [
    "history = rnn_model.fit(utter_train_data, epochs=10,\n",
    "                    validation_data=utter_val_data, \n",
    "                    validation_steps=30)"
   ]
  },
  {
   "cell_type": "markdown",
   "metadata": {},
   "source": [
    "## 可視化"
   ]
  },
  {
   "cell_type": "code",
   "execution_count": 24,
   "metadata": {},
   "outputs": [],
   "source": [
    "import matplotlib.pyplot as plt\n",
    "\n",
    "def plot_graphs(history, metric):\n",
    "    plt.plot(history.history[metric])\n",
    "    plt.plot(history.history['val_'+metric], '')\n",
    "    plt.xlabel(\"Epochs\")\n",
    "    plt.ylabel(metric)\n",
    "    plt.legend([metric, 'val_'+metric])\n",
    "    plt.show()"
   ]
  },
  {
   "cell_type": "markdown",
   "metadata": {},
   "source": [
    "## TensorBoard 可視化"
   ]
  },
  {
   "cell_type": "code",
   "execution_count": 152,
   "metadata": {},
   "outputs": [],
   "source": [
    "log_dir = \"logs/fit/\" + datetime.datetime.now().strftime(\"%Y%m%d-%H%M%S\")\n",
    "tensorboard_callback = tf.keras.callbacks.TensorBoard(log_dir=log_dir, histogram_freq=1)"
   ]
  },
  {
   "cell_type": "markdown",
   "metadata": {},
   "source": [
    "### acc"
   ]
  },
  {
   "cell_type": "code",
   "execution_count": 166,
   "metadata": {},
   "outputs": [
    {
     "data": {
      "image/png": "[encoded data removed]",
      "text/plain": [
       "<Figure size 432x288 with 1 Axes>"
      ]
     },
     "metadata": {
      "needs_background": "light"
     },
     "output_type": "display_data"
    }
   ],
   "source": [
    "plot_graphs(history, 'accuracy')"
   ]
  },
  {
   "cell_type": "markdown",
   "metadata": {},
   "source": [
    "### loss"
   ]
  },
  {
   "cell_type": "code",
   "execution_count": 167,
   "metadata": {},
   "outputs": [
    {
     "data": {
      "image/png": "[encoded data removed]",
      "text/plain": [
       "<Figure size 432x288 with 1 Axes>"
      ]
     },
     "metadata": {
      "needs_background": "light"
     },
     "output_type": "display_data"
    }
   ],
   "source": [
    "plot_graphs(history, 'loss')"
   ]
  },
  {
   "cell_type": "markdown",
   "metadata": {},
   "source": [
    "## モデル(LSTM)"
   ]
  },
  {
   "cell_type": "code",
   "execution_count": 25,
   "metadata": {},
   "outputs": [],
   "source": [
    "BATCH_SIZE = 64"
   ]
  },
  {
   "cell_type": "code",
   "execution_count": 26,
   "metadata": {},
   "outputs": [],
   "source": [
    "X = tf.keras.Input(shape=(None,), batch_size=BATCH_SIZE)\n",
    "embedded = tf.keras.layers.Embedding(encoder.vocab_size, 128)(X)\n",
    "lstm = tf.keras.layers.LSTM(128, dropout=0.4, recurrent_dropout=0.4)(embedded)\n",
    "fully_connected = tf.keras.layers.Dense(units=256, activation='relu')(lstm)\n",
    "Y = tf.keras.layers.Dense(41, activation='sigmoid',name='final_layer')(fully_connected)\n",
    "Rnn_Model = tf.keras.Model(inputs=X, outputs=Y)\n",
    "\n",
    "Rnn_Model.compile(loss='sparse_categorical_crossentropy',\n",
    "                  optimizer=tf.keras.optimizers.Adam(1e-4),\n",
    "                  metrics=['accuracy'])"
   ]
  },
  {
   "cell_type": "code",
   "execution_count": 27,
   "metadata": {},
   "outputs": [
    {
     "name": "stdout",
     "output_type": "stream",
     "text": [
      "Model: \"functional_1\"\n",
      "_________________________________________________________________\n",
      "Layer (type)                 Output Shape              Param #   \n",
      "=================================================================\n",
      "input_1 (InputLayer)         [(64, None)]              0         \n",
      "_________________________________________________________________\n",
      "embedding (Embedding)        (64, None, 128)           2797312   \n",
      "_________________________________________________________________\n",
      "lstm (LSTM)                  (64, 128)                 131584    \n",
      "_________________________________________________________________\n",
      "dense (Dense)                (64, 256)                 33024     \n",
      "_________________________________________________________________\n",
      "final_layer (Dense)          (64, 41)                  10537     \n",
      "=================================================================\n",
      "Total params: 2,972,457\n",
      "Trainable params: 2,972,457\n",
      "Non-trainable params: 0\n",
      "_________________________________________________________________\n"
     ]
    }
   ],
   "source": [
    "Rnn_Model.summary()"
   ]
  },
  {
   "cell_type": "code",
   "execution_count": null,
   "metadata": {},
   "outputs": [
    {
     "name": "stdout",
     "output_type": "stream",
     "text": [
      "Epoch 1/5\n",
      "3006/3006 [==============================] - 555s 185ms/step - loss: 2.1355 - accuracy: 0.3776 - val_loss: 1.8957 - val_accuracy: 0.3760\n",
      "Epoch 2/5\n",
      "3006/3006 [==============================] - 603s 201ms/step - loss: 1.7352 - accuracy: 0.4221 - val_loss: 1.2599 - val_accuracy: 0.5870\n",
      "Epoch 3/5\n",
      "3006/3006 [==============================] - 522s 174ms/step - loss: 1.2926 - accuracy: 0.6083 - val_loss: 1.0871 - val_accuracy: 0.6146\n",
      "Epoch 4/5\n",
      "3006/3006 [==============================] - 563s 187ms/step - loss: 1.1837 - accuracy: 0.6378 - val_loss: 1.0391 - val_accuracy: 0.6760\n",
      "Epoch 5/5\n",
      "2088/3006 [===================>..........] - ETA: 3:10 - loss: 1.1431 - accuracy: 0.6519"
     ]
    }
   ],
   "source": [
    "history = Rnn_Model.fit(utter_train_data, epochs=5,\n",
    "                    validation_data=utter_val_data, \n",
    "                    validation_steps=30)"
   ]
  },
  {
   "cell_type": "code",
   "execution_count": null,
   "metadata": {},
   "outputs": [],
   "source": [
    "plot_graphs(history, 'accuracy')"
   ]
  },
  {
   "cell_type": "code",
   "execution_count": null,
   "metadata": {},
   "outputs": [],
   "source": [
    "plot_graphs(history, 'loss')"
   ]
  },
  {
   "cell_type": "markdown",
   "metadata": {},
   "source": [
    "## モデル(双方向RNN)"
   ]
  },
  {
   "cell_type": "code",
   "execution_count": 230,
   "metadata": {},
   "outputs": [],
   "source": [
    "X = tf.keras.Input(shape=(None,), batch_size=BATCH_SIZE)\n",
    "embedded = tf.keras.layers.Embedding(encoder.vocab_size, 128)(X)\n",
    "lstm = tf.keras.layers.Bidirectional(\n",
    "    tf.keras.layers.LSTM(128, dropout=0.4, recurrent_dropout=0.4))(embedded)\n",
    "fully_connected = tf.keras.layers.Dense(units=256, activation='relu')(lstm)\n",
    "Y = tf.keras.layers.Dense(41, activation='sigmoid',\n",
    "                          name='final_layer')(fully_connected)\n",
    "Bidirectional_Rnn_Model = tf.keras.Model(inputs=X, outputs=Y)\n",
    "\n",
    "Bidirectional_Rnn_Model.compile(loss='sparse_categorical_crossentropy',\n",
    "                                optimizer=tf.keras.optimizers.Adam(1e-4),\n",
    "                                metrics=['acc'])"
   ]
  },
  {
   "cell_type": "code",
   "execution_count": 231,
   "metadata": {},
   "outputs": [
    {
     "name": "stdout",
     "output_type": "stream",
     "text": [
      "Model: \"functional_39\"\n",
      "_________________________________________________________________\n",
      "Layer (type)                 Output Shape              Param #   \n",
      "=================================================================\n",
      "input_19 (InputLayer)        [(64, None)]              0         \n",
      "_________________________________________________________________\n",
      "embedding_20 (Embedding)     (64, None, 128)           2797312   \n",
      "_________________________________________________________________\n",
      "bidirectional_12 (Bidirectio (64, 256)                 263168    \n",
      "_________________________________________________________________\n",
      "dense_47 (Dense)             (64, 256)                 65792     \n",
      "_________________________________________________________________\n",
      "final_layer (Dense)          (64, 41)                  10537     \n",
      "=================================================================\n",
      "Total params: 3,136,809\n",
      "Trainable params: 3,136,809\n",
      "Non-trainable params: 0\n",
      "_________________________________________________________________\n"
     ]
    }
   ],
   "source": [
    "Bidirectional_Rnn_Model.summary()"
   ]
  },
  {
   "cell_type": "code",
   "execution_count": null,
   "metadata": {},
   "outputs": [
    {
     "name": "stdout",
     "output_type": "stream",
     "text": [
      "Epoch 1/5\n",
      "3006/3006 [==============================] - 929s 309ms/step - loss: 1.2228 - acc: 0.6349 - val_loss: 0.9821 - val_acc: 0.7026\n",
      "Epoch 2/5\n",
      "3006/3006 [==============================] - 1135s 378ms/step - loss: 1.0892 - acc: 0.6786 - val_loss: 0.9053 - val_acc: 0.7323\n",
      "Epoch 3/5\n",
      "3006/3006 [==============================] - 885s 294ms/step - loss: 1.0096 - acc: 0.6983 - val_loss: 0.8562 - val_acc: 0.7417\n",
      "Epoch 4/5\n",
      "3006/3006 [==============================] - 923s 307ms/step - loss: 0.9574 - acc: 0.7123 - val_loss: 0.8377 - val_acc: 0.7469\n",
      "Epoch 5/5\n",
      "1849/3006 [=================>............] - ETA: 5:52 - loss: 0.9343 - acc: 0.7162"
     ]
    }
   ],
   "source": [
    "Bidirectional_history = Bidirectional_Rnn_Model.fit(utter_train_data, epochs=5,\n",
    "                    validation_data=utter_val_data, \n",
    "                    validation_steps=30,\n",
    "                   callbacks=[tensorboard_callback])"
   ]
  },
  {
   "cell_type": "code",
   "execution_count": null,
   "metadata": {},
   "outputs": [],
   "source": [
    "plot_graphs(Bidirectional_history, 'acc')"
   ]
  },
  {
   "cell_type": "code",
   "execution_count": null,
   "metadata": {},
   "outputs": [],
   "source": [
    "plot_graphs(Bidirectional_history, 'loss')"
   ]
  },
  {
   "cell_type": "markdown",
   "metadata": {},
   "source": [
    "## モデル(Attention + 順方向RNN)"
   ]
  },
  {
   "cell_type": "code",
   "execution_count": null,
   "metadata": {},
   "outputs": [],
   "source": [
    "class Attention(tf.keras.Model):\n",
    "    def __init__(self, units):\n",
    "        super(Attention, self).__init__()\n",
    "        self.W1 = tf.keras.layers.Dense(units)\n",
    "        self.W2 = tf.keras.layers.Dense(units)\n",
    "        self.V = tf.keras.layers.Dense(1)\n",
    "\n",
    "    def call(self, features, hidden):\n",
    "        hidden_with_time_axis = tf.expand_dims(hidden, 1)\n",
    "        score = tf.nn.tanh(self.W1(features) + self.W2(hidden_with_time_axis))\n",
    "        attention_weights = tf.nn.softmax(self.V(score), axis=1)\n",
    "        context_vector = attention_weights * features\n",
    "        context_vector = tf.reduce_sum(context_vector, axis=1)\n",
    "\n",
    "        return context_vector, attention_weights"
   ]
  },
  {
   "cell_type": "code",
   "execution_count": 165,
   "metadata": {},
   "outputs": [],
   "source": [
    "from keras_self_attention import SeqSelfAttention"
   ]
  },
  {
   "cell_type": "code",
   "execution_count": 221,
   "metadata": {},
   "outputs": [],
   "source": [
    "X = tf.keras.Input(shape=(None,), batch_size=BATCH_SIZE)\n",
    "embedded = tf.keras.layers.Embedding(encoder.vocab_size, 64)(X)\n",
    "lstm, forward_h, forward_c = tf.keras.layers.LSTM(128,\n",
    "                                                return_sequences=True,\n",
    "                                                return_state=True, \n",
    "                                                dropout=0.4, \n",
    "                                                recurrent_dropout=0.4)(embedded)\n",
    "#state_h = tf.keras.layers.Concatenate()([forward_h, backward_h]) # 重みを結合\n",
    "context,attention_weights = Attention(64)(lstm,forward_h) # ここにAttentionレイヤを挟む\n",
    "fully_connected = tf.keras.layers.Dense(units=128, activation='relu')(context)\n",
    "Y = tf.keras.layers.Dense(41, activation='sigmoid',name='final_layer')(fully_connected)\n",
    "\n",
    "Attention_Model = tf.keras.Model(inputs=X, outputs=Y)\n",
    "\n",
    "Attention_Model.compile(loss='sparse_categorical_crossentropy',\n",
    "              optimizer=tf.keras.optimizers.Adam(1e-4),\n",
    "              metrics=['acc'])"
   ]
  },
  {
   "cell_type": "code",
   "execution_count": 222,
   "metadata": {},
   "outputs": [
    {
     "name": "stdout",
     "output_type": "stream",
     "text": [
      "Model: \"functional_33\"\n",
      "__________________________________________________________________________________________________\n",
      "Layer (type)                    Output Shape         Param #     Connected to                     \n",
      "==================================================================================================\n",
      "input_16 (InputLayer)           [(64, None)]         0                                            \n",
      "__________________________________________________________________________________________________\n",
      "embedding_17 (Embedding)        (64, None, 64)       1398656     input_16[0][0]                   \n",
      "__________________________________________________________________________________________________\n",
      "lstm_15 (LSTM)                  [(64, None, 128), (N 98816       embedding_17[0][0]               \n",
      "__________________________________________________________________________________________________\n",
      "attention_8 (Attention)         ((64, 128), (64, Non 16577       lstm_15[0][0]                    \n",
      "                                                                 lstm_15[0][1]                    \n",
      "__________________________________________________________________________________________________\n",
      "dense_44 (Dense)                (64, 128)            16512       attention_8[0][0]                \n",
      "__________________________________________________________________________________________________\n",
      "final_layer (Dense)             (64, 41)             5289        dense_44[0][0]                   \n",
      "==================================================================================================\n",
      "Total params: 1,535,850\n",
      "Trainable params: 1,535,850\n",
      "Non-trainable params: 0\n",
      "__________________________________________________________________________________________________\n"
     ]
    }
   ],
   "source": [
    "Attention_Model.summary()"
   ]
  },
  {
   "cell_type": "code",
   "execution_count": 223,
   "metadata": {},
   "outputs": [
    {
     "name": "stdout",
     "output_type": "stream",
     "text": [
      "WARNING:tensorflow:Model failed to serialize as JSON. Ignoring... \n",
      "Epoch 1/5\n",
      "3006/3006 [==============================] - 457s 152ms/step - loss: 2.0822 - acc: 0.3790 - val_loss: 1.4909 - val_acc: 0.3771\n",
      "Epoch 2/5\n",
      "3006/3006 [==============================] - 19259s 6s/step - loss: 1.4189 - acc: 0.5852 - val_loss: 1.1828 - val_acc: 0.5958\n",
      "Epoch 3/5\n",
      "3006/3006 [==============================] - 424s 141ms/step - loss: 1.2924 - acc: 0.6153 - val_loss: 1.1010 - val_acc: 0.6448\n",
      "Epoch 4/5\n",
      "3006/3006 [==============================] - 459s 153ms/step - loss: 1.2157 - acc: 0.6344 - val_loss: 1.0604 - val_acc: 0.6734\n",
      "Epoch 5/5\n",
      "3006/3006 [==============================] - 423s 141ms/step - loss: 1.1707 - acc: 0.6458 - val_loss: 1.0325 - val_acc: 0.6745\n"
     ]
    },
    {
     "data": {
      "text/plain": [
       "<tensorflow.python.keras.callbacks.History at 0x7f4b05cb0bb0>"
      ]
     },
     "execution_count": 223,
     "metadata": {},
     "output_type": "execute_result"
    }
   ],
   "source": [
    "Attention_Model.fit(utter_train_data, epochs=5,\n",
    "                    validation_data=utter_val_data, \n",
    "                    validation_steps=30,\n",
    "                   callbacks=[tensorboard_callback])"
   ]
  },
  {
   "cell_type": "markdown",
   "metadata": {},
   "source": [
    "## モデル(Attention + 双方向RNN)"
   ]
  },
  {
   "cell_type": "code",
   "execution_count": 121,
   "metadata": {},
   "outputs": [],
   "source": [
    "X = tf.keras.Input(shape=(None,), batch_size=BATCH_SIZE)\n",
    "embedded = tf.keras.layers.Embedding(encoder.vocab_size, 64)(X)\n",
    "lstm, forward_h, forward_c, backward_h, backward_c = tf.keras.layers.Bidirectional(\n",
    "                                                        tf.keras.layers.LSTM(128,\n",
    "                                                                             return_sequences=True,\n",
    "                                                                             return_state=True,\n",
    "                                                                             dropout=0.4, \n",
    "                                                                             recurrent_dropout=0.4))(embedded)\n",
    "state_h = tf.keras.layers.Concatenate()([forward_h, backward_h]) # 重みを結合\n",
    "context,attention_weights = Attention(64)(lstm,state_h) # ここにAttentionレイヤを挟む\n",
    "fully_connected = tf.keras.layers.Dense(units=128, activation='relu')(context)\n",
    "Y = tf.keras.layers.Dense(41, activation='sigmoid',name='final_layer')(fully_connected)\n",
    "\n",
    "Bidirectional_Attention_Model = tf.keras.Model(inputs=X, outputs=Y)\n",
    "\n",
    "Bidirectional_Attention_Model.compile(loss='sparse_categorical_crossentropy',\n",
    "              optimizer=tf.keras.optimizers.Adam(1e-4),\n",
    "              metrics=['acc'])"
   ]
  },
  {
   "cell_type": "code",
   "execution_count": 209,
   "metadata": {},
   "outputs": [
    {
     "name": "stdout",
     "output_type": "stream",
     "text": [
      "Model: \"functional_21\"\n",
      "__________________________________________________________________________________________________\n",
      "Layer (type)                    Output Shape         Param #     Connected to                     \n",
      "==================================================================================================\n",
      "input_11 (InputLayer)           [(64, None)]         0                                            \n",
      "__________________________________________________________________________________________________\n",
      "embedding_11 (Embedding)        (64, None, 64)       1398656     input_11[0][0]                   \n",
      "__________________________________________________________________________________________________\n",
      "bidirectional_7 (Bidirectional) [(64, None, 256), (N 197632      embedding_11[0][0]               \n",
      "__________________________________________________________________________________________________\n",
      "concatenate_7 (Concatenate)     (None, 256)          0           bidirectional_7[0][1]            \n",
      "                                                                 bidirectional_7[0][3]            \n",
      "__________________________________________________________________________________________________\n",
      "attention_7 (Attention)         ((64, 256), (64, Non 32961       bidirectional_7[0][0]            \n",
      "                                                                 concatenate_7[0][0]              \n",
      "__________________________________________________________________________________________________\n",
      "dense_36 (Dense)                (64, 128)            32896       attention_7[0][0]                \n",
      "__________________________________________________________________________________________________\n",
      "final_layer (Dense)             (64, 41)             5289        dense_36[0][0]                   \n",
      "==================================================================================================\n",
      "Total params: 1,667,434\n",
      "Trainable params: 1,667,434\n",
      "Non-trainable params: 0\n",
      "__________________________________________________________________________________________________\n"
     ]
    }
   ],
   "source": [
    "Bidirectional_Attention_Model.summary()"
   ]
  },
  {
   "cell_type": "code",
   "execution_count": 163,
   "metadata": {},
   "outputs": [
    {
     "name": "stdout",
     "output_type": "stream",
     "text": [
      "WARNING:tensorflow:Model failed to serialize as JSON. Ignoring... \n",
      "Epoch 1/5\n",
      "3006/3006 [==============================] - 700s 233ms/step - loss: 1.3479 - acc: 0.6029 - val_loss: 1.1791 - val_acc: 0.5943\n",
      "Epoch 2/5\n",
      "3006/3006 [==============================] - 860s 286ms/step - loss: 1.2637 - acc: 0.6106 - val_loss: 1.0910 - val_acc: 0.6031\n",
      "Epoch 3/5\n",
      "3006/3006 [==============================] - 734s 244ms/step - loss: 1.2068 - acc: 0.6152 - val_loss: 1.0744 - val_acc: 0.5964\n",
      "Epoch 4/5\n",
      "3006/3006 [==============================] - 824s 274ms/step - loss: 1.2044 - acc: 0.6162 - val_loss: 1.0622 - val_acc: 0.6219\n",
      "Epoch 5/5\n",
      "3006/3006 [==============================] - 28529s 9s/step - loss: 1.1560 - acc: 0.6432 - val_loss: 1.0225 - val_acc: 0.6849\n"
     ]
    },
    {
     "data": {
      "text/plain": [
       "<tensorflow.python.keras.callbacks.History at 0x7f4b105339d0>"
      ]
     },
     "execution_count": 163,
     "metadata": {},
     "output_type": "execute_result"
    }
   ],
   "source": [
    "Bidirectional_Attention_Model.fit(utter_train_data, epochs=5,\n",
    "                    validation_data=utter_val_data, \n",
    "                    validation_steps=30,\n",
    "                   callbacks=[tensorboard_callback])"
   ]
  },
  {
   "cell_type": "code",
   "execution_count": null,
   "metadata": {},
   "outputs": [],
   "source": [
    "plot_graphs(Bidirectional_Attention_Model, 'accuracy')"
   ]
  },
  {
   "cell_type": "code",
   "execution_count": null,
   "metadata": {},
   "outputs": [],
   "source": [
    "plot_graphs(Bidirectional_Attention_Model, 'loss')"
   ]
  },
  {
   "cell_type": "markdown",
   "metadata": {},
   "source": [
    "## モデル ver2"
   ]
  },
  {
   "cell_type": "code",
   "execution_count": 210,
   "metadata": {},
   "outputs": [],
   "source": [
    "from keras_self_attention import SeqSelfAttention"
   ]
  },
  {
   "cell_type": "code",
   "execution_count": 216,
   "metadata": {},
   "outputs": [],
   "source": [
    "self_attetntion_model = tf.keras.models.Sequential([\n",
    "    tf.keras.layers.Input(shape=(64,)),\n",
    "    tf.keras.layers.Embedding(encoder.vocab_size, 64),\n",
    "    SeqSelfAttention(attention_activation='sigmoid'),\n",
    "    tf.keras.layers.Dense(units=41)\n",
    "])"
   ]
  },
  {
   "cell_type": "code",
   "execution_count": 217,
   "metadata": {},
   "outputs": [],
   "source": [
    "self_attetntion_model.compile(\n",
    "    optimizer='adam',\n",
    "    loss='categorical_crossentropy',\n",
    "    metrics=['categorical_accuracy'],\n",
    ")"
   ]
  },
  {
   "cell_type": "code",
   "execution_count": 218,
   "metadata": {},
   "outputs": [
    {
     "name": "stdout",
     "output_type": "stream",
     "text": [
      "Model: \"sequential_2\"\n",
      "_________________________________________________________________\n",
      "Layer (type)                 Output Shape              Param #   \n",
      "=================================================================\n",
      "embedding_15 (Embedding)     (None, 64, 64)            1398656   \n",
      "_________________________________________________________________\n",
      "seq_self_attention_1 (SeqSel (None, None, 64)          4161      \n",
      "_________________________________________________________________\n",
      "dense_40 (Dense)             (None, None, 41)          2665      \n",
      "=================================================================\n",
      "Total params: 1,405,482\n",
      "Trainable params: 1,405,482\n",
      "Non-trainable params: 0\n",
      "_________________________________________________________________\n"
     ]
    }
   ],
   "source": [
    "self_attetntion_model.summary()"
   ]
  },
  {
   "cell_type": "code",
   "execution_count": 219,
   "metadata": {
    "collapsed": true,
    "jupyter": {
     "outputs_hidden": true
    }
   },
   "outputs": [
    {
     "name": "stdout",
     "output_type": "stream",
     "text": [
      "Epoch 1/5\n"
     ]
    },
    {
     "ename": "ValueError",
     "evalue": "in user code:\n\n    /opt/conda/lib/python3.8/site-packages/tensorflow/python/keras/engine/training.py:806 train_function  *\n        return step_function(self, iterator)\n    /opt/conda/lib/python3.8/site-packages/tensorflow/python/keras/engine/training.py:796 step_function  **\n        outputs = model.distribute_strategy.run(run_step, args=(data,))\n    /opt/conda/lib/python3.8/site-packages/tensorflow/python/distribute/distribute_lib.py:1211 run\n        return self._extended.call_for_each_replica(fn, args=args, kwargs=kwargs)\n    /opt/conda/lib/python3.8/site-packages/tensorflow/python/distribute/distribute_lib.py:2585 call_for_each_replica\n        return self._call_for_each_replica(fn, args, kwargs)\n    /opt/conda/lib/python3.8/site-packages/tensorflow/python/distribute/distribute_lib.py:2945 _call_for_each_replica\n        return fn(*args, **kwargs)\n    /opt/conda/lib/python3.8/site-packages/tensorflow/python/keras/engine/training.py:789 run_step  **\n        outputs = model.train_step(data)\n    /opt/conda/lib/python3.8/site-packages/tensorflow/python/keras/engine/training.py:748 train_step\n        loss = self.compiled_loss(\n    /opt/conda/lib/python3.8/site-packages/tensorflow/python/keras/engine/compile_utils.py:204 __call__\n        loss_value = loss_obj(y_t, y_p, sample_weight=sw)\n    /opt/conda/lib/python3.8/site-packages/tensorflow/python/keras/losses.py:149 __call__\n        losses = ag_call(y_true, y_pred)\n    /opt/conda/lib/python3.8/site-packages/tensorflow/python/keras/losses.py:253 call  **\n        return ag_fn(y_true, y_pred, **self._fn_kwargs)\n    /opt/conda/lib/python3.8/site-packages/tensorflow/python/util/dispatch.py:201 wrapper\n        return target(*args, **kwargs)\n    /opt/conda/lib/python3.8/site-packages/tensorflow/python/keras/losses.py:1535 categorical_crossentropy\n        return K.categorical_crossentropy(y_true, y_pred, from_logits=from_logits)\n    /opt/conda/lib/python3.8/site-packages/tensorflow/python/util/dispatch.py:201 wrapper\n        return target(*args, **kwargs)\n    /opt/conda/lib/python3.8/site-packages/tensorflow/python/keras/backend.py:4687 categorical_crossentropy\n        target.shape.assert_is_compatible_with(output.shape)\n    /opt/conda/lib/python3.8/site-packages/tensorflow/python/framework/tensor_shape.py:1134 assert_is_compatible_with\n        raise ValueError(\"Shapes %s and %s are incompatible\" % (self, other))\n\n    ValueError: Shapes (64, 1) and (64, 64, 41) are incompatible\n",
     "output_type": "error",
     "traceback": [
      "\u001b[0;31m---------------------------------------------------------------------------\u001b[0m",
      "\u001b[0;31mValueError\u001b[0m                                Traceback (most recent call last)",
      "\u001b[0;32m<ipython-input-219-c1ec1c2f25b0>\u001b[0m in \u001b[0;36m<module>\u001b[0;34m\u001b[0m\n\u001b[0;32m----> 1\u001b[0;31m self_attetntion_model.fit(utter_train_data, epochs=5,\n\u001b[0m\u001b[1;32m      2\u001b[0m                     \u001b[0mvalidation_data\u001b[0m\u001b[0;34m=\u001b[0m\u001b[0mutter_val_data\u001b[0m\u001b[0;34m,\u001b[0m\u001b[0;34m\u001b[0m\u001b[0;34m\u001b[0m\u001b[0m\n\u001b[1;32m      3\u001b[0m                     \u001b[0mvalidation_steps\u001b[0m\u001b[0;34m=\u001b[0m\u001b[0;36m30\u001b[0m\u001b[0;34m,\u001b[0m\u001b[0;34m\u001b[0m\u001b[0;34m\u001b[0m\u001b[0m\n\u001b[1;32m      4\u001b[0m                    callbacks=[tensorboard_callback])\n",
      "\u001b[0;32m/opt/conda/lib/python3.8/site-packages/tensorflow/python/keras/engine/training.py\u001b[0m in \u001b[0;36m_method_wrapper\u001b[0;34m(self, *args, **kwargs)\u001b[0m\n\u001b[1;32m    106\u001b[0m   \u001b[0;32mdef\u001b[0m \u001b[0m_method_wrapper\u001b[0m\u001b[0;34m(\u001b[0m\u001b[0mself\u001b[0m\u001b[0;34m,\u001b[0m \u001b[0;34m*\u001b[0m\u001b[0margs\u001b[0m\u001b[0;34m,\u001b[0m \u001b[0;34m**\u001b[0m\u001b[0mkwargs\u001b[0m\u001b[0;34m)\u001b[0m\u001b[0;34m:\u001b[0m\u001b[0;34m\u001b[0m\u001b[0;34m\u001b[0m\u001b[0m\n\u001b[1;32m    107\u001b[0m     \u001b[0;32mif\u001b[0m \u001b[0;32mnot\u001b[0m \u001b[0mself\u001b[0m\u001b[0;34m.\u001b[0m\u001b[0m_in_multi_worker_mode\u001b[0m\u001b[0;34m(\u001b[0m\u001b[0;34m)\u001b[0m\u001b[0;34m:\u001b[0m  \u001b[0;31m# pylint: disable=protected-access\u001b[0m\u001b[0;34m\u001b[0m\u001b[0;34m\u001b[0m\u001b[0m\n\u001b[0;32m--> 108\u001b[0;31m       \u001b[0;32mreturn\u001b[0m \u001b[0mmethod\u001b[0m\u001b[0;34m(\u001b[0m\u001b[0mself\u001b[0m\u001b[0;34m,\u001b[0m \u001b[0;34m*\u001b[0m\u001b[0margs\u001b[0m\u001b[0;34m,\u001b[0m \u001b[0;34m**\u001b[0m\u001b[0mkwargs\u001b[0m\u001b[0;34m)\u001b[0m\u001b[0;34m\u001b[0m\u001b[0;34m\u001b[0m\u001b[0m\n\u001b[0m\u001b[1;32m    109\u001b[0m \u001b[0;34m\u001b[0m\u001b[0m\n\u001b[1;32m    110\u001b[0m     \u001b[0;31m# Running inside `run_distribute_coordinator` already.\u001b[0m\u001b[0;34m\u001b[0m\u001b[0;34m\u001b[0m\u001b[0;34m\u001b[0m\u001b[0m\n",
      "\u001b[0;32m/opt/conda/lib/python3.8/site-packages/tensorflow/python/keras/engine/training.py\u001b[0m in \u001b[0;36mfit\u001b[0;34m(self, x, y, batch_size, epochs, verbose, callbacks, validation_split, validation_data, shuffle, class_weight, sample_weight, initial_epoch, steps_per_epoch, validation_steps, validation_batch_size, validation_freq, max_queue_size, workers, use_multiprocessing)\u001b[0m\n\u001b[1;32m   1096\u001b[0m                 batch_size=batch_size):\n\u001b[1;32m   1097\u001b[0m               \u001b[0mcallbacks\u001b[0m\u001b[0;34m.\u001b[0m\u001b[0mon_train_batch_begin\u001b[0m\u001b[0;34m(\u001b[0m\u001b[0mstep\u001b[0m\u001b[0;34m)\u001b[0m\u001b[0;34m\u001b[0m\u001b[0;34m\u001b[0m\u001b[0m\n\u001b[0;32m-> 1098\u001b[0;31m               \u001b[0mtmp_logs\u001b[0m \u001b[0;34m=\u001b[0m \u001b[0mtrain_function\u001b[0m\u001b[0;34m(\u001b[0m\u001b[0miterator\u001b[0m\u001b[0;34m)\u001b[0m\u001b[0;34m\u001b[0m\u001b[0;34m\u001b[0m\u001b[0m\n\u001b[0m\u001b[1;32m   1099\u001b[0m               \u001b[0;32mif\u001b[0m \u001b[0mdata_handler\u001b[0m\u001b[0;34m.\u001b[0m\u001b[0mshould_sync\u001b[0m\u001b[0;34m:\u001b[0m\u001b[0;34m\u001b[0m\u001b[0;34m\u001b[0m\u001b[0m\n\u001b[1;32m   1100\u001b[0m                 \u001b[0mcontext\u001b[0m\u001b[0;34m.\u001b[0m\u001b[0masync_wait\u001b[0m\u001b[0;34m(\u001b[0m\u001b[0;34m)\u001b[0m\u001b[0;34m\u001b[0m\u001b[0;34m\u001b[0m\u001b[0m\n",
      "\u001b[0;32m/opt/conda/lib/python3.8/site-packages/tensorflow/python/eager/def_function.py\u001b[0m in \u001b[0;36m__call__\u001b[0;34m(self, *args, **kwds)\u001b[0m\n\u001b[1;32m    778\u001b[0m       \u001b[0;32melse\u001b[0m\u001b[0;34m:\u001b[0m\u001b[0;34m\u001b[0m\u001b[0;34m\u001b[0m\u001b[0m\n\u001b[1;32m    779\u001b[0m         \u001b[0mcompiler\u001b[0m \u001b[0;34m=\u001b[0m \u001b[0;34m\"nonXla\"\u001b[0m\u001b[0;34m\u001b[0m\u001b[0;34m\u001b[0m\u001b[0m\n\u001b[0;32m--> 780\u001b[0;31m         \u001b[0mresult\u001b[0m \u001b[0;34m=\u001b[0m \u001b[0mself\u001b[0m\u001b[0;34m.\u001b[0m\u001b[0m_call\u001b[0m\u001b[0;34m(\u001b[0m\u001b[0;34m*\u001b[0m\u001b[0margs\u001b[0m\u001b[0;34m,\u001b[0m \u001b[0;34m**\u001b[0m\u001b[0mkwds\u001b[0m\u001b[0;34m)\u001b[0m\u001b[0;34m\u001b[0m\u001b[0;34m\u001b[0m\u001b[0m\n\u001b[0m\u001b[1;32m    781\u001b[0m \u001b[0;34m\u001b[0m\u001b[0m\n\u001b[1;32m    782\u001b[0m       \u001b[0mnew_tracing_count\u001b[0m \u001b[0;34m=\u001b[0m \u001b[0mself\u001b[0m\u001b[0;34m.\u001b[0m\u001b[0m_get_tracing_count\u001b[0m\u001b[0;34m(\u001b[0m\u001b[0;34m)\u001b[0m\u001b[0;34m\u001b[0m\u001b[0;34m\u001b[0m\u001b[0m\n",
      "\u001b[0;32m/opt/conda/lib/python3.8/site-packages/tensorflow/python/eager/def_function.py\u001b[0m in \u001b[0;36m_call\u001b[0;34m(self, *args, **kwds)\u001b[0m\n\u001b[1;32m    821\u001b[0m       \u001b[0;31m# This is the first call of __call__, so we have to initialize.\u001b[0m\u001b[0;34m\u001b[0m\u001b[0;34m\u001b[0m\u001b[0;34m\u001b[0m\u001b[0m\n\u001b[1;32m    822\u001b[0m       \u001b[0minitializers\u001b[0m \u001b[0;34m=\u001b[0m \u001b[0;34m[\u001b[0m\u001b[0;34m]\u001b[0m\u001b[0;34m\u001b[0m\u001b[0;34m\u001b[0m\u001b[0m\n\u001b[0;32m--> 823\u001b[0;31m       \u001b[0mself\u001b[0m\u001b[0;34m.\u001b[0m\u001b[0m_initialize\u001b[0m\u001b[0;34m(\u001b[0m\u001b[0margs\u001b[0m\u001b[0;34m,\u001b[0m \u001b[0mkwds\u001b[0m\u001b[0;34m,\u001b[0m \u001b[0madd_initializers_to\u001b[0m\u001b[0;34m=\u001b[0m\u001b[0minitializers\u001b[0m\u001b[0;34m)\u001b[0m\u001b[0;34m\u001b[0m\u001b[0;34m\u001b[0m\u001b[0m\n\u001b[0m\u001b[1;32m    824\u001b[0m     \u001b[0;32mfinally\u001b[0m\u001b[0;34m:\u001b[0m\u001b[0;34m\u001b[0m\u001b[0;34m\u001b[0m\u001b[0m\n\u001b[1;32m    825\u001b[0m       \u001b[0;31m# At this point we know that the initialization is complete (or less\u001b[0m\u001b[0;34m\u001b[0m\u001b[0;34m\u001b[0m\u001b[0;34m\u001b[0m\u001b[0m\n",
      "\u001b[0;32m/opt/conda/lib/python3.8/site-packages/tensorflow/python/eager/def_function.py\u001b[0m in \u001b[0;36m_initialize\u001b[0;34m(self, args, kwds, add_initializers_to)\u001b[0m\n\u001b[1;32m    694\u001b[0m     \u001b[0mself\u001b[0m\u001b[0;34m.\u001b[0m\u001b[0m_graph_deleter\u001b[0m \u001b[0;34m=\u001b[0m \u001b[0mFunctionDeleter\u001b[0m\u001b[0;34m(\u001b[0m\u001b[0mself\u001b[0m\u001b[0;34m.\u001b[0m\u001b[0m_lifted_initializer_graph\u001b[0m\u001b[0;34m)\u001b[0m\u001b[0;34m\u001b[0m\u001b[0;34m\u001b[0m\u001b[0m\n\u001b[1;32m    695\u001b[0m     self._concrete_stateful_fn = (\n\u001b[0;32m--> 696\u001b[0;31m         self._stateful_fn._get_concrete_function_internal_garbage_collected(  # pylint: disable=protected-access\n\u001b[0m\u001b[1;32m    697\u001b[0m             *args, **kwds))\n\u001b[1;32m    698\u001b[0m \u001b[0;34m\u001b[0m\u001b[0m\n",
      "\u001b[0;32m/opt/conda/lib/python3.8/site-packages/tensorflow/python/eager/function.py\u001b[0m in \u001b[0;36m_get_concrete_function_internal_garbage_collected\u001b[0;34m(self, *args, **kwargs)\u001b[0m\n\u001b[1;32m   2853\u001b[0m       \u001b[0margs\u001b[0m\u001b[0;34m,\u001b[0m \u001b[0mkwargs\u001b[0m \u001b[0;34m=\u001b[0m \u001b[0;32mNone\u001b[0m\u001b[0;34m,\u001b[0m \u001b[0;32mNone\u001b[0m\u001b[0;34m\u001b[0m\u001b[0;34m\u001b[0m\u001b[0m\n\u001b[1;32m   2854\u001b[0m     \u001b[0;32mwith\u001b[0m \u001b[0mself\u001b[0m\u001b[0;34m.\u001b[0m\u001b[0m_lock\u001b[0m\u001b[0;34m:\u001b[0m\u001b[0;34m\u001b[0m\u001b[0;34m\u001b[0m\u001b[0m\n\u001b[0;32m-> 2855\u001b[0;31m       \u001b[0mgraph_function\u001b[0m\u001b[0;34m,\u001b[0m \u001b[0m_\u001b[0m\u001b[0;34m,\u001b[0m \u001b[0m_\u001b[0m \u001b[0;34m=\u001b[0m \u001b[0mself\u001b[0m\u001b[0;34m.\u001b[0m\u001b[0m_maybe_define_function\u001b[0m\u001b[0;34m(\u001b[0m\u001b[0margs\u001b[0m\u001b[0;34m,\u001b[0m \u001b[0mkwargs\u001b[0m\u001b[0;34m)\u001b[0m\u001b[0;34m\u001b[0m\u001b[0;34m\u001b[0m\u001b[0m\n\u001b[0m\u001b[1;32m   2856\u001b[0m     \u001b[0;32mreturn\u001b[0m \u001b[0mgraph_function\u001b[0m\u001b[0;34m\u001b[0m\u001b[0;34m\u001b[0m\u001b[0m\n\u001b[1;32m   2857\u001b[0m \u001b[0;34m\u001b[0m\u001b[0m\n",
      "\u001b[0;32m/opt/conda/lib/python3.8/site-packages/tensorflow/python/eager/function.py\u001b[0m in \u001b[0;36m_maybe_define_function\u001b[0;34m(self, args, kwargs)\u001b[0m\n\u001b[1;32m   3211\u001b[0m \u001b[0;34m\u001b[0m\u001b[0m\n\u001b[1;32m   3212\u001b[0m       \u001b[0mself\u001b[0m\u001b[0;34m.\u001b[0m\u001b[0m_function_cache\u001b[0m\u001b[0;34m.\u001b[0m\u001b[0mmissed\u001b[0m\u001b[0;34m.\u001b[0m\u001b[0madd\u001b[0m\u001b[0;34m(\u001b[0m\u001b[0mcall_context_key\u001b[0m\u001b[0;34m)\u001b[0m\u001b[0;34m\u001b[0m\u001b[0;34m\u001b[0m\u001b[0m\n\u001b[0;32m-> 3213\u001b[0;31m       \u001b[0mgraph_function\u001b[0m \u001b[0;34m=\u001b[0m \u001b[0mself\u001b[0m\u001b[0;34m.\u001b[0m\u001b[0m_create_graph_function\u001b[0m\u001b[0;34m(\u001b[0m\u001b[0margs\u001b[0m\u001b[0;34m,\u001b[0m \u001b[0mkwargs\u001b[0m\u001b[0;34m)\u001b[0m\u001b[0;34m\u001b[0m\u001b[0;34m\u001b[0m\u001b[0m\n\u001b[0m\u001b[1;32m   3214\u001b[0m       \u001b[0mself\u001b[0m\u001b[0;34m.\u001b[0m\u001b[0m_function_cache\u001b[0m\u001b[0;34m.\u001b[0m\u001b[0mprimary\u001b[0m\u001b[0;34m[\u001b[0m\u001b[0mcache_key\u001b[0m\u001b[0;34m]\u001b[0m \u001b[0;34m=\u001b[0m \u001b[0mgraph_function\u001b[0m\u001b[0;34m\u001b[0m\u001b[0;34m\u001b[0m\u001b[0m\n\u001b[1;32m   3215\u001b[0m       \u001b[0;32mreturn\u001b[0m \u001b[0mgraph_function\u001b[0m\u001b[0;34m,\u001b[0m \u001b[0margs\u001b[0m\u001b[0;34m,\u001b[0m \u001b[0mkwargs\u001b[0m\u001b[0;34m\u001b[0m\u001b[0;34m\u001b[0m\u001b[0m\n",
      "\u001b[0;32m/opt/conda/lib/python3.8/site-packages/tensorflow/python/eager/function.py\u001b[0m in \u001b[0;36m_create_graph_function\u001b[0;34m(self, args, kwargs, override_flat_arg_shapes)\u001b[0m\n\u001b[1;32m   3063\u001b[0m     \u001b[0marg_names\u001b[0m \u001b[0;34m=\u001b[0m \u001b[0mbase_arg_names\u001b[0m \u001b[0;34m+\u001b[0m \u001b[0mmissing_arg_names\u001b[0m\u001b[0;34m\u001b[0m\u001b[0;34m\u001b[0m\u001b[0m\n\u001b[1;32m   3064\u001b[0m     graph_function = ConcreteFunction(\n\u001b[0;32m-> 3065\u001b[0;31m         func_graph_module.func_graph_from_py_func(\n\u001b[0m\u001b[1;32m   3066\u001b[0m             \u001b[0mself\u001b[0m\u001b[0;34m.\u001b[0m\u001b[0m_name\u001b[0m\u001b[0;34m,\u001b[0m\u001b[0;34m\u001b[0m\u001b[0;34m\u001b[0m\u001b[0m\n\u001b[1;32m   3067\u001b[0m             \u001b[0mself\u001b[0m\u001b[0;34m.\u001b[0m\u001b[0m_python_function\u001b[0m\u001b[0;34m,\u001b[0m\u001b[0;34m\u001b[0m\u001b[0;34m\u001b[0m\u001b[0m\n",
      "\u001b[0;32m/opt/conda/lib/python3.8/site-packages/tensorflow/python/framework/func_graph.py\u001b[0m in \u001b[0;36mfunc_graph_from_py_func\u001b[0;34m(name, python_func, args, kwargs, signature, func_graph, autograph, autograph_options, add_control_dependencies, arg_names, op_return_value, collections, capture_by_value, override_flat_arg_shapes)\u001b[0m\n\u001b[1;32m    984\u001b[0m         \u001b[0m_\u001b[0m\u001b[0;34m,\u001b[0m \u001b[0moriginal_func\u001b[0m \u001b[0;34m=\u001b[0m \u001b[0mtf_decorator\u001b[0m\u001b[0;34m.\u001b[0m\u001b[0munwrap\u001b[0m\u001b[0;34m(\u001b[0m\u001b[0mpython_func\u001b[0m\u001b[0;34m)\u001b[0m\u001b[0;34m\u001b[0m\u001b[0;34m\u001b[0m\u001b[0m\n\u001b[1;32m    985\u001b[0m \u001b[0;34m\u001b[0m\u001b[0m\n\u001b[0;32m--> 986\u001b[0;31m       \u001b[0mfunc_outputs\u001b[0m \u001b[0;34m=\u001b[0m \u001b[0mpython_func\u001b[0m\u001b[0;34m(\u001b[0m\u001b[0;34m*\u001b[0m\u001b[0mfunc_args\u001b[0m\u001b[0;34m,\u001b[0m \u001b[0;34m**\u001b[0m\u001b[0mfunc_kwargs\u001b[0m\u001b[0;34m)\u001b[0m\u001b[0;34m\u001b[0m\u001b[0;34m\u001b[0m\u001b[0m\n\u001b[0m\u001b[1;32m    987\u001b[0m \u001b[0;34m\u001b[0m\u001b[0m\n\u001b[1;32m    988\u001b[0m       \u001b[0;31m# invariant: `func_outputs` contains only Tensors, CompositeTensors,\u001b[0m\u001b[0;34m\u001b[0m\u001b[0;34m\u001b[0m\u001b[0;34m\u001b[0m\u001b[0m\n",
      "\u001b[0;32m/opt/conda/lib/python3.8/site-packages/tensorflow/python/eager/def_function.py\u001b[0m in \u001b[0;36mwrapped_fn\u001b[0;34m(*args, **kwds)\u001b[0m\n\u001b[1;32m    598\u001b[0m         \u001b[0;31m# __wrapped__ allows AutoGraph to swap in a converted function. We give\u001b[0m\u001b[0;34m\u001b[0m\u001b[0;34m\u001b[0m\u001b[0;34m\u001b[0m\u001b[0m\n\u001b[1;32m    599\u001b[0m         \u001b[0;31m# the function a weak reference to itself to avoid a reference cycle.\u001b[0m\u001b[0;34m\u001b[0m\u001b[0;34m\u001b[0m\u001b[0;34m\u001b[0m\u001b[0m\n\u001b[0;32m--> 600\u001b[0;31m         \u001b[0;32mreturn\u001b[0m \u001b[0mweak_wrapped_fn\u001b[0m\u001b[0;34m(\u001b[0m\u001b[0;34m)\u001b[0m\u001b[0;34m.\u001b[0m\u001b[0m__wrapped__\u001b[0m\u001b[0;34m(\u001b[0m\u001b[0;34m*\u001b[0m\u001b[0margs\u001b[0m\u001b[0;34m,\u001b[0m \u001b[0;34m**\u001b[0m\u001b[0mkwds\u001b[0m\u001b[0;34m)\u001b[0m\u001b[0;34m\u001b[0m\u001b[0;34m\u001b[0m\u001b[0m\n\u001b[0m\u001b[1;32m    601\u001b[0m     \u001b[0mweak_wrapped_fn\u001b[0m \u001b[0;34m=\u001b[0m \u001b[0mweakref\u001b[0m\u001b[0;34m.\u001b[0m\u001b[0mref\u001b[0m\u001b[0;34m(\u001b[0m\u001b[0mwrapped_fn\u001b[0m\u001b[0;34m)\u001b[0m\u001b[0;34m\u001b[0m\u001b[0;34m\u001b[0m\u001b[0m\n\u001b[1;32m    602\u001b[0m \u001b[0;34m\u001b[0m\u001b[0m\n",
      "\u001b[0;32m/opt/conda/lib/python3.8/site-packages/tensorflow/python/framework/func_graph.py\u001b[0m in \u001b[0;36mwrapper\u001b[0;34m(*args, **kwargs)\u001b[0m\n\u001b[1;32m    971\u001b[0m           \u001b[0;32mexcept\u001b[0m \u001b[0mException\u001b[0m \u001b[0;32mas\u001b[0m \u001b[0me\u001b[0m\u001b[0;34m:\u001b[0m  \u001b[0;31m# pylint:disable=broad-except\u001b[0m\u001b[0;34m\u001b[0m\u001b[0;34m\u001b[0m\u001b[0m\n\u001b[1;32m    972\u001b[0m             \u001b[0;32mif\u001b[0m \u001b[0mhasattr\u001b[0m\u001b[0;34m(\u001b[0m\u001b[0me\u001b[0m\u001b[0;34m,\u001b[0m \u001b[0;34m\"ag_error_metadata\"\u001b[0m\u001b[0;34m)\u001b[0m\u001b[0;34m:\u001b[0m\u001b[0;34m\u001b[0m\u001b[0;34m\u001b[0m\u001b[0m\n\u001b[0;32m--> 973\u001b[0;31m               \u001b[0;32mraise\u001b[0m \u001b[0me\u001b[0m\u001b[0;34m.\u001b[0m\u001b[0mag_error_metadata\u001b[0m\u001b[0;34m.\u001b[0m\u001b[0mto_exception\u001b[0m\u001b[0;34m(\u001b[0m\u001b[0me\u001b[0m\u001b[0;34m)\u001b[0m\u001b[0;34m\u001b[0m\u001b[0;34m\u001b[0m\u001b[0m\n\u001b[0m\u001b[1;32m    974\u001b[0m             \u001b[0;32melse\u001b[0m\u001b[0;34m:\u001b[0m\u001b[0;34m\u001b[0m\u001b[0;34m\u001b[0m\u001b[0m\n\u001b[1;32m    975\u001b[0m               \u001b[0;32mraise\u001b[0m\u001b[0;34m\u001b[0m\u001b[0;34m\u001b[0m\u001b[0m\n",
      "\u001b[0;31mValueError\u001b[0m: in user code:\n\n    /opt/conda/lib/python3.8/site-packages/tensorflow/python/keras/engine/training.py:806 train_function  *\n        return step_function(self, iterator)\n    /opt/conda/lib/python3.8/site-packages/tensorflow/python/keras/engine/training.py:796 step_function  **\n        outputs = model.distribute_strategy.run(run_step, args=(data,))\n    /opt/conda/lib/python3.8/site-packages/tensorflow/python/distribute/distribute_lib.py:1211 run\n        return self._extended.call_for_each_replica(fn, args=args, kwargs=kwargs)\n    /opt/conda/lib/python3.8/site-packages/tensorflow/python/distribute/distribute_lib.py:2585 call_for_each_replica\n        return self._call_for_each_replica(fn, args, kwargs)\n    /opt/conda/lib/python3.8/site-packages/tensorflow/python/distribute/distribute_lib.py:2945 _call_for_each_replica\n        return fn(*args, **kwargs)\n    /opt/conda/lib/python3.8/site-packages/tensorflow/python/keras/engine/training.py:789 run_step  **\n        outputs = model.train_step(data)\n    /opt/conda/lib/python3.8/site-packages/tensorflow/python/keras/engine/training.py:748 train_step\n        loss = self.compiled_loss(\n    /opt/conda/lib/python3.8/site-packages/tensorflow/python/keras/engine/compile_utils.py:204 __call__\n        loss_value = loss_obj(y_t, y_p, sample_weight=sw)\n    /opt/conda/lib/python3.8/site-packages/tensorflow/python/keras/losses.py:149 __call__\n        losses = ag_call(y_true, y_pred)\n    /opt/conda/lib/python3.8/site-packages/tensorflow/python/keras/losses.py:253 call  **\n        return ag_fn(y_true, y_pred, **self._fn_kwargs)\n    /opt/conda/lib/python3.8/site-packages/tensorflow/python/util/dispatch.py:201 wrapper\n        return target(*args, **kwargs)\n    /opt/conda/lib/python3.8/site-packages/tensorflow/python/keras/losses.py:1535 categorical_crossentropy\n        return K.categorical_crossentropy(y_true, y_pred, from_logits=from_logits)\n    /opt/conda/lib/python3.8/site-packages/tensorflow/python/util/dispatch.py:201 wrapper\n        return target(*args, **kwargs)\n    /opt/conda/lib/python3.8/site-packages/tensorflow/python/keras/backend.py:4687 categorical_crossentropy\n        target.shape.assert_is_compatible_with(output.shape)\n    /opt/conda/lib/python3.8/site-packages/tensorflow/python/framework/tensor_shape.py:1134 assert_is_compatible_with\n        raise ValueError(\"Shapes %s and %s are incompatible\" % (self, other))\n\n    ValueError: Shapes (64, 1) and (64, 64, 41) are incompatible\n"
     ]
    }
   ],
   "source": [
    "self_attetntion_model.fit(utter_train_data, epochs=5,\n",
    "                    validation_data=utter_val_data, \n",
    "                    validation_steps=30,\n",
    "                   callbacks=[tensorboard_callback])"
   ]
  },
  {
   "cell_type": "markdown",
   "metadata": {},
   "source": [
    "## 注意単語の可視化"
   ]
  },
  {
   "cell_type": "code",
   "execution_count": 164,
   "metadata": {},
   "outputs": [],
   "source": [
    "attention_with_w_model = tf.keras.Model(inputs=Attention_Model.input, \n",
    "                               outputs=[Attention_Model.output, \n",
    "                                Attention_Model.get_layer('attention_7').output])"
   ]
  },
  {
   "cell_type": "code",
   "execution_count": null,
   "metadata": {},
   "outputs": [],
   "source": [
    "attention_with_w_model."
   ]
  }
 ],
 "metadata": {
  "kernelspec": {
   "display_name": "Python 3",
   "language": "python",
   "name": "python3"
  },
  "language_info": {
   "codemirror_mode": {
    "name": "ipython",
    "version": 3
   },
   "file_extension": ".py",
   "mimetype": "text/x-python",
   "name": "python",
   "nbconvert_exporter": "python",
   "pygments_lexer": "ipython3",
   "version": "3.8.5"
  }
 },
 "nbformat": 4,
 "nbformat_minor": 4
}
