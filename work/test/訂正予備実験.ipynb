{
 "cells": [
  {
   "cell_type": "markdown",
   "metadata": {},
   "source": [
    "# 予備実験(訂正版) 2値分類"
   ]
  },
  {
   "cell_type": "markdown",
   "metadata": {},
   "source": [
    "## 必要なモジュールのインポート"
   ]
  },
  {
   "cell_type": "code",
   "execution_count": 1,
   "metadata": {},
   "outputs": [],
   "source": [
    "%load_ext tensorboard\n",
    "import pandas as pd\n",
    "import glob\n",
    "import matplotlib.pyplot as plt\n",
    "import numpy as np\n",
    "\n",
    "import tensorflow_datasets as tfds\n",
    "import tensorflow as tf\n",
    "import datetime\n",
    "from tensorflow.keras.callbacks import TensorBoard"
   ]
  },
  {
   "cell_type": "markdown",
   "metadata": {},
   "source": [
    "## データセットの用意"
   ]
  },
  {
   "cell_type": "code",
   "execution_count": 2,
   "metadata": {},
   "outputs": [],
   "source": [
    "full_dataset_path = \"./full_set.txt\""
   ]
  },
  {
   "cell_type": "code",
   "execution_count": 3,
   "metadata": {},
   "outputs": [],
   "source": [
    "full_dataset = []\n",
    "f = open(full_dataset_path, \"r\", encoding='utf-8')\n",
    "for row in f:\n",
    "    full_dataset.append(row.strip())\n",
    "f.close()"
   ]
  },
  {
   "cell_type": "code",
   "execution_count": 4,
   "metadata": {},
   "outputs": [],
   "source": [
    "full_utter_user = []\n",
    "full_utter = []\n",
    "full_utter_label = []"
   ]
  },
  {
   "cell_type": "code",
   "execution_count": 5,
   "metadata": {},
   "outputs": [
    {
     "name": "stdout",
     "output_type": "stream",
     "text": [
      "finish\n"
     ]
    }
   ],
   "source": [
    "for j in full_dataset:\n",
    "    for i,v in enumerate(j.split(\"|\")):\n",
    "        if i == 0:\n",
    "            full_utter_user.append(v)\n",
    "        elif i==1:\n",
    "            full_utter.append(v)\n",
    "        else:\n",
    "            full_utter_label.append(v)\n",
    "            \n",
    "print(\"finish\")"
   ]
  },
  {
   "cell_type": "markdown",
   "metadata": {},
   "source": [
    "### ラベルデータ数値化"
   ]
  },
  {
   "cell_type": "code",
   "execution_count": 9,
   "metadata": {},
   "outputs": [],
   "source": [
    "from tensorflow.keras.utils import to_categorical"
   ]
  },
  {
   "cell_type": "code",
   "execution_count": 10,
   "metadata": {},
   "outputs": [],
   "source": [
    "non_remove_labels = [\"sd\", \"sv\"]"
   ]
  },
  {
   "cell_type": "code",
   "execution_count": 11,
   "metadata": {},
   "outputs": [],
   "source": [
    "label = {}\n",
    "for i,v in enumerate(non_remove_labels):\n",
    "    label[v] = to_categorical(i, num_classes=len(non_remove_labels))"
   ]
  },
  {
   "cell_type": "markdown",
   "metadata": {},
   "source": [
    "## Tensorflow型のデータ変換"
   ]
  },
  {
   "cell_type": "code",
   "execution_count": 15,
   "metadata": {},
   "outputs": [],
   "source": [
    "full_utter_labels = []\n",
    "full_utters = []\n",
    "for i,v in enumerate(full_utter_label):\n",
    "    if v in non_remove_labels:\n",
    "        full_utter_labels.append(label[v])\n",
    "        full_utters.append(full_utter[i])"
   ]
  },
  {
   "cell_type": "code",
   "execution_count": 17,
   "metadata": {},
   "outputs": [],
   "source": [
    "full_data = tf.data.Dataset.from_tensor_slices((full_utters, full_utter_labels))"
   ]
  },
  {
   "cell_type": "markdown",
   "metadata": {},
   "source": [
    "## トークナイザー"
   ]
  },
  {
   "cell_type": "code",
   "execution_count": 18,
   "metadata": {},
   "outputs": [],
   "source": [
    "## ボキャブラリーリスト\n",
    "vocabulary_set = set()\n",
    "## トークナイザー\n",
    "tokenizer = tfds.deprecated.text.Tokenizer()\n",
    "\n",
    "#full_data_list = [train_data, val_data]\n",
    "\n",
    "## 分かち書き\n",
    "for i,_ in full_data:\n",
    "    some_tokens = tokenizer.tokenize(i.numpy())\n",
    "    vocabulary_set.update(some_tokens)\n",
    "    \n",
    "## ボキャブラリーリスト作成\n",
    "vocab_size = len(vocabulary_set)"
   ]
  },
  {
   "cell_type": "markdown",
   "metadata": {},
   "source": [
    "## encode生成"
   ]
  },
  {
   "cell_type": "code",
   "execution_count": 19,
   "metadata": {},
   "outputs": [],
   "source": [
    "encoder = tfds.deprecated.text.TokenTextEncoder(vocabulary_set)"
   ]
  },
  {
   "cell_type": "code",
   "execution_count": 20,
   "metadata": {},
   "outputs": [],
   "source": [
    "def encode(token, label):\n",
    "    token = encoder.encode(token.numpy())\n",
    "    return token, label\n",
    "\n",
    "@tf.function\n",
    "def tf_encoder(utter, label):\n",
    "    encoded_text, label = tf.py_function(encode,[utter, label],[tf.int64, tf.float32])\n",
    "    encoded_text.set_shape([None])\n",
    "    return encoded_text, label"
   ]
  },
  {
   "cell_type": "markdown",
   "metadata": {},
   "source": [
    "## metrics"
   ]
  },
  {
   "cell_type": "code",
   "execution_count": 21,
   "metadata": {},
   "outputs": [],
   "source": [
    "METRICS = [\n",
    "      tf.keras.metrics.TruePositives(name='tp'),\n",
    "      tf.keras.metrics.FalsePositives(name='fp'),\n",
    "      tf.keras.metrics.TrueNegatives(name='tn'),\n",
    "      tf.keras.metrics.FalseNegatives(name='fn'),\n",
    "      tf.keras.metrics.CategoricalAccuracy(name='accuracy'),\n",
    "      tf.keras.metrics.Precision(name='precision'),\n",
    "      tf.keras.metrics.Recall(name='recall'),\n",
    "      tf.keras.metrics.AUC(name='auc'),\n",
    "]"
   ]
  },
  {
   "cell_type": "markdown",
   "metadata": {},
   "source": [
    "## データ設計"
   ]
  },
  {
   "cell_type": "code",
   "execution_count": 22,
   "metadata": {},
   "outputs": [],
   "source": [
    "max_len = 40\n",
    "\n",
    "all_full_data_encode = full_data.map(tf_encoder)\n",
    "test_size = 10000\n",
    "val_size = 10000\n",
    "all_train = all_full_data_encode.skip(test_size)\n",
    "all_test = all_full_data_encode.take(test_size)\n",
    "all_val = all_train.take(val_size)\n",
    "all_trains = all_train.skip(val_size)"
   ]
  },
  {
   "cell_type": "code",
   "execution_count": 23,
   "metadata": {},
   "outputs": [],
   "source": [
    "utter_train_data = all_trains.padded_batch(64, padded_shapes=([None], [2]), drop_remainder=True)\n",
    "utter_test_data = all_test.padded_batch(64, padded_shapes=([None], [2]), drop_remainder=True)\n",
    "utter_val_data = all_val.padded_batch(64, padded_shapes=([None], [2]), drop_remainder=True)"
   ]
  },
  {
   "cell_type": "markdown",
   "metadata": {},
   "source": [
    "## RNNモデル設計"
   ]
  },
  {
   "cell_type": "code",
   "execution_count": 78,
   "metadata": {},
   "outputs": [
    {
     "name": "stdout",
     "output_type": "stream",
     "text": [
      "Model: \"sequential_4\"\n",
      "_________________________________________________________________\n",
      "Layer (type)                 Output Shape              Param #   \n",
      "=================================================================\n",
      "embedding_8 (Embedding)      (None, None, 64)          1427328   \n",
      "_________________________________________________________________\n",
      "gru_8 (GRU)                  (None, 64)                24960     \n",
      "_________________________________________________________________\n",
      "dense_12 (Dense)             (None, 64)                4160      \n",
      "_________________________________________________________________\n",
      "dense_13 (Dense)             (None, 2)                 130       \n",
      "=================================================================\n",
      "Total params: 1,456,578\n",
      "Trainable params: 1,456,578\n",
      "Non-trainable params: 0\n",
      "_________________________________________________________________\n"
     ]
    }
   ],
   "source": [
    "rnn_model = tf.keras.Sequential([\n",
    "    tf.keras.layers.Embedding(22302, 64),\n",
    "    tf.keras.layers.GRU(64),\n",
    "    tf.keras.layers.Dense(64, activation='relu'),\n",
    "    tf.keras.layers.Dense(2, activation='softmax')\n",
    "])\n",
    "rnn_model.summary()"
   ]
  },
  {
   "cell_type": "markdown",
   "metadata": {},
   "source": [
    "### RNNモデルコンパイル"
   ]
  },
  {
   "cell_type": "code",
   "execution_count": 30,
   "metadata": {},
   "outputs": [],
   "source": [
    "rnn_model.compile(loss=tf.keras.losses.CategoricalCrossentropy(),\n",
    "              optimizer='adam',\n",
    "              metrics=METRICS)"
   ]
  },
  {
   "cell_type": "markdown",
   "metadata": {},
   "source": [
    "### RNNモデル実行"
   ]
  },
  {
   "cell_type": "code",
   "execution_count": 33,
   "metadata": {},
   "outputs": [
    {
     "name": "stdout",
     "output_type": "stream",
     "text": [
      "Epoch 1/14\n",
      "   2/1274 [..............................] - ETA: 56s - loss: 0.1634 - tp: 118.0000 - fp: 10.0000 - tn: 118.0000 - fn: 10.0000 - accuracy: 0.9219 - precision: 0.9219 - recall: 0.9219 - auc: 0.9833WARNING:tensorflow:Callbacks method `on_train_batch_end` is slow compared to the batch time (batch time: 0.0285s vs `on_train_batch_end` time: 0.0600s). Check your callbacks.\n",
      "1274/1274 [==============================] - 36s 28ms/step - loss: 0.1425 - tp: 75798.0000 - fp: 5738.0000 - tn: 75798.0000 - fn: 5738.0000 - accuracy: 0.9296 - precision: 0.9296 - recall: 0.9296 - auc: 0.9868 - val_loss: 1.3498 - val_tp: 1504.0000 - val_fp: 416.0000 - val_tn: 1504.0000 - val_fn: 416.0000 - val_accuracy: 0.7833 - val_precision: 0.7833 - val_recall: 0.7833 - val_auc: 0.8236\n",
      "Epoch 2/14\n",
      "1274/1274 [==============================] - 36s 28ms/step - loss: 0.1371 - tp: 76055.0000 - fp: 5481.0000 - tn: 76055.0000 - fn: 5481.0000 - accuracy: 0.9328 - precision: 0.9328 - recall: 0.9328 - auc: 0.9878 - val_loss: 1.4658 - val_tp: 1491.0000 - val_fp: 429.0000 - val_tn: 1491.0000 - val_fn: 429.0000 - val_accuracy: 0.7766 - val_precision: 0.7766 - val_recall: 0.7766 - val_auc: 0.8113\n",
      "Epoch 3/14\n",
      "1274/1274 [==============================] - 36s 28ms/step - loss: 0.1321 - tp: 76212.0000 - fp: 5324.0000 - tn: 76212.0000 - fn: 5324.0000 - accuracy: 0.9347 - precision: 0.9347 - recall: 0.9347 - auc: 0.9887 - val_loss: 1.3982 - val_tp: 1478.0000 - val_fp: 442.0000 - val_tn: 1478.0000 - val_fn: 442.0000 - val_accuracy: 0.7698 - val_precision: 0.7698 - val_recall: 0.7698 - val_auc: 0.8135\n",
      "Epoch 4/14\n",
      "1274/1274 [==============================] - 36s 28ms/step - loss: 0.1258 - tp: 76371.0000 - fp: 5165.0000 - tn: 76371.0000 - fn: 5165.0000 - accuracy: 0.9367 - precision: 0.9367 - recall: 0.9367 - auc: 0.9897 - val_loss: 1.4639 - val_tp: 1486.0000 - val_fp: 434.0000 - val_tn: 1486.0000 - val_fn: 434.0000 - val_accuracy: 0.7740 - val_precision: 0.7740 - val_recall: 0.7740 - val_auc: 0.8163\n",
      "Epoch 5/14\n",
      "1274/1274 [==============================] - 36s 28ms/step - loss: 0.1219 - tp: 76634.0000 - fp: 4902.0000 - tn: 76634.0000 - fn: 4902.0000 - accuracy: 0.9399 - precision: 0.9399 - recall: 0.9399 - auc: 0.9903 - val_loss: 1.4867 - val_tp: 1505.0000 - val_fp: 415.0000 - val_tn: 1505.0000 - val_fn: 415.0000 - val_accuracy: 0.7839 - val_precision: 0.7839 - val_recall: 0.7839 - val_auc: 0.8193\n",
      "Epoch 6/14\n",
      "1274/1274 [==============================] - 37s 29ms/step - loss: 0.1161 - tp: 76872.0000 - fp: 4664.0000 - tn: 76872.0000 - fn: 4664.0000 - accuracy: 0.9428 - precision: 0.9428 - recall: 0.9428 - auc: 0.9912 - val_loss: 1.5075 - val_tp: 1494.0000 - val_fp: 426.0000 - val_tn: 1494.0000 - val_fn: 426.0000 - val_accuracy: 0.7781 - val_precision: 0.7781 - val_recall: 0.7781 - val_auc: 0.8196\n",
      "Epoch 7/14\n",
      "1274/1274 [==============================] - 37s 29ms/step - loss: 0.1086 - tp: 77185.0000 - fp: 4351.0000 - tn: 77185.0000 - fn: 4351.0000 - accuracy: 0.9466 - precision: 0.9466 - recall: 0.9466 - auc: 0.9923 - val_loss: 1.5977 - val_tp: 1491.0000 - val_fp: 429.0000 - val_tn: 1491.0000 - val_fn: 429.0000 - val_accuracy: 0.7766 - val_precision: 0.7766 - val_recall: 0.7766 - val_auc: 0.8146\n",
      "Epoch 8/14\n",
      "1274/1274 [==============================] - 36s 28ms/step - loss: 0.1049 - tp: 77409.0000 - fp: 4127.0000 - tn: 77409.0000 - fn: 4127.0000 - accuracy: 0.9494 - precision: 0.9494 - recall: 0.9494 - auc: 0.9928 - val_loss: 1.5078 - val_tp: 1502.0000 - val_fp: 418.0000 - val_tn: 1502.0000 - val_fn: 418.0000 - val_accuracy: 0.7823 - val_precision: 0.7823 - val_recall: 0.7823 - val_auc: 0.8279\n",
      "Epoch 9/14\n",
      "1274/1274 [==============================] - 36s 28ms/step - loss: 0.0992 - tp: 77567.0000 - fp: 3969.0000 - tn: 77567.0000 - fn: 3969.0000 - accuracy: 0.9513 - precision: 0.9513 - recall: 0.9513 - auc: 0.9936 - val_loss: 1.7784 - val_tp: 1472.0000 - val_fp: 448.0000 - val_tn: 1472.0000 - val_fn: 448.0000 - val_accuracy: 0.7667 - val_precision: 0.7667 - val_recall: 0.7667 - val_auc: 0.8092\n",
      "Epoch 10/14\n",
      "1274/1274 [==============================] - 36s 28ms/step - loss: 0.0947 - tp: 77816.0000 - fp: 3720.0000 - tn: 77816.0000 - fn: 3720.0000 - accuracy: 0.9544 - precision: 0.9544 - recall: 0.9544 - auc: 0.9941 - val_loss: 1.8175 - val_tp: 1478.0000 - val_fp: 442.0000 - val_tn: 1478.0000 - val_fn: 442.0000 - val_accuracy: 0.7698 - val_precision: 0.7698 - val_recall: 0.7698 - val_auc: 0.8075\n",
      "Epoch 11/14\n",
      "1274/1274 [==============================] - 36s 28ms/step - loss: 0.0912 - tp: 77952.0000 - fp: 3584.0000 - tn: 77952.0000 - fn: 3584.0000 - accuracy: 0.9560 - precision: 0.9560 - recall: 0.9560 - auc: 0.9945 - val_loss: 1.7231 - val_tp: 1474.0000 - val_fp: 446.0000 - val_tn: 1474.0000 - val_fn: 446.0000 - val_accuracy: 0.7677 - val_precision: 0.7677 - val_recall: 0.7677 - val_auc: 0.8158\n",
      "Epoch 12/14\n",
      "1274/1274 [==============================] - 36s 28ms/step - loss: 0.0885 - tp: 78123.0000 - fp: 3413.0000 - tn: 78123.0000 - fn: 3413.0000 - accuracy: 0.9581 - precision: 0.9581 - recall: 0.9581 - auc: 0.9949 - val_loss: 1.7668 - val_tp: 1490.0000 - val_fp: 430.0000 - val_tn: 1490.0000 - val_fn: 430.0000 - val_accuracy: 0.7760 - val_precision: 0.7760 - val_recall: 0.7760 - val_auc: 0.8209\n",
      "Epoch 13/14\n",
      "1274/1274 [==============================] - 36s 28ms/step - loss: 0.0849 - tp: 78229.0000 - fp: 3307.0000 - tn: 78229.0000 - fn: 3307.0000 - accuracy: 0.9594 - precision: 0.9594 - recall: 0.9594 - auc: 0.9953 - val_loss: 1.6864 - val_tp: 1506.0000 - val_fp: 414.0000 - val_tn: 1506.0000 - val_fn: 414.0000 - val_accuracy: 0.7844 - val_precision: 0.7844 - val_recall: 0.7844 - val_auc: 0.8255\n",
      "Epoch 14/14\n",
      "1274/1274 [==============================] - 36s 28ms/step - loss: 0.0802 - tp: 78447.0000 - fp: 3089.0000 - tn: 78447.0000 - fn: 3089.0000 - accuracy: 0.9621 - precision: 0.9621 - recall: 0.9621 - auc: 0.9958 - val_loss: 1.8837 - val_tp: 1498.0000 - val_fp: 422.0000 - val_tn: 1498.0000 - val_fn: 422.0000 - val_accuracy: 0.7802 - val_precision: 0.7802 - val_recall: 0.7802 - val_auc: 0.8164\n"
     ]
    }
   ],
   "source": [
    "rnn_history = rnn_model.fit(utter_train_data, epochs=14,\n",
    "                    validation_data=utter_val_data,\n",
    "                    validation_steps=30,\n",
    "                    callbacks=[TensorBoard()])"
   ]
  },
  {
   "cell_type": "markdown",
   "metadata": {},
   "source": [
    "### RNNモデル評価"
   ]
  },
  {
   "cell_type": "code",
   "execution_count": 53,
   "metadata": {},
   "outputs": [],
   "source": [
    "import seaborn as sns\n",
    "import matplotlib.pyplot as plt\n",
    "from sklearn.metrics import confusion_matrix\n",
    "from sklearn.metrics import classification_report"
   ]
  },
  {
   "cell_type": "code",
   "execution_count": 35,
   "metadata": {},
   "outputs": [
    {
     "name": "stdout",
     "output_type": "stream",
     "text": [
      "9984\n"
     ]
    }
   ],
   "source": [
    "y_test = []\n",
    "y_pred = []\n",
    "for x, y in utter_test_data:\n",
    "    pred = np.argmax(rnn_model.predict(x), axis=1)\n",
    "    for i in np.argmax(y, axis=1):\n",
    "        y_test.append(non_remove_labels[i])\n",
    "\n",
    "    for i in pred:\n",
    "        y_pred.append(non_remove_labels[i])\n",
    "\n",
    "print(len(y_test))"
   ]
  },
  {
   "cell_type": "markdown",
   "metadata": {},
   "source": [
    "#### accuracy & macro平均F値"
   ]
  },
  {
   "cell_type": "code",
   "execution_count": 37,
   "metadata": {},
   "outputs": [
    {
     "name": "stdout",
     "output_type": "stream",
     "text": [
      "              precision    recall  f1-score   support\n",
      "\n",
      "          sd       0.88      0.77      0.82      7128\n",
      "          sv       0.56      0.75      0.64      2856\n",
      "\n",
      "    accuracy                           0.76      9984\n",
      "   macro avg       0.72      0.76      0.73      9984\n",
      "weighted avg       0.79      0.76      0.77      9984\n",
      "\n"
     ]
    }
   ],
   "source": [
    "print(classification_report(y_test, y_pred))"
   ]
  },
  {
   "cell_type": "markdown",
   "metadata": {},
   "source": [
    "#### 混同行列"
   ]
  },
  {
   "cell_type": "code",
   "execution_count": 60,
   "metadata": {},
   "outputs": [
    {
     "data": {
      "image/png": "[encoded data removed]",
      "text/plain": [
       "<Figure size 360x360 with 2 Axes>"
      ]
     },
     "metadata": {
      "needs_background": "light"
     },
     "output_type": "display_data"
    }
   ],
   "source": [
    "rnn_cm = confusion_matrix(y_test, y_pred, non_remove_labels)\n",
    "df = pd.DataFrame(rnn_cm, index=non_remove_labels, columns=non_remove_labels)\n",
    "plt.figure(figsize=(5, 5))\n",
    "plt.title(\"rnn_cm\")\n",
    "plt.ylabel(\"label\")\n",
    "plt.xlabel(\"label\")\n",
    "sns.heatmap(df, annot=True, cmap='Blues')\n",
    "#plt.show()\n",
    "plt.savefig(\"graph/rnn_cm2.png\")"
   ]
  },
  {
   "cell_type": "code",
   "execution_count": 75,
   "metadata": {},
   "outputs": [
    {
     "name": "stdout",
     "output_type": "stream",
     "text": [
      "[[5463 1665]\n",
      " [ 727 2129]]\n"
     ]
    }
   ],
   "source": [
    "print(rnn_cm)"
   ]
  },
  {
   "cell_type": "markdown",
   "metadata": {},
   "source": [
    "## RNNモデル(双方向)"
   ]
  },
  {
   "cell_type": "code",
   "execution_count": 77,
   "metadata": {},
   "outputs": [
    {
     "name": "stdout",
     "output_type": "stream",
     "text": [
      "Model: \"sequential_2\"\n",
      "_________________________________________________________________\n",
      "Layer (type)                 Output Shape              Param #   \n",
      "=================================================================\n",
      "embedding_6 (Embedding)      (None, None, 64)          1427328   \n",
      "_________________________________________________________________\n",
      "bidirectional (Bidirectional (None, 128)               49920     \n",
      "_________________________________________________________________\n",
      "dense_8 (Dense)              (None, 64)                8256      \n",
      "_________________________________________________________________\n",
      "dense_9 (Dense)              (None, 2)                 130       \n",
      "=================================================================\n",
      "Total params: 1,485,634\n",
      "Trainable params: 1,485,634\n",
      "Non-trainable params: 0\n",
      "_________________________________________________________________\n"
     ]
    }
   ],
   "source": [
    "Bidirectional_rnn_model = tf.keras.Sequential([\n",
    "    tf.keras.layers.Embedding(22302, 64),\n",
    "    tf.keras.layers.Bidirectional(tf.keras.layers.GRU(64)),\n",
    "    tf.keras.layers.Dense(64, activation='relu'),\n",
    "    tf.keras.layers.Dense(2, activation='softmax')\n",
    "])\n",
    "rnn_model.summary()"
   ]
  },
  {
   "cell_type": "markdown",
   "metadata": {},
   "source": [
    "### RNNモデル(双方向)コンパイル"
   ]
  },
  {
   "cell_type": "code",
   "execution_count": 79,
   "metadata": {},
   "outputs": [],
   "source": [
    "Bidirectional_rnn_model.compile(loss=tf.keras.losses.CategoricalCrossentropy(),\n",
    "              optimizer='adam',\n",
    "              metrics=METRICS)"
   ]
  },
  {
   "cell_type": "markdown",
   "metadata": {},
   "source": [
    "### RNNモデル(双方向)実行"
   ]
  },
  {
   "cell_type": "code",
   "execution_count": 80,
   "metadata": {},
   "outputs": [
    {
     "name": "stdout",
     "output_type": "stream",
     "text": [
      "Epoch 1/14\n",
      "   2/1274 [..............................] - ETA: 3:05 - loss: 0.6710 - tp: 1618.0000 - fp: 430.0000 - tn: 1618.0000 - fn: 430.0000 - accuracy: 0.7900 - precision: 0.7900 - recall: 0.7900 - auc: 0.8363WARNING:tensorflow:Callbacks method `on_train_batch_end` is slow compared to the batch time (batch time: 0.0324s vs `on_train_batch_end` time: 0.2600s). Check your callbacks.\n",
      "1274/1274 [==============================] - 38s 30ms/step - loss: 0.4240 - tp: 66657.0000 - fp: 16799.0000 - tn: 66657.0000 - fn: 16799.0000 - accuracy: 0.7987 - precision: 0.7987 - recall: 0.7987 - auc: 0.8834 - val_loss: 0.3527 - val_tp: 1608.0000 - val_fp: 312.0000 - val_tn: 1608.0000 - val_fn: 312.0000 - val_accuracy: 0.8375 - val_precision: 0.8375 - val_recall: 0.8375 - val_auc: 0.9223\n",
      "Epoch 2/14\n",
      "1274/1274 [==============================] - 37s 29ms/step - loss: 0.3553 - tp: 68164.0000 - fp: 13372.0000 - tn: 68164.0000 - fn: 13372.0000 - accuracy: 0.8360 - precision: 0.8360 - recall: 0.8360 - auc: 0.9210 - val_loss: 0.3516 - val_tp: 1607.0000 - val_fp: 313.0000 - val_tn: 1607.0000 - val_fn: 313.0000 - val_accuracy: 0.8370 - val_precision: 0.8370 - val_recall: 0.8370 - val_auc: 0.9229\n",
      "Epoch 3/14\n",
      "1274/1274 [==============================] - 37s 29ms/step - loss: 0.3208 - tp: 69600.0000 - fp: 11936.0000 - tn: 69600.0000 - fn: 11936.0000 - accuracy: 0.8536 - precision: 0.8536 - recall: 0.8536 - auc: 0.9363 - val_loss: 0.3794 - val_tp: 1582.0000 - val_fp: 338.0000 - val_tn: 1582.0000 - val_fn: 338.0000 - val_accuracy: 0.8240 - val_precision: 0.8240 - val_recall: 0.8240 - val_auc: 0.9136\n",
      "Epoch 4/14\n",
      "1274/1274 [==============================] - 37s 29ms/step - loss: 0.2906 - tp: 70958.0000 - fp: 10578.0000 - tn: 70958.0000 - fn: 10578.0000 - accuracy: 0.8703 - precision: 0.8703 - recall: 0.8703 - auc: 0.9481 - val_loss: 0.3950 - val_tp: 1574.0000 - val_fp: 346.0000 - val_tn: 1574.0000 - val_fn: 346.0000 - val_accuracy: 0.8198 - val_precision: 0.8198 - val_recall: 0.8198 - val_auc: 0.9124\n",
      "Epoch 5/14\n",
      "1274/1274 [==============================] - 37s 29ms/step - loss: 0.2626 - tp: 72091.0000 - fp: 9445.0000 - tn: 72091.0000 - fn: 9445.0000 - accuracy: 0.8842 - precision: 0.8842 - recall: 0.8842 - auc: 0.9578 - val_loss: 0.4313 - val_tp: 1576.0000 - val_fp: 344.0000 - val_tn: 1576.0000 - val_fn: 344.0000 - val_accuracy: 0.8208 - val_precision: 0.8208 - val_recall: 0.8208 - val_auc: 0.9067\n",
      "Epoch 6/14\n",
      "1274/1274 [==============================] - 37s 29ms/step - loss: 0.2370 - tp: 72958.0000 - fp: 8578.0000 - tn: 72958.0000 - fn: 8578.0000 - accuracy: 0.8948 - precision: 0.8948 - recall: 0.8948 - auc: 0.9656 - val_loss: 0.4630 - val_tp: 1588.0000 - val_fp: 332.0000 - val_tn: 1588.0000 - val_fn: 332.0000 - val_accuracy: 0.8271 - val_precision: 0.8271 - val_recall: 0.8271 - val_auc: 0.9039\n",
      "Epoch 7/14\n",
      "1274/1274 [==============================] - 37s 29ms/step - loss: 0.2164 - tp: 73512.0000 - fp: 8024.0000 - tn: 73512.0000 - fn: 8024.0000 - accuracy: 0.9016 - precision: 0.9016 - recall: 0.9016 - auc: 0.9712 - val_loss: 0.5602 - val_tp: 1552.0000 - val_fp: 368.0000 - val_tn: 1552.0000 - val_fn: 368.0000 - val_accuracy: 0.8083 - val_precision: 0.8083 - val_recall: 0.8083 - val_auc: 0.8850\n",
      "Epoch 8/14\n",
      "1274/1274 [==============================] - 37s 29ms/step - loss: 0.2015 - tp: 73914.0000 - fp: 7622.0000 - tn: 73914.0000 - fn: 7622.0000 - accuracy: 0.9065 - precision: 0.9065 - recall: 0.9065 - auc: 0.9748 - val_loss: 0.5716 - val_tp: 1585.0000 - val_fp: 335.0000 - val_tn: 1585.0000 - val_fn: 335.0000 - val_accuracy: 0.8255 - val_precision: 0.8255 - val_recall: 0.8255 - val_auc: 0.8900\n",
      "Epoch 9/14\n",
      "1274/1274 [==============================] - 37s 29ms/step - loss: 0.1896 - tp: 74177.0000 - fp: 7359.0000 - tn: 74177.0000 - fn: 7359.0000 - accuracy: 0.9097 - precision: 0.9097 - recall: 0.9097 - auc: 0.9775 - val_loss: 0.7014 - val_tp: 1540.0000 - val_fp: 380.0000 - val_tn: 1540.0000 - val_fn: 380.0000 - val_accuracy: 0.8021 - val_precision: 0.8021 - val_recall: 0.8021 - val_auc: 0.8624\n",
      "Epoch 10/14\n",
      "1274/1274 [==============================] - 37s 29ms/step - loss: 0.1787 - tp: 74491.0000 - fp: 7045.0000 - tn: 74491.0000 - fn: 7045.0000 - accuracy: 0.9136 - precision: 0.9136 - recall: 0.9136 - auc: 0.9798 - val_loss: 0.8595 - val_tp: 1533.0000 - val_fp: 387.0000 - val_tn: 1533.0000 - val_fn: 387.0000 - val_accuracy: 0.7984 - val_precision: 0.7984 - val_recall: 0.7984 - val_auc: 0.8425\n",
      "Epoch 11/14\n",
      "1274/1274 [==============================] - 37s 29ms/step - loss: 0.1690 - tp: 74783.0000 - fp: 6753.0000 - tn: 74783.0000 - fn: 6753.0000 - accuracy: 0.9172 - precision: 0.9172 - recall: 0.9172 - auc: 0.9818 - val_loss: 0.8964 - val_tp: 1541.0000 - val_fp: 379.0000 - val_tn: 1541.0000 - val_fn: 379.0000 - val_accuracy: 0.8026 - val_precision: 0.8026 - val_recall: 0.8026 - val_auc: 0.8543\n",
      "Epoch 12/14\n",
      "1274/1274 [==============================] - 37s 29ms/step - loss: 0.1586 - tp: 75143.0000 - fp: 6393.0000 - tn: 75143.0000 - fn: 6393.0000 - accuracy: 0.9216 - precision: 0.9216 - recall: 0.9216 - auc: 0.9839 - val_loss: 0.9615 - val_tp: 1535.0000 - val_fp: 385.0000 - val_tn: 1535.0000 - val_fn: 385.0000 - val_accuracy: 0.7995 - val_precision: 0.7995 - val_recall: 0.7995 - val_auc: 0.8460\n",
      "Epoch 13/14\n",
      "1274/1274 [==============================] - 37s 29ms/step - loss: 0.1523 - tp: 75433.0000 - fp: 6103.0000 - tn: 75433.0000 - fn: 6103.0000 - accuracy: 0.9251 - precision: 0.9251 - recall: 0.9251 - auc: 0.9851 - val_loss: 0.9866 - val_tp: 1540.0000 - val_fp: 380.0000 - val_tn: 1540.0000 - val_fn: 380.0000 - val_accuracy: 0.8021 - val_precision: 0.8021 - val_recall: 0.8021 - val_auc: 0.8517\n",
      "Epoch 14/14\n",
      "1274/1274 [==============================] - 37s 29ms/step - loss: 0.1437 - tp: 75844.0000 - fp: 5692.0000 - tn: 75844.0000 - fn: 5692.0000 - accuracy: 0.9302 - precision: 0.9302 - recall: 0.9302 - auc: 0.9867 - val_loss: 1.0842 - val_tp: 1517.0000 - val_fp: 403.0000 - val_tn: 1517.0000 - val_fn: 403.0000 - val_accuracy: 0.7901 - val_precision: 0.7901 - val_recall: 0.7901 - val_auc: 0.8416\n"
     ]
    }
   ],
   "source": [
    "Bidirectional_rnn_history = Bidirectional_rnn_model.fit(utter_train_data, epochs=14,\n",
    "                    validation_data=utter_val_data,\n",
    "                    validation_steps=30,\n",
    "                    callbacks=[TensorBoard()])"
   ]
  },
  {
   "cell_type": "code",
   "execution_count": 81,
   "metadata": {},
   "outputs": [
    {
     "name": "stdout",
     "output_type": "stream",
     "text": [
      "9984\n"
     ]
    }
   ],
   "source": [
    "y_test = []\n",
    "y_pred = []\n",
    "for x, y in utter_test_data:\n",
    "    pred = np.argmax(Bidirectional_rnn_model.predict(x), axis=1)\n",
    "    for i in np.argmax(y, axis=1):\n",
    "        y_test.append(non_remove_labels[i])\n",
    "\n",
    "    for i in pred:\n",
    "        y_pred.append(non_remove_labels[i])\n",
    "\n",
    "print(len(y_test))"
   ]
  },
  {
   "cell_type": "markdown",
   "metadata": {},
   "source": [
    "#### accuracy & macro平均F値"
   ]
  },
  {
   "cell_type": "code",
   "execution_count": 82,
   "metadata": {},
   "outputs": [
    {
     "name": "stdout",
     "output_type": "stream",
     "text": [
      "              precision    recall  f1-score   support\n",
      "\n",
      "          sd       0.88      0.79      0.84      7128\n",
      "          sv       0.59      0.73      0.65      2856\n",
      "\n",
      "    accuracy                           0.78      9984\n",
      "   macro avg       0.73      0.76      0.74      9984\n",
      "weighted avg       0.80      0.78      0.78      9984\n",
      "\n"
     ]
    }
   ],
   "source": [
    "print(classification_report(y_test, y_pred))"
   ]
  },
  {
   "cell_type": "markdown",
   "metadata": {},
   "source": [
    "#### 混同行列"
   ]
  },
  {
   "cell_type": "code",
   "execution_count": 85,
   "metadata": {},
   "outputs": [
    {
     "data": {
      "image/png": "[encoded data removed]",
      "text/plain": [
       "<Figure size 360x360 with 2 Axes>"
      ]
     },
     "metadata": {
      "needs_background": "light"
     },
     "output_type": "display_data"
    }
   ],
   "source": [
    "Bidirectional_rnn_cm = confusion_matrix(y_test, y_pred, non_remove_labels)\n",
    "df = pd.DataFrame(Bidirectional_rnn_cm, index=non_remove_labels, columns=non_remove_labels)\n",
    "plt.figure(figsize=(5, 5))\n",
    "plt.title(\"rnn_cm\")\n",
    "plt.ylabel(\"label\")\n",
    "plt.xlabel(\"label\")\n",
    "sns.heatmap(df, annot=True, cmap='Blues')\n",
    "#plt.show()\n",
    "plt.savefig(\"graph/Bidirectional_rnn_cm.png\")"
   ]
  },
  {
   "cell_type": "code",
   "execution_count": 86,
   "metadata": {},
   "outputs": [
    {
     "name": "stdout",
     "output_type": "stream",
     "text": [
      "[[5658 1470]\n",
      " [ 758 2098]]\n"
     ]
    }
   ],
   "source": [
    "print(Bidirectional_rnn_cm)"
   ]
  },
  {
   "cell_type": "code",
   "execution_count": null,
   "metadata": {},
   "outputs": [],
   "source": []
  },
  {
   "cell_type": "markdown",
   "metadata": {},
   "source": [
    "## Self-Attentionモデル設計"
   ]
  },
  {
   "cell_type": "code",
   "execution_count": 61,
   "metadata": {},
   "outputs": [],
   "source": [
    "from keras_self_attention import SeqSelfAttention"
   ]
  },
  {
   "cell_type": "code",
   "execution_count": 62,
   "metadata": {},
   "outputs": [],
   "source": [
    "BATCH_SIZE = 64"
   ]
  },
  {
   "cell_type": "code",
   "execution_count": 68,
   "metadata": {},
   "outputs": [
    {
     "name": "stdout",
     "output_type": "stream",
     "text": [
      "Model: \"functional_7\"\n",
      "_________________________________________________________________\n",
      "Layer (type)                 Output Shape              Param #   \n",
      "=================================================================\n",
      "input_4 (InputLayer)         [(64, None)]              0         \n",
      "_________________________________________________________________\n",
      "embedding_5 (Embedding)      (64, None, 64)            1427328   \n",
      "_________________________________________________________________\n",
      "gru_5 (GRU)                  (64, None, 64)            24960     \n",
      "_________________________________________________________________\n",
      "attention (SeqSelfAttention) (64, None, 64)            4161      \n",
      "_________________________________________________________________\n",
      "global_max_pooling1d_3 (Glob (64, 64)                  0         \n",
      "_________________________________________________________________\n",
      "dense_7 (Dense)              (64, 2)                   130       \n",
      "=================================================================\n",
      "Total params: 1,456,579\n",
      "Trainable params: 1,456,579\n",
      "Non-trainable params: 0\n",
      "_________________________________________________________________\n"
     ]
    }
   ],
   "source": [
    "inp = tf.keras.Input(shape=(None,), batch_size=BATCH_SIZE)\n",
    "emb_output = tf.keras.layers.Embedding(22302, BATCH_SIZE)(inp) # (?,128,32)\n",
    "gru_output = tf.keras.layers.GRU(BATCH_SIZE,return_sequences=True)(emb_output)\n",
    "att_layer_output = SeqSelfAttention(name='attention')(gru_output)  # embbedingレイヤーの後にselfattentionを配置\n",
    "out = tf.keras.layers.GlobalMaxPooling1D()(att_layer_output) # outputのshapeの次元数を落とす(3次元->2次元)\n",
    "output = tf.keras.layers.Dense(2, activation='softmax')(out)  # shape=(?, 41)\n",
    "self_attention_model_max = tf.keras.Model(inp, output)\n",
    "self_attention_model_max.summary()\n",
    "self_attention_model_max.compile(optimizer='adam', loss=tf.keras.losses.CategoricalCrossentropy(), metrics=METRICS)"
   ]
  },
  {
   "cell_type": "markdown",
   "metadata": {},
   "source": [
    "### self-attentionモデル実行"
   ]
  },
  {
   "cell_type": "code",
   "execution_count": 69,
   "metadata": {},
   "outputs": [
    {
     "name": "stdout",
     "output_type": "stream",
     "text": [
      "Epoch 1/14\n",
      "   2/1274 [..............................] - ETA: 2:04 - loss: 0.6864 - tp: 68.0000 - fp: 60.0000 - tn: 68.0000 - fn: 60.0000 - accuracy: 0.5312 - precision: 0.5312 - recall: 0.5312 - auc: 0.7301WARNING:tensorflow:Callbacks method `on_train_batch_end` is slow compared to the batch time (batch time: 0.0416s vs `on_train_batch_end` time: 0.1530s). Check your callbacks.\n",
      "1274/1274 [==============================] - 47s 37ms/step - loss: 0.4334 - tp: 64786.0000 - fp: 16750.0000 - tn: 64786.0000 - fn: 16750.0000 - accuracy: 0.7946 - precision: 0.7946 - recall: 0.7946 - auc: 0.8797 - val_loss: 0.3462 - val_tp: 1617.0000 - val_fp: 303.0000 - val_tn: 1617.0000 - val_fn: 303.0000 - val_accuracy: 0.8422 - val_precision: 0.8422 - val_recall: 0.8422 - val_auc: 0.9253\n",
      "Epoch 2/14\n",
      "1274/1274 [==============================] - 47s 37ms/step - loss: 0.3631 - tp: 67792.0000 - fp: 13744.0000 - tn: 67792.0000 - fn: 13744.0000 - accuracy: 0.8314 - precision: 0.8314 - recall: 0.8314 - auc: 0.9174 - val_loss: 0.3527 - val_tp: 1617.0000 - val_fp: 303.0000 - val_tn: 1617.0000 - val_fn: 303.0000 - val_accuracy: 0.8422 - val_precision: 0.8422 - val_recall: 0.8422 - val_auc: 0.9226\n",
      "Epoch 3/14\n",
      "1274/1274 [==============================] - 47s 37ms/step - loss: 0.3300 - tp: 69304.0000 - fp: 12232.0000 - tn: 69304.0000 - fn: 12232.0000 - accuracy: 0.8500 - precision: 0.8500 - recall: 0.8500 - auc: 0.9325 - val_loss: 0.3710 - val_tp: 1608.0000 - val_fp: 312.0000 - val_tn: 1608.0000 - val_fn: 312.0000 - val_accuracy: 0.8375 - val_precision: 0.8375 - val_recall: 0.8375 - val_auc: 0.9171\n",
      "Epoch 4/14\n",
      "1274/1274 [==============================] - 46s 36ms/step - loss: 0.3011 - tp: 70665.0000 - fp: 10871.0000 - tn: 70665.0000 - fn: 10871.0000 - accuracy: 0.8667 - precision: 0.8667 - recall: 0.8667 - auc: 0.9443 - val_loss: 0.3930 - val_tp: 1599.0000 - val_fp: 321.0000 - val_tn: 1599.0000 - val_fn: 321.0000 - val_accuracy: 0.8328 - val_precision: 0.8328 - val_recall: 0.8328 - val_auc: 0.9108\n",
      "Epoch 5/14\n",
      "1274/1274 [==============================] - 47s 37ms/step - loss: 0.2744 - tp: 71763.0000 - fp: 9773.0000 - tn: 71763.0000 - fn: 9773.0000 - accuracy: 0.8801 - precision: 0.8801 - recall: 0.8801 - auc: 0.9539 - val_loss: 0.4232 - val_tp: 1584.0000 - val_fp: 336.0000 - val_tn: 1584.0000 - val_fn: 336.0000 - val_accuracy: 0.8250 - val_precision: 0.8250 - val_recall: 0.8250 - val_auc: 0.9034\n",
      "Epoch 6/14\n",
      "1274/1274 [==============================] - 47s 37ms/step - loss: 0.2505 - tp: 72672.0000 - fp: 8864.0000 - tn: 72672.0000 - fn: 8864.0000 - accuracy: 0.8913 - precision: 0.8913 - recall: 0.8913 - auc: 0.9617 - val_loss: 0.4597 - val_tp: 1574.0000 - val_fp: 346.0000 - val_tn: 1574.0000 - val_fn: 346.0000 - val_accuracy: 0.8198 - val_precision: 0.8198 - val_recall: 0.8198 - val_auc: 0.8950\n",
      "Epoch 7/14\n",
      "1274/1274 [==============================] - 47s 37ms/step - loss: 0.2305 - tp: 73427.0000 - fp: 8109.0000 - tn: 73427.0000 - fn: 8109.0000 - accuracy: 0.9005 - precision: 0.9005 - recall: 0.9005 - auc: 0.9676 - val_loss: 0.5122 - val_tp: 1543.0000 - val_fp: 377.0000 - val_tn: 1543.0000 - val_fn: 377.0000 - val_accuracy: 0.8036 - val_precision: 0.8036 - val_recall: 0.8036 - val_auc: 0.8841\n",
      "Epoch 8/14\n",
      "1274/1274 [==============================] - 47s 37ms/step - loss: 0.2141 - tp: 74017.0000 - fp: 7519.0000 - tn: 74017.0000 - fn: 7519.0000 - accuracy: 0.9078 - precision: 0.9078 - recall: 0.9078 - auc: 0.9720 - val_loss: 0.5425 - val_tp: 1541.0000 - val_fp: 379.0000 - val_tn: 1541.0000 - val_fn: 379.0000 - val_accuracy: 0.8026 - val_precision: 0.8026 - val_recall: 0.8026 - val_auc: 0.8810\n",
      "Epoch 9/14\n",
      "1274/1274 [==============================] - 47s 36ms/step - loss: 0.2000 - tp: 74486.0000 - fp: 7050.0000 - tn: 74486.0000 - fn: 7050.0000 - accuracy: 0.9135 - precision: 0.9135 - recall: 0.9135 - auc: 0.9755 - val_loss: 0.6188 - val_tp: 1522.0000 - val_fp: 398.0000 - val_tn: 1522.0000 - val_fn: 398.0000 - val_accuracy: 0.7927 - val_precision: 0.7927 - val_recall: 0.7927 - val_auc: 0.8657\n",
      "Epoch 10/14\n",
      "1274/1274 [==============================] - 46s 36ms/step - loss: 0.1921 - tp: 74767.0000 - fp: 6769.0000 - tn: 74767.0000 - fn: 6769.0000 - accuracy: 0.9170 - precision: 0.9170 - recall: 0.9170 - auc: 0.9774 - val_loss: 0.6343 - val_tp: 1532.0000 - val_fp: 388.0000 - val_tn: 1532.0000 - val_fn: 388.0000 - val_accuracy: 0.7979 - val_precision: 0.7979 - val_recall: 0.7979 - val_auc: 0.8674\n",
      "Epoch 11/14\n",
      "1274/1274 [==============================] - 46s 36ms/step - loss: 0.1845 - tp: 74989.0000 - fp: 6547.0000 - tn: 74989.0000 - fn: 6547.0000 - accuracy: 0.9197 - precision: 0.9197 - recall: 0.9197 - auc: 0.9791 - val_loss: 0.6880 - val_tp: 1500.0000 - val_fp: 420.0000 - val_tn: 1500.0000 - val_fn: 420.0000 - val_accuracy: 0.7812 - val_precision: 0.7812 - val_recall: 0.7812 - val_auc: 0.8528\n",
      "Epoch 12/14\n",
      "1274/1274 [==============================] - 47s 36ms/step - loss: 0.1741 - tp: 75315.0000 - fp: 6221.0000 - tn: 75315.0000 - fn: 6221.0000 - accuracy: 0.9237 - precision: 0.9237 - recall: 0.9237 - auc: 0.9814 - val_loss: 0.7328 - val_tp: 1518.0000 - val_fp: 402.0000 - val_tn: 1518.0000 - val_fn: 402.0000 - val_accuracy: 0.7906 - val_precision: 0.7906 - val_recall: 0.7906 - val_auc: 0.8524\n",
      "Epoch 13/14\n",
      "1274/1274 [==============================] - 46s 36ms/step - loss: 0.1661 - tp: 75626.0000 - fp: 5910.0000 - tn: 75626.0000 - fn: 5910.0000 - accuracy: 0.9275 - precision: 0.9275 - recall: 0.9275 - auc: 0.9830 - val_loss: 0.7467 - val_tp: 1510.0000 - val_fp: 410.0000 - val_tn: 1510.0000 - val_fn: 410.0000 - val_accuracy: 0.7865 - val_precision: 0.7865 - val_recall: 0.7865 - val_auc: 0.8527\n",
      "Epoch 14/14\n",
      "1274/1274 [==============================] - 46s 36ms/step - loss: 0.1575 - tp: 75959.0000 - fp: 5577.0000 - tn: 75959.0000 - fn: 5577.0000 - accuracy: 0.9316 - precision: 0.9316 - recall: 0.9316 - auc: 0.9847 - val_loss: 0.8023 - val_tp: 1507.0000 - val_fp: 413.0000 - val_tn: 1507.0000 - val_fn: 413.0000 - val_accuracy: 0.7849 - val_precision: 0.7849 - val_recall: 0.7849 - val_auc: 0.8425\n"
     ]
    }
   ],
   "source": [
    "self_attention_history_max = self_attention_model_max.fit(utter_train_data, epochs=14,\n",
    "                    validation_data=utter_val_data,\n",
    "                    validation_steps=30,\n",
    "                    callbacks=[TensorBoard()])"
   ]
  },
  {
   "cell_type": "markdown",
   "metadata": {},
   "source": [
    "### モデルの評価"
   ]
  },
  {
   "cell_type": "code",
   "execution_count": 70,
   "metadata": {},
   "outputs": [
    {
     "name": "stdout",
     "output_type": "stream",
     "text": [
      "WARNING:tensorflow:Model was constructed with shape (64, None) for input Tensor(\"input_4:0\", shape=(64, None), dtype=float32), but it was called on an input with incompatible shape (32, 27).\n",
      "WARNING:tensorflow:Model was constructed with shape (64, None) for input Tensor(\"input_4:0\", shape=(64, None), dtype=float32), but it was called on an input with incompatible shape (32, 37).\n",
      "WARNING:tensorflow:Model was constructed with shape (64, None) for input Tensor(\"input_4:0\", shape=(64, None), dtype=float32), but it was called on an input with incompatible shape (32, None).\n",
      "9984\n"
     ]
    }
   ],
   "source": [
    "y_test = []\n",
    "y_pred = []\n",
    "for x, y in utter_test_data:\n",
    "    pred = np.argmax(self_attention_model_max.predict(x), axis=1)\n",
    "    for i in np.argmax(y, axis=1):\n",
    "        y_test.append(non_remove_labels[i])\n",
    "    for i in pred:\n",
    "        y_pred.append(non_remove_labels[i])\n",
    "\n",
    "print(len(y_test))"
   ]
  },
  {
   "cell_type": "markdown",
   "metadata": {},
   "source": [
    "#### accuracy & macro平均F値"
   ]
  },
  {
   "cell_type": "code",
   "execution_count": 71,
   "metadata": {},
   "outputs": [
    {
     "name": "stdout",
     "output_type": "stream",
     "text": [
      "              precision    recall  f1-score   support\n",
      "\n",
      "          sd       0.88      0.78      0.83      7128\n",
      "          sv       0.57      0.75      0.65      2856\n",
      "\n",
      "    accuracy                           0.77      9984\n",
      "   macro avg       0.73      0.76      0.74      9984\n",
      "weighted avg       0.80      0.77      0.78      9984\n",
      "\n"
     ]
    }
   ],
   "source": [
    "print(classification_report(y_test, y_pred))"
   ]
  },
  {
   "cell_type": "markdown",
   "metadata": {},
   "source": [
    "#### 混同行列"
   ]
  },
  {
   "cell_type": "code",
   "execution_count": 73,
   "metadata": {},
   "outputs": [
    {
     "data": {
      "image/png": "[encoded data removed]",
      "text/plain": [
       "<Figure size 360x360 with 2 Axes>"
      ]
     },
     "metadata": {
      "needs_background": "light"
     },
     "output_type": "display_data"
    }
   ],
   "source": [
    "attention_cm = confusion_matrix(y_test, y_pred, non_remove_labels)\n",
    "df = pd.DataFrame(attention_cm, index=non_remove_labels, columns=non_remove_labels)\n",
    "plt.figure(figsize=(5, 5))\n",
    "plt.title(\"attention_cm\")\n",
    "plt.ylabel(\"label\")\n",
    "plt.xlabel(\"label\")\n",
    "sns.heatmap(df, annot=True, cmap='Blues')\n",
    "#plt.show()\n",
    "plt.savefig(\"./graph/attention_cm3.png\")"
   ]
  },
  {
   "cell_type": "code",
   "execution_count": 74,
   "metadata": {},
   "outputs": [
    {
     "name": "stdout",
     "output_type": "stream",
     "text": [
      "[[5549 1579]\n",
      " [ 723 2133]]\n"
     ]
    }
   ],
   "source": [
    "print(attention_cm)"
   ]
  },
  {
   "cell_type": "markdown",
   "metadata": {},
   "source": [
    "## self-attention(双方向)"
   ]
  },
  {
   "cell_type": "code",
   "execution_count": 87,
   "metadata": {},
   "outputs": [
    {
     "name": "stdout",
     "output_type": "stream",
     "text": [
      "Model: \"functional_9\"\n",
      "_________________________________________________________________\n",
      "Layer (type)                 Output Shape              Param #   \n",
      "=================================================================\n",
      "input_5 (InputLayer)         [(64, None)]              0         \n",
      "_________________________________________________________________\n",
      "embedding_9 (Embedding)      (64, None, 64)            1427328   \n",
      "_________________________________________________________________\n",
      "bidirectional_2 (Bidirection (64, None, 128)           49920     \n",
      "_________________________________________________________________\n",
      "attention (SeqSelfAttention) (64, None, 128)           8257      \n",
      "_________________________________________________________________\n",
      "global_max_pooling1d_4 (Glob (64, 128)                 0         \n",
      "_________________________________________________________________\n",
      "dense_14 (Dense)             (64, 2)                   258       \n",
      "=================================================================\n",
      "Total params: 1,485,763\n",
      "Trainable params: 1,485,763\n",
      "Non-trainable params: 0\n",
      "_________________________________________________________________\n"
     ]
    }
   ],
   "source": [
    "inp = tf.keras.Input(shape=(None,), batch_size=BATCH_SIZE)\n",
    "emb_output = tf.keras.layers.Embedding(22302, BATCH_SIZE)(inp) # (?,128,32)\n",
    "gru_output = tf.keras.layers.Bidirectional(tf.keras.layers.GRU(BATCH_SIZE,return_sequences=True))(emb_output)\n",
    "att_layer_output = SeqSelfAttention(name='attention')(gru_output)  # embbedingレイヤーの後にselfattentionを配置\n",
    "out = tf.keras.layers.GlobalMaxPooling1D()(att_layer_output) # outputのshapeの次元数を落とす(3次元->2次元)\n",
    "output = tf.keras.layers.Dense(2, activation='softmax')(out)  # shape=(?, 41)\n",
    "self_attention_model_max = tf.keras.Model(inp, output)\n",
    "self_attention_model_max.summary()\n",
    "self_attention_model_max.compile(optimizer='adam', loss=tf.keras.losses.CategoricalCrossentropy(), metrics=METRICS)"
   ]
  },
  {
   "cell_type": "markdown",
   "metadata": {},
   "source": [
    "### モデルの実行"
   ]
  },
  {
   "cell_type": "code",
   "execution_count": 88,
   "metadata": {},
   "outputs": [
    {
     "name": "stdout",
     "output_type": "stream",
     "text": [
      "Epoch 1/14\n",
      "   2/1274 [..............................] - ETA: 3:33 - loss: 0.6475 - tp: 1628.0000 - fp: 420.0000 - tn: 1628.0000 - fn: 420.0000 - accuracy: 0.7949 - precision: 0.7949 - recall: 0.7949 - auc: 0.8367WARNING:tensorflow:Callbacks method `on_train_batch_end` is slow compared to the batch time (batch time: 0.0441s vs `on_train_batch_end` time: 0.2920s). Check your callbacks.\n",
      "1274/1274 [==============================] - 50s 39ms/step - loss: 0.4266 - tp: 66661.0000 - fp: 16795.0000 - tn: 66661.0000 - fn: 16795.0000 - accuracy: 0.7988 - precision: 0.7988 - recall: 0.7988 - auc: 0.8819 - val_loss: 0.3510 - val_tp: 1604.0000 - val_fp: 316.0000 - val_tn: 1604.0000 - val_fn: 316.0000 - val_accuracy: 0.8354 - val_precision: 0.8354 - val_recall: 0.8354 - val_auc: 0.9222\n",
      "Epoch 2/14\n",
      "1274/1274 [==============================] - 49s 39ms/step - loss: 0.3596 - tp: 67912.0000 - fp: 13624.0000 - tn: 67912.0000 - fn: 13624.0000 - accuracy: 0.8329 - precision: 0.8329 - recall: 0.8329 - auc: 0.9190 - val_loss: 0.3663 - val_tp: 1594.0000 - val_fp: 326.0000 - val_tn: 1594.0000 - val_fn: 326.0000 - val_accuracy: 0.8302 - val_precision: 0.8302 - val_recall: 0.8302 - val_auc: 0.9168\n",
      "Epoch 3/14\n",
      "1274/1274 [==============================] - 49s 39ms/step - loss: 0.3258 - tp: 69449.0000 - fp: 12087.0000 - tn: 69449.0000 - fn: 12087.0000 - accuracy: 0.8518 - precision: 0.8518 - recall: 0.8518 - auc: 0.9343 - val_loss: 0.3796 - val_tp: 1590.0000 - val_fp: 330.0000 - val_tn: 1590.0000 - val_fn: 330.0000 - val_accuracy: 0.8281 - val_precision: 0.8281 - val_recall: 0.8281 - val_auc: 0.9145\n",
      "Epoch 4/14\n",
      "1274/1274 [==============================] - 49s 39ms/step - loss: 0.2970 - tp: 70787.0000 - fp: 10749.0000 - tn: 70787.0000 - fn: 10749.0000 - accuracy: 0.8682 - precision: 0.8682 - recall: 0.8682 - auc: 0.9458 - val_loss: 0.3973 - val_tp: 1575.0000 - val_fp: 345.0000 - val_tn: 1575.0000 - val_fn: 345.0000 - val_accuracy: 0.8203 - val_precision: 0.8203 - val_recall: 0.8203 - val_auc: 0.9106\n",
      "Epoch 5/14\n",
      "1274/1274 [==============================] - 49s 39ms/step - loss: 0.2700 - tp: 71981.0000 - fp: 9555.0000 - tn: 71981.0000 - fn: 9555.0000 - accuracy: 0.8828 - precision: 0.8828 - recall: 0.8828 - auc: 0.9554 - val_loss: 0.4166 - val_tp: 1571.0000 - val_fp: 349.0000 - val_tn: 1571.0000 - val_fn: 349.0000 - val_accuracy: 0.8182 - val_precision: 0.8182 - val_recall: 0.8182 - val_auc: 0.9070\n",
      "Epoch 6/14\n",
      "1274/1274 [==============================] - 49s 39ms/step - loss: 0.2450 - tp: 72911.0000 - fp: 8625.0000 - tn: 72911.0000 - fn: 8625.0000 - accuracy: 0.8942 - precision: 0.8942 - recall: 0.8942 - auc: 0.9634 - val_loss: 0.4345 - val_tp: 1563.0000 - val_fp: 357.0000 - val_tn: 1563.0000 - val_fn: 357.0000 - val_accuracy: 0.8141 - val_precision: 0.8141 - val_recall: 0.8141 - val_auc: 0.9031\n",
      "Epoch 7/14\n",
      "1274/1274 [==============================] - 49s 39ms/step - loss: 0.2239 - tp: 73725.0000 - fp: 7811.0000 - tn: 73725.0000 - fn: 7811.0000 - accuracy: 0.9042 - precision: 0.9042 - recall: 0.9042 - auc: 0.9694 - val_loss: 0.4641 - val_tp: 1559.0000 - val_fp: 361.0000 - val_tn: 1559.0000 - val_fn: 361.0000 - val_accuracy: 0.8120 - val_precision: 0.8120 - val_recall: 0.8120 - val_auc: 0.8956\n",
      "Epoch 8/14\n",
      "1274/1274 [==============================] - 49s 39ms/step - loss: 0.2073 - tp: 74322.0000 - fp: 7214.0000 - tn: 74322.0000 - fn: 7214.0000 - accuracy: 0.9115 - precision: 0.9115 - recall: 0.9115 - auc: 0.9738 - val_loss: 0.5032 - val_tp: 1549.0000 - val_fp: 371.0000 - val_tn: 1549.0000 - val_fn: 371.0000 - val_accuracy: 0.8068 - val_precision: 0.8068 - val_recall: 0.8068 - val_auc: 0.8856\n",
      "Epoch 9/14\n",
      "1274/1274 [==============================] - 49s 39ms/step - loss: 0.1947 - tp: 74777.0000 - fp: 6759.0000 - tn: 74777.0000 - fn: 6759.0000 - accuracy: 0.9171 - precision: 0.9171 - recall: 0.9171 - auc: 0.9768 - val_loss: 0.4856 - val_tp: 1564.0000 - val_fp: 356.0000 - val_tn: 1564.0000 - val_fn: 356.0000 - val_accuracy: 0.8146 - val_precision: 0.8146 - val_recall: 0.8146 - val_auc: 0.8956\n",
      "Epoch 10/14\n",
      "1274/1274 [==============================] - 49s 39ms/step - loss: 0.1836 - tp: 75151.0000 - fp: 6385.0000 - tn: 75151.0000 - fn: 6385.0000 - accuracy: 0.9217 - precision: 0.9217 - recall: 0.9217 - auc: 0.9794 - val_loss: 0.5846 - val_tp: 1515.0000 - val_fp: 405.0000 - val_tn: 1515.0000 - val_fn: 405.0000 - val_accuracy: 0.7891 - val_precision: 0.7891 - val_recall: 0.7891 - val_auc: 0.8713\n",
      "Epoch 11/14\n",
      "1274/1274 [==============================] - 49s 39ms/step - loss: 0.1723 - tp: 75550.0000 - fp: 5986.0000 - tn: 75550.0000 - fn: 5986.0000 - accuracy: 0.9266 - precision: 0.9266 - recall: 0.9266 - auc: 0.9818 - val_loss: 0.5840 - val_tp: 1545.0000 - val_fp: 375.0000 - val_tn: 1545.0000 - val_fn: 375.0000 - val_accuracy: 0.8047 - val_precision: 0.8047 - val_recall: 0.8047 - val_auc: 0.8788\n",
      "Epoch 12/14\n",
      "1274/1274 [==============================] - 49s 39ms/step - loss: 0.1641 - tp: 75869.0000 - fp: 5667.0000 - tn: 75869.0000 - fn: 5667.0000 - accuracy: 0.9305 - precision: 0.9305 - recall: 0.9305 - auc: 0.9835 - val_loss: 0.6506 - val_tp: 1535.0000 - val_fp: 385.0000 - val_tn: 1535.0000 - val_fn: 385.0000 - val_accuracy: 0.7995 - val_precision: 0.7995 - val_recall: 0.7995 - val_auc: 0.8672\n",
      "Epoch 13/14\n",
      "1274/1274 [==============================] - 49s 39ms/step - loss: 0.1569 - tp: 76116.0000 - fp: 5420.0000 - tn: 76116.0000 - fn: 5420.0000 - accuracy: 0.9335 - precision: 0.9335 - recall: 0.9335 - auc: 0.9849 - val_loss: 0.6399 - val_tp: 1552.0000 - val_fp: 368.0000 - val_tn: 1552.0000 - val_fn: 368.0000 - val_accuracy: 0.8083 - val_precision: 0.8083 - val_recall: 0.8083 - val_auc: 0.8755\n",
      "Epoch 14/14\n",
      "1274/1274 [==============================] - 49s 39ms/step - loss: 0.1476 - tp: 76435.0000 - fp: 5101.0000 - tn: 76435.0000 - fn: 5101.0000 - accuracy: 0.9374 - precision: 0.9374 - recall: 0.9374 - auc: 0.9866 - val_loss: 0.6923 - val_tp: 1539.0000 - val_fp: 381.0000 - val_tn: 1539.0000 - val_fn: 381.0000 - val_accuracy: 0.8016 - val_precision: 0.8016 - val_recall: 0.8016 - val_auc: 0.8658\n"
     ]
    }
   ],
   "source": [
    "self_attention_history_max = self_attention_model_max.fit(utter_train_data, epochs=14,\n",
    "                    validation_data=utter_val_data,\n",
    "                    validation_steps=30,\n",
    "                    callbacks=[TensorBoard()])"
   ]
  },
  {
   "cell_type": "markdown",
   "metadata": {},
   "source": [
    "### モデルの評価"
   ]
  },
  {
   "cell_type": "code",
   "execution_count": 89,
   "metadata": {},
   "outputs": [
    {
     "name": "stdout",
     "output_type": "stream",
     "text": [
      "WARNING:tensorflow:Model was constructed with shape (64, None) for input Tensor(\"input_5:0\", shape=(64, None), dtype=float32), but it was called on an input with incompatible shape (32, 27).\n",
      "WARNING:tensorflow:Model was constructed with shape (64, None) for input Tensor(\"input_5:0\", shape=(64, None), dtype=float32), but it was called on an input with incompatible shape (32, 37).\n",
      "WARNING:tensorflow:Model was constructed with shape (64, None) for input Tensor(\"input_5:0\", shape=(64, None), dtype=float32), but it was called on an input with incompatible shape (32, None).\n",
      "9984\n"
     ]
    }
   ],
   "source": [
    "y_test = []\n",
    "y_pred = []\n",
    "for x, y in utter_test_data:\n",
    "    pred = np.argmax(self_attention_model_max.predict(x), axis=1)\n",
    "    for i in np.argmax(y, axis=1):\n",
    "        y_test.append(non_remove_labels[i])\n",
    "    for i in pred:\n",
    "        y_pred.append(non_remove_labels[i])\n",
    "\n",
    "print(len(y_test))"
   ]
  },
  {
   "cell_type": "markdown",
   "metadata": {},
   "source": [
    "#### accuracy & macro平均F値"
   ]
  },
  {
   "cell_type": "code",
   "execution_count": 90,
   "metadata": {},
   "outputs": [
    {
     "name": "stdout",
     "output_type": "stream",
     "text": [
      "              precision    recall  f1-score   support\n",
      "\n",
      "          sd       0.88      0.79      0.83      7128\n",
      "          sv       0.58      0.73      0.65      2856\n",
      "\n",
      "    accuracy                           0.77      9984\n",
      "   macro avg       0.73      0.76      0.74      9984\n",
      "weighted avg       0.80      0.77      0.78      9984\n",
      "\n"
     ]
    }
   ],
   "source": [
    "print(classification_report(y_test, y_pred))"
   ]
  },
  {
   "cell_type": "markdown",
   "metadata": {},
   "source": [
    "#### 混同行列"
   ]
  },
  {
   "cell_type": "code",
   "execution_count": 91,
   "metadata": {},
   "outputs": [
    {
     "data": {
      "image/png": "[encoded data removed]",
      "text/plain": [
       "<Figure size 360x360 with 2 Axes>"
      ]
     },
     "metadata": {
      "needs_background": "light"
     },
     "output_type": "display_data"
    }
   ],
   "source": [
    "attention_cm = confusion_matrix(y_test, y_pred, non_remove_labels)\n",
    "df = pd.DataFrame(attention_cm, index=non_remove_labels, columns=non_remove_labels)\n",
    "plt.figure(figsize=(5, 5))\n",
    "plt.title(\"attention_cm\")\n",
    "plt.ylabel(\"label\")\n",
    "plt.xlabel(\"label\")\n",
    "sns.heatmap(df, annot=True, cmap='Blues')\n",
    "#plt.show()\n",
    "plt.savefig(\"./graph/attention_cm3.png\")"
   ]
  },
  {
   "cell_type": "code",
   "execution_count": 92,
   "metadata": {},
   "outputs": [
    {
     "name": "stdout",
     "output_type": "stream",
     "text": [
      "[[5642 1486]\n",
      " [ 765 2091]]\n"
     ]
    }
   ],
   "source": [
    "print(attention_cm)"
   ]
  },
  {
   "cell_type": "code",
   "execution_count": null,
   "metadata": {},
   "outputs": [],
   "source": []
  },
  {
   "cell_type": "markdown",
   "metadata": {},
   "source": [
    "## データ状況"
   ]
  },
  {
   "cell_type": "code",
   "execution_count": null,
   "metadata": {},
   "outputs": [],
   "source": []
  }
 ],
 "metadata": {
  "kernelspec": {
   "display_name": "Python 3",
   "language": "python",
   "name": "python3"
  },
  "language_info": {
   "codemirror_mode": {
    "name": "ipython",
    "version": 3
   },
   "file_extension": ".py",
   "mimetype": "text/x-python",
   "name": "python",
   "nbconvert_exporter": "python",
   "pygments_lexer": "ipython3",
   "version": "3.7.4"
  }
 },
 "nbformat": 4,
 "nbformat_minor": 4
}
